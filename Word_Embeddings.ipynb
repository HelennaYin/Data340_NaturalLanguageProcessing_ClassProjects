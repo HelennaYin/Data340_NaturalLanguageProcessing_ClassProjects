{
  "cells": [
    {
      "cell_type": "markdown",
      "metadata": {
        "id": "UD9ww17AxohJ"
      },
      "source": [
        "# Word Embeddings (Word2Vec, Sent2Vec, and Doc2Vec)\n",
        "\n",
        "In this project, I will implement a semantic search engine using the word2vec algorithm. I will use pre-trained word embeddings and build a search engine that can retrieve documents related to a given query based on semantic similarity.\n",
        "\n"
      ]
    },
    {
      "cell_type": "markdown",
      "metadata": {
        "id": "T3gpupx8xohN"
      },
      "source": [
        "## Dataset\n",
        "\n",
        "The dataset used in this project comes from the StoryGraph project, which is a longitudinal collection of news similarity graphs from 17 US left, center, and right news media organizations. The corpus contains the following columns:\n",
        "\n",
        "- `index` int: The unique identifier of the document.\n",
        "- `source` str: The source of the document\n",
        "- `title` str: The title of the document\n",
        "- `text` str: The content of the article\n",
        "\n",
        "```BibTeX\n",
        "@MISC {nwala-cj20,\n",
        "    author = {Alexander Nwala and Michele C. Weigle and Michael L. Nelson},\n",
        "     title = {365 Dots in 2019: Quantifying Attention of News Sources},\n",
        "     year = {2020},\n",
        "      month = may,\n",
        "     howpublished = {Poster/demo accepted at the Computation + Journalism Symposium (symposium cancelled due to COVID-19)},\n",
        "     arxiv = {https://arxiv.org/abs/2003.09989},\n",
        "     pubdate = {202005}\n",
        "}\n",
        "```"
      ]
    },
    {
      "cell_type": "code",
      "execution_count": null,
      "metadata": {
        "id": "NyHBPIQAxohO"
      },
      "outputs": [],
      "source": [
        "import pandas as pd\n",
        "import numpy as np\n",
        "\n",
        "data_source = 'data/news-2023-02-01.csv'\n",
        "\n",
        "articles = pd.read_csv(data_source)"
      ]
    },
    {
      "cell_type": "markdown",
      "metadata": {
        "id": "tcb2KqpexohP"
      },
      "source": [
        "### Dataset description"
      ]
    },
    {
      "cell_type": "code",
      "execution_count": null,
      "metadata": {
        "colab": {
          "base_uri": "https://localhost:8080/",
          "height": 236
        },
        "id": "lSYTRP0ExohP",
        "outputId": "aa314d0b-9c1b-4389-c943-207706718cec"
      },
      "outputs": [
        {
          "output_type": "execute_result",
          "data": {
            "text/plain": [
              "              source                                              title  \\\n",
              "count          11587                                              11586   \n",
              "unique            20                                                716   \n",
              "top     politicususa  Nicolle Wallace Devastates Trump And Shows Why...   \n",
              "freq             720                                                127   \n",
              "\n",
              "                                                     text  \n",
              "count                                               11419  \n",
              "unique                                               1062  \n",
              "top     Contact Us\\nThis material may not be published...  \n",
              "freq                                                  698  "
            ],
            "text/html": [
              "\n",
              "  <div id=\"df-17aa9615-2f33-420b-9468-26be2f48809d\">\n",
              "    <div class=\"colab-df-container\">\n",
              "      <div>\n",
              "<style scoped>\n",
              "    .dataframe tbody tr th:only-of-type {\n",
              "        vertical-align: middle;\n",
              "    }\n",
              "\n",
              "    .dataframe tbody tr th {\n",
              "        vertical-align: top;\n",
              "    }\n",
              "\n",
              "    .dataframe thead th {\n",
              "        text-align: right;\n",
              "    }\n",
              "</style>\n",
              "<table border=\"1\" class=\"dataframe\">\n",
              "  <thead>\n",
              "    <tr style=\"text-align: right;\">\n",
              "      <th></th>\n",
              "      <th>source</th>\n",
              "      <th>title</th>\n",
              "      <th>text</th>\n",
              "    </tr>\n",
              "  </thead>\n",
              "  <tbody>\n",
              "    <tr>\n",
              "      <th>count</th>\n",
              "      <td>11587</td>\n",
              "      <td>11586</td>\n",
              "      <td>11419</td>\n",
              "    </tr>\n",
              "    <tr>\n",
              "      <th>unique</th>\n",
              "      <td>20</td>\n",
              "      <td>716</td>\n",
              "      <td>1062</td>\n",
              "    </tr>\n",
              "    <tr>\n",
              "      <th>top</th>\n",
              "      <td>politicususa</td>\n",
              "      <td>Nicolle Wallace Devastates Trump And Shows Why...</td>\n",
              "      <td>Contact Us\\nThis material may not be published...</td>\n",
              "    </tr>\n",
              "    <tr>\n",
              "      <th>freq</th>\n",
              "      <td>720</td>\n",
              "      <td>127</td>\n",
              "      <td>698</td>\n",
              "    </tr>\n",
              "  </tbody>\n",
              "</table>\n",
              "</div>\n",
              "      <button class=\"colab-df-convert\" onclick=\"convertToInteractive('df-17aa9615-2f33-420b-9468-26be2f48809d')\"\n",
              "              title=\"Convert this dataframe to an interactive table.\"\n",
              "              style=\"display:none;\">\n",
              "        \n",
              "  <svg xmlns=\"http://www.w3.org/2000/svg\" height=\"24px\"viewBox=\"0 0 24 24\"\n",
              "       width=\"24px\">\n",
              "    <path d=\"M0 0h24v24H0V0z\" fill=\"none\"/>\n",
              "    <path d=\"M18.56 5.44l.94 2.06.94-2.06 2.06-.94-2.06-.94-.94-2.06-.94 2.06-2.06.94zm-11 1L8.5 8.5l.94-2.06 2.06-.94-2.06-.94L8.5 2.5l-.94 2.06-2.06.94zm10 10l.94 2.06.94-2.06 2.06-.94-2.06-.94-.94-2.06-.94 2.06-2.06.94z\"/><path d=\"M17.41 7.96l-1.37-1.37c-.4-.4-.92-.59-1.43-.59-.52 0-1.04.2-1.43.59L10.3 9.45l-7.72 7.72c-.78.78-.78 2.05 0 2.83L4 21.41c.39.39.9.59 1.41.59.51 0 1.02-.2 1.41-.59l7.78-7.78 2.81-2.81c.8-.78.8-2.07 0-2.86zM5.41 20L4 18.59l7.72-7.72 1.47 1.35L5.41 20z\"/>\n",
              "  </svg>\n",
              "      </button>\n",
              "      \n",
              "  <style>\n",
              "    .colab-df-container {\n",
              "      display:flex;\n",
              "      flex-wrap:wrap;\n",
              "      gap: 12px;\n",
              "    }\n",
              "\n",
              "    .colab-df-convert {\n",
              "      background-color: #E8F0FE;\n",
              "      border: none;\n",
              "      border-radius: 50%;\n",
              "      cursor: pointer;\n",
              "      display: none;\n",
              "      fill: #1967D2;\n",
              "      height: 32px;\n",
              "      padding: 0 0 0 0;\n",
              "      width: 32px;\n",
              "    }\n",
              "\n",
              "    .colab-df-convert:hover {\n",
              "      background-color: #E2EBFA;\n",
              "      box-shadow: 0px 1px 2px rgba(60, 64, 67, 0.3), 0px 1px 3px 1px rgba(60, 64, 67, 0.15);\n",
              "      fill: #174EA6;\n",
              "    }\n",
              "\n",
              "    [theme=dark] .colab-df-convert {\n",
              "      background-color: #3B4455;\n",
              "      fill: #D2E3FC;\n",
              "    }\n",
              "\n",
              "    [theme=dark] .colab-df-convert:hover {\n",
              "      background-color: #434B5C;\n",
              "      box-shadow: 0px 1px 3px 1px rgba(0, 0, 0, 0.15);\n",
              "      filter: drop-shadow(0px 1px 2px rgba(0, 0, 0, 0.3));\n",
              "      fill: #FFFFFF;\n",
              "    }\n",
              "  </style>\n",
              "\n",
              "      <script>\n",
              "        const buttonEl =\n",
              "          document.querySelector('#df-17aa9615-2f33-420b-9468-26be2f48809d button.colab-df-convert');\n",
              "        buttonEl.style.display =\n",
              "          google.colab.kernel.accessAllowed ? 'block' : 'none';\n",
              "\n",
              "        async function convertToInteractive(key) {\n",
              "          const element = document.querySelector('#df-17aa9615-2f33-420b-9468-26be2f48809d');\n",
              "          const dataTable =\n",
              "            await google.colab.kernel.invokeFunction('convertToInteractive',\n",
              "                                                     [key], {});\n",
              "          if (!dataTable) return;\n",
              "\n",
              "          const docLinkHtml = 'Like what you see? Visit the ' +\n",
              "            '<a target=\"_blank\" href=https://colab.research.google.com/notebooks/data_table.ipynb>data table notebook</a>'\n",
              "            + ' to learn more about interactive tables.';\n",
              "          element.innerHTML = '';\n",
              "          dataTable['output_type'] = 'display_data';\n",
              "          await google.colab.output.renderOutput(dataTable, element);\n",
              "          const docLink = document.createElement('div');\n",
              "          docLink.innerHTML = docLinkHtml;\n",
              "          element.appendChild(docLink);\n",
              "        }\n",
              "      </script>\n",
              "    </div>\n",
              "  </div>\n",
              "  "
            ]
          },
          "metadata": {},
          "execution_count": 12
        }
      ],
      "source": [
        "articles.describe()"
      ]
    },
    {
      "cell_type": "markdown",
      "metadata": {
        "id": "BuBMfmclxohQ"
      },
      "source": [
        "## Preprocessing\n",
        "\n",
        "Clean, deduplicate, and tokenize the documents. You should be able to repurpose your code from the EDA assignment to do this."
      ]
    },
    {
      "cell_type": "code",
      "source": [
        "articles.head(10)"
      ],
      "metadata": {
        "colab": {
          "base_uri": "https://localhost:8080/",
          "height": 528
        },
        "id": "Hv37b8cmJ0Sj",
        "outputId": "69f27d12-cf0e-4d35-9ee9-c7bc8ef1876c"
      },
      "execution_count": null,
      "outputs": [
        {
          "output_type": "execute_result",
          "data": {
            "text/plain": [
              "         source                                              title  \\\n",
              "0  politicususa  Prosecutors Pay Attention: Stormy Daniels Than...   \n",
              "1  politicususa  Investigators Push For Access To Trump Staff C...   \n",
              "2  politicususa  The End Is Near For George Santos As He Steps ...   \n",
              "3  politicususa  Rachel Maddow Cuts Trump To The Bone With Stor...   \n",
              "4           vox  Alec Baldwin has been formally charged with in...   \n",
              "5           vox  What layoffs at Google and other tech companie...   \n",
              "6           vox  Did Republican Representative-elect George San...   \n",
              "7           vox  Sundance 2023: 17 movies to watch out for this...   \n",
              "8      huffpost  Watch Trump Give Deposition In New York Civil ...   \n",
              "9      huffpost  Ron DeSantis Plans To Defund Diversity Program...   \n",
              "\n",
              "                                                text  \n",
              "0  Manhattan prosecutors are likely to notice tha...  \n",
              "1  Print\\nInvestigators looking into Donald Trump...  \n",
              "2  The AP reported:\\nRepublican Rep. George Santo...  \n",
              "3  Rachel Maddow showed how Trump committed a cri...  \n",
              "4  Candles are placed in front of a photo of cine...  \n",
              "5  The path forward for tech workers won’t be eas...  \n",
              "6  New York Representative-elect George Santos sp...  \n",
              "7  Chiwetel Ejiofor and Emilia Clarke in The Pod ...  \n",
              "8  Watch Trump Give Deposition In New York Civil ...  \n",
              "9  Politics Florida Ron DeSantis higher education...  "
            ],
            "text/html": [
              "\n",
              "  <div id=\"df-8a2a1cef-8ace-48a9-9b99-253ddb4a2149\">\n",
              "    <div class=\"colab-df-container\">\n",
              "      <div>\n",
              "<style scoped>\n",
              "    .dataframe tbody tr th:only-of-type {\n",
              "        vertical-align: middle;\n",
              "    }\n",
              "\n",
              "    .dataframe tbody tr th {\n",
              "        vertical-align: top;\n",
              "    }\n",
              "\n",
              "    .dataframe thead th {\n",
              "        text-align: right;\n",
              "    }\n",
              "</style>\n",
              "<table border=\"1\" class=\"dataframe\">\n",
              "  <thead>\n",
              "    <tr style=\"text-align: right;\">\n",
              "      <th></th>\n",
              "      <th>source</th>\n",
              "      <th>title</th>\n",
              "      <th>text</th>\n",
              "    </tr>\n",
              "  </thead>\n",
              "  <tbody>\n",
              "    <tr>\n",
              "      <th>0</th>\n",
              "      <td>politicususa</td>\n",
              "      <td>Prosecutors Pay Attention: Stormy Daniels Than...</td>\n",
              "      <td>Manhattan prosecutors are likely to notice tha...</td>\n",
              "    </tr>\n",
              "    <tr>\n",
              "      <th>1</th>\n",
              "      <td>politicususa</td>\n",
              "      <td>Investigators Push For Access To Trump Staff C...</td>\n",
              "      <td>Print\\nInvestigators looking into Donald Trump...</td>\n",
              "    </tr>\n",
              "    <tr>\n",
              "      <th>2</th>\n",
              "      <td>politicususa</td>\n",
              "      <td>The End Is Near For George Santos As He Steps ...</td>\n",
              "      <td>The AP reported:\\nRepublican Rep. George Santo...</td>\n",
              "    </tr>\n",
              "    <tr>\n",
              "      <th>3</th>\n",
              "      <td>politicususa</td>\n",
              "      <td>Rachel Maddow Cuts Trump To The Bone With Stor...</td>\n",
              "      <td>Rachel Maddow showed how Trump committed a cri...</td>\n",
              "    </tr>\n",
              "    <tr>\n",
              "      <th>4</th>\n",
              "      <td>vox</td>\n",
              "      <td>Alec Baldwin has been formally charged with in...</td>\n",
              "      <td>Candles are placed in front of a photo of cine...</td>\n",
              "    </tr>\n",
              "    <tr>\n",
              "      <th>5</th>\n",
              "      <td>vox</td>\n",
              "      <td>What layoffs at Google and other tech companie...</td>\n",
              "      <td>The path forward for tech workers won’t be eas...</td>\n",
              "    </tr>\n",
              "    <tr>\n",
              "      <th>6</th>\n",
              "      <td>vox</td>\n",
              "      <td>Did Republican Representative-elect George San...</td>\n",
              "      <td>New York Representative-elect George Santos sp...</td>\n",
              "    </tr>\n",
              "    <tr>\n",
              "      <th>7</th>\n",
              "      <td>vox</td>\n",
              "      <td>Sundance 2023: 17 movies to watch out for this...</td>\n",
              "      <td>Chiwetel Ejiofor and Emilia Clarke in The Pod ...</td>\n",
              "    </tr>\n",
              "    <tr>\n",
              "      <th>8</th>\n",
              "      <td>huffpost</td>\n",
              "      <td>Watch Trump Give Deposition In New York Civil ...</td>\n",
              "      <td>Watch Trump Give Deposition In New York Civil ...</td>\n",
              "    </tr>\n",
              "    <tr>\n",
              "      <th>9</th>\n",
              "      <td>huffpost</td>\n",
              "      <td>Ron DeSantis Plans To Defund Diversity Program...</td>\n",
              "      <td>Politics Florida Ron DeSantis higher education...</td>\n",
              "    </tr>\n",
              "  </tbody>\n",
              "</table>\n",
              "</div>\n",
              "      <button class=\"colab-df-convert\" onclick=\"convertToInteractive('df-8a2a1cef-8ace-48a9-9b99-253ddb4a2149')\"\n",
              "              title=\"Convert this dataframe to an interactive table.\"\n",
              "              style=\"display:none;\">\n",
              "        \n",
              "  <svg xmlns=\"http://www.w3.org/2000/svg\" height=\"24px\"viewBox=\"0 0 24 24\"\n",
              "       width=\"24px\">\n",
              "    <path d=\"M0 0h24v24H0V0z\" fill=\"none\"/>\n",
              "    <path d=\"M18.56 5.44l.94 2.06.94-2.06 2.06-.94-2.06-.94-.94-2.06-.94 2.06-2.06.94zm-11 1L8.5 8.5l.94-2.06 2.06-.94-2.06-.94L8.5 2.5l-.94 2.06-2.06.94zm10 10l.94 2.06.94-2.06 2.06-.94-2.06-.94-.94-2.06-.94 2.06-2.06.94z\"/><path d=\"M17.41 7.96l-1.37-1.37c-.4-.4-.92-.59-1.43-.59-.52 0-1.04.2-1.43.59L10.3 9.45l-7.72 7.72c-.78.78-.78 2.05 0 2.83L4 21.41c.39.39.9.59 1.41.59.51 0 1.02-.2 1.41-.59l7.78-7.78 2.81-2.81c.8-.78.8-2.07 0-2.86zM5.41 20L4 18.59l7.72-7.72 1.47 1.35L5.41 20z\"/>\n",
              "  </svg>\n",
              "      </button>\n",
              "      \n",
              "  <style>\n",
              "    .colab-df-container {\n",
              "      display:flex;\n",
              "      flex-wrap:wrap;\n",
              "      gap: 12px;\n",
              "    }\n",
              "\n",
              "    .colab-df-convert {\n",
              "      background-color: #E8F0FE;\n",
              "      border: none;\n",
              "      border-radius: 50%;\n",
              "      cursor: pointer;\n",
              "      display: none;\n",
              "      fill: #1967D2;\n",
              "      height: 32px;\n",
              "      padding: 0 0 0 0;\n",
              "      width: 32px;\n",
              "    }\n",
              "\n",
              "    .colab-df-convert:hover {\n",
              "      background-color: #E2EBFA;\n",
              "      box-shadow: 0px 1px 2px rgba(60, 64, 67, 0.3), 0px 1px 3px 1px rgba(60, 64, 67, 0.15);\n",
              "      fill: #174EA6;\n",
              "    }\n",
              "\n",
              "    [theme=dark] .colab-df-convert {\n",
              "      background-color: #3B4455;\n",
              "      fill: #D2E3FC;\n",
              "    }\n",
              "\n",
              "    [theme=dark] .colab-df-convert:hover {\n",
              "      background-color: #434B5C;\n",
              "      box-shadow: 0px 1px 3px 1px rgba(0, 0, 0, 0.15);\n",
              "      filter: drop-shadow(0px 1px 2px rgba(0, 0, 0, 0.3));\n",
              "      fill: #FFFFFF;\n",
              "    }\n",
              "  </style>\n",
              "\n",
              "      <script>\n",
              "        const buttonEl =\n",
              "          document.querySelector('#df-8a2a1cef-8ace-48a9-9b99-253ddb4a2149 button.colab-df-convert');\n",
              "        buttonEl.style.display =\n",
              "          google.colab.kernel.accessAllowed ? 'block' : 'none';\n",
              "\n",
              "        async function convertToInteractive(key) {\n",
              "          const element = document.querySelector('#df-8a2a1cef-8ace-48a9-9b99-253ddb4a2149');\n",
              "          const dataTable =\n",
              "            await google.colab.kernel.invokeFunction('convertToInteractive',\n",
              "                                                     [key], {});\n",
              "          if (!dataTable) return;\n",
              "\n",
              "          const docLinkHtml = 'Like what you see? Visit the ' +\n",
              "            '<a target=\"_blank\" href=https://colab.research.google.com/notebooks/data_table.ipynb>data table notebook</a>'\n",
              "            + ' to learn more about interactive tables.';\n",
              "          element.innerHTML = '';\n",
              "          dataTable['output_type'] = 'display_data';\n",
              "          await google.colab.output.renderOutput(dataTable, element);\n",
              "          const docLink = document.createElement('div');\n",
              "          docLink.innerHTML = docLinkHtml;\n",
              "          element.appendChild(docLink);\n",
              "        }\n",
              "      </script>\n",
              "    </div>\n",
              "  </div>\n",
              "  "
            ]
          },
          "metadata": {},
          "execution_count": 13
        }
      ]
    },
    {
      "cell_type": "code",
      "execution_count": null,
      "metadata": {
        "id": "n0DruU3ExohR"
      },
      "outputs": [],
      "source": [
        "data_drop = articles.drop_duplicates()"
      ]
    },
    {
      "cell_type": "code",
      "source": [
        "data_clean = data_drop.dropna()"
      ],
      "metadata": {
        "id": "IHP_Ouu9N9qQ"
      },
      "execution_count": null,
      "outputs": []
    },
    {
      "cell_type": "code",
      "source": [
        "data_clean['title'] = data_clean['title'].str.lower()\n",
        "data_clean['text'] = data_clean['text'].str.lower()"
      ],
      "metadata": {
        "id": "l2HKzCMlOIVH",
        "outputId": "97c18907-e253-4fc2-dd92-8a070de945f9",
        "colab": {
          "base_uri": "https://localhost:8080/"
        }
      },
      "execution_count": null,
      "outputs": [
        {
          "output_type": "stream",
          "name": "stderr",
          "text": [
            "<ipython-input-16-49d5f4b94086>:1: SettingWithCopyWarning: \n",
            "A value is trying to be set on a copy of a slice from a DataFrame.\n",
            "Try using .loc[row_indexer,col_indexer] = value instead\n",
            "\n",
            "See the caveats in the documentation: https://pandas.pydata.org/pandas-docs/stable/user_guide/indexing.html#returning-a-view-versus-a-copy\n",
            "  data_clean['title'] = data_clean['title'].str.lower()\n",
            "<ipython-input-16-49d5f4b94086>:2: SettingWithCopyWarning: \n",
            "A value is trying to be set on a copy of a slice from a DataFrame.\n",
            "Try using .loc[row_indexer,col_indexer] = value instead\n",
            "\n",
            "See the caveats in the documentation: https://pandas.pydata.org/pandas-docs/stable/user_guide/indexing.html#returning-a-view-versus-a-copy\n",
            "  data_clean['text'] = data_clean['text'].str.lower()\n"
          ]
        }
      ]
    },
    {
      "cell_type": "code",
      "source": [
        "#tokenize\n",
        "import spacy\n",
        "tokens = []\n",
        "NLP = spacy.load('en_core_web_sm')\n",
        "for index, row in data_clean.iterrows():\n",
        "    spacy_tokens = [token.text for token in NLP(row[2])]\n",
        "    tokens.append(spacy_tokens)\n",
        "data_clean['token'] = tokens"
      ],
      "metadata": {
        "colab": {
          "base_uri": "https://localhost:8080/"
        },
        "id": "rSb_ylFAvt2O",
        "outputId": "1dd2a46e-014b-4734-b1ba-41292f2adb61"
      },
      "execution_count": null,
      "outputs": [
        {
          "output_type": "stream",
          "name": "stderr",
          "text": [
            "<ipython-input-17-d7b881dffd60>:8: SettingWithCopyWarning: \n",
            "A value is trying to be set on a copy of a slice from a DataFrame.\n",
            "Try using .loc[row_indexer,col_indexer] = value instead\n",
            "\n",
            "See the caveats in the documentation: https://pandas.pydata.org/pandas-docs/stable/user_guide/indexing.html#returning-a-view-versus-a-copy\n",
            "  data_clean['token'] = tokens\n"
          ]
        }
      ]
    },
    {
      "cell_type": "code",
      "source": [
        "data_clean.to_csv('data.csv', index = False)"
      ],
      "metadata": {
        "id": "NoiVlNIfpknk"
      },
      "execution_count": null,
      "outputs": []
    },
    {
      "cell_type": "markdown",
      "metadata": {
        "id": "BP0y715AxohR"
      },
      "source": [
        "## Word embeddings\n",
        "\n"
      ]
    },
    {
      "cell_type": "markdown",
      "source": [
        "## Word2Vec"
      ],
      "metadata": {
        "id": "EnaEUab6sHtx"
      }
    },
    {
      "cell_type": "code",
      "execution_count": null,
      "metadata": {
        "id": "v0zyTjlexohS"
      },
      "outputs": [],
      "source": [
        "import gensim\n",
        "import gensim.downloader\n",
        "from gensim.models import Word2Vec\n",
        "from gensim.models import KeyedVectors"
      ]
    },
    {
      "cell_type": "code",
      "source": [
        "training_data = data_clean['token'].values"
      ],
      "metadata": {
        "id": "PyiZDCil13DS"
      },
      "execution_count": null,
      "outputs": []
    },
    {
      "cell_type": "code",
      "source": [
        "#download google news 300 embeddings\n",
        "model = gensim.downloader.load('word2vec-google-news-300')\n",
        "model.save('word2vec.model')"
      ],
      "metadata": {
        "colab": {
          "base_uri": "https://localhost:8080/"
        },
        "id": "isXmOH6sjaFR",
        "outputId": "a65c6b6e-eefb-4e77-d37f-e03ad947afe6"
      },
      "execution_count": null,
      "outputs": [
        {
          "output_type": "stream",
          "name": "stdout",
          "text": [
            "[==================================================] 100.0% 1662.8/1662.8MB downloaded\n"
          ]
        }
      ]
    },
    {
      "cell_type": "code",
      "source": [
        "model"
      ],
      "metadata": {
        "colab": {
          "base_uri": "https://localhost:8080/"
        },
        "id": "OHQmGOjrolDJ",
        "outputId": "5f072f17-c1c8-42b3-b4d9-4849667e53c4"
      },
      "execution_count": null,
      "outputs": [
        {
          "output_type": "execute_result",
          "data": {
            "text/plain": [
              "<gensim.models.keyedvectors.KeyedVectors at 0x7f1d58de3c40>"
            ]
          },
          "metadata": {},
          "execution_count": 9
        }
      ]
    },
    {
      "cell_type": "code",
      "source": [
        "word2vec_model = KeyedVectors.load('/content/word2vec.model')"
      ],
      "metadata": {
        "id": "aJR2r4-8NDIf"
      },
      "execution_count": null,
      "outputs": []
    },
    {
      "cell_type": "code",
      "source": [
        "def vectorize_doc(doc):\n",
        "    #words = doc.split()\n",
        "    word_vecs = [word2vec_model[word] for word in doc if word in word2vec_model]\n",
        "    return np.array(word_vecs).mean(axis=0) if word_vecs else np.zeros(word2vec_model.vector_size)\n",
        "\n",
        "\n",
        "data_clean['vector'] = data_clean['token'].apply(vectorize_doc)"
      ],
      "metadata": {
        "colab": {
          "base_uri": "https://localhost:8080/"
        },
        "id": "NgOELk13pKjo",
        "outputId": "ccfda786-d554-4773-ed9e-4d94b4300560"
      },
      "execution_count": null,
      "outputs": [
        {
          "output_type": "stream",
          "name": "stderr",
          "text": [
            "<ipython-input-51-48b9229df340>:7: SettingWithCopyWarning: \n",
            "A value is trying to be set on a copy of a slice from a DataFrame.\n",
            "Try using .loc[row_indexer,col_indexer] = value instead\n",
            "\n",
            "See the caveats in the documentation: https://pandas.pydata.org/pandas-docs/stable/user_guide/indexing.html#returning-a-view-versus-a-copy\n",
            "  data_clean['vector'] = data_clean['token'].apply(vectorize_doc)\n"
          ]
        }
      ]
    },
    {
      "cell_type": "markdown",
      "metadata": {
        "id": "8zKnjZUpxohS"
      },
      "source": [
        "## Search engine\n"
      ]
    },
    {
      "cell_type": "code",
      "source": [
        "from sklearn.metrics.pairwise import cosine_similarity"
      ],
      "metadata": {
        "id": "jAnSqasbsZaC"
      },
      "execution_count": null,
      "outputs": []
    },
    {
      "cell_type": "code",
      "source": [
        "def vectorize_doc1(doc):\n",
        "    words = doc.split()\n",
        "    word_vecs = [word2vec_model[word] for word in words if word in word2vec_model]\n",
        "    return np.mean(word_vecs, axis=0) if word_vecs else np.zeros(word2vec_model.vector_size)"
      ],
      "metadata": {
        "id": "Z3E2xvAvy5V0"
      },
      "execution_count": null,
      "outputs": []
    },
    {
      "cell_type": "code",
      "source": [
        "def search(query):\n",
        "    query_vector = vectorize_doc1(query)\n",
        "    similarities= data_clean['vector'].apply(lambda x: cosine_similarity([x], [query_vector]))\n",
        "    df_similarities = pd.DataFrame({'document': data_clean['text'], 'similarity': similarities})\n",
        "    return df_similarities.sort_values('similarity', ascending=False)"
      ],
      "metadata": {
        "id": "ZM2bb6eEsmwt"
      },
      "execution_count": null,
      "outputs": []
    },
    {
      "cell_type": "code",
      "source": [
        "stext = np.array2string(data_clean.sample(1)['text'].values)"
      ],
      "metadata": {
        "id": "SA_k-jlA07Q1"
      },
      "execution_count": null,
      "outputs": []
    },
    {
      "cell_type": "code",
      "source": [
        "stext"
      ],
      "metadata": {
        "colab": {
          "base_uri": "https://localhost:8080/",
          "height": 226
        },
        "id": "vM7ixh1P1T79",
        "outputId": "39b2980c-2f1c-4433-f02f-2cdd63e3889d"
      },
      "execution_count": null,
      "outputs": [
        {
          "output_type": "execute_result",
          "data": {
            "text/plain": [
              "'[\"then-president donald trump announces that he has accepted the resignation of nikki haley as u.s. ambassador to the united nations in the oval office on oct. 9, 2018, in washington, d.c. (mark wilson / getty images)\\\\nnikki haley set to announce presidential bid, but first she called trump - he had 4 words\\\\nby lorri wickenhauser february 1, 2023 at 3:27pm\\\\nmoreshare\\\\nformer south carolina gov. nikki haley is expected to announce her 2024 presidential candidacy soon, according to reports.\\\\n“cementing what has been in the works for months … haley will formally announce she is running for president and will seek the republican nomination for her party’s 2024 ticket, ” charleston’s post and courier reported.\\\\nless than a year ago, haley, who was u.s. ambassador to the united nations under president donald trump, was quoted as saying she would not run for president against her former boss.\\\\nadvertisement - story continues below\\\\n“i would not run if president trump ran,” she told reporters at the time, “and i would talk to him about it.”\\\\nnikki haley last april:\\\\n— greg price (@greg_price11) february 1, 2023\\\\ntrending:\\\\nevidently, she now has trump’s blessing to pursue the presidency.\\\\nadvertisement - story continues below\\\\nin a conversation with reporters aboard his plane on a campaign trip saturday, trump said, “she called me and said she’d like to consider it, and i said, ‘you should do it,\\'” according to cbs news .\\\\n“i talked to her for a little while,” trump told reporters. “i said, ‘look, you know, go by your heart if you want to run.\\'”\\\\nwould you support haley for president?\\\\nyes\\\\nno\\\\ncompleting this poll entitles you to the western journal news updates free of charge. you may opt out at anytime. you also agree to our privacy policy and terms of use .\\\\nyes: 0% (0 votes)\\\\nno: 0% (0 votes)\\\\ninvitations are going out to haley’s backers to attend a “special announcement” on feb. 15 in charleston, the post and courier reported.\\\\nin a fox news interview last month, haley hinted at her change of heart about running for president.\\\\n“well, when you’re looking at a run for president, you look at two things. you first look at, does the current situation push for new leadership? the second question is, am i that person that could be that new leader?” she said.\\\\nadvertisement - story continues below\\\\nhaley said she considered the current state of inflation , foreign policy, small businesses struggling and big government getting bigger, and decided the answer was yes.\\\\nrelated:\\\\nwhite house accused of \\'dishonesty and evasiveness\\' as biden physical is delayed yet again\\\\n“can i be that leader? yes, i think i can be that leader,” haley said.\\\\n“i think it’s time for new generational change,” haley told fox. “i don’t think you need to be 80 years old to go be a leader in d.c. … i think we need a young generation to come in, step up, and really start fixing things.”\\\\nadvertisement - story continues below\\\\nshe repeated a line she has said before regarding her chances of success.\\\\n“i’ve never lost a race,” she told fox. “i said that then; i still say that now. i’m not going to lose now.”\\\\ntruth and accuracy\\\\n\"]'"
            ],
            "application/vnd.google.colaboratory.intrinsic+json": {
              "type": "string"
            }
          },
          "metadata": {},
          "execution_count": 71
        }
      ]
    },
    {
      "cell_type": "code",
      "source": [
        "similar_docs = search(stext).head(10)"
      ],
      "metadata": {
        "id": "jTCckwwBvX4N"
      },
      "execution_count": null,
      "outputs": []
    },
    {
      "cell_type": "code",
      "source": [
        "from IPython.display import Markdown\n",
        "for i, row in similar_docs.head(10).iterrows():\n",
        "    print(f\"Similarity score for document {i+1}: {row['similarity']}\")\n",
        "    display(Markdown(f\"<p>{row['document']}</p>\"))"
      ],
      "metadata": {
        "colab": {
          "base_uri": "https://localhost:8080/",
          "height": 1000
        },
        "id": "yZxUw5ul2nkz",
        "outputId": "a488ed7b-b6d7-4470-85ac-79c5f55cb5c3"
      },
      "execution_count": null,
      "outputs": [
        {
          "output_type": "stream",
          "name": "stdout",
          "text": [
            "Similarity score for document 11160: [[0.9922001]]\n"
          ]
        },
        {
          "output_type": "display_data",
          "data": {
            "text/plain": [
              "<IPython.core.display.Markdown object>"
            ],
            "text/markdown": "<p>then-president donald trump announces that he has accepted the resignation of nikki haley as u.s. ambassador to the united nations in the oval office on oct. 9, 2018, in washington, d.c. (mark wilson / getty images)\nnikki haley set to announce presidential bid, but first she called trump - he had 4 words\nby lorri wickenhauser february 1, 2023 at 3:27pm\nmoreshare\nformer south carolina gov. nikki haley is expected to announce her 2024 presidential candidacy soon, according to reports.\n“cementing what has been in the works for months … haley will formally announce she is running for president and will seek the republican nomination for her party’s 2024 ticket, ” charleston’s post and courier reported.\nless than a year ago, haley, who was u.s. ambassador to the united nations under president donald trump, was quoted as saying she would not run for president against her former boss.\nadvertisement - story continues below\n“i would not run if president trump ran,” she told reporters at the time, “and i would talk to him about it.”\nnikki haley last april:\n— greg price (@greg_price11) february 1, 2023\ntrending:\nevidently, she now has trump’s blessing to pursue the presidency.\nadvertisement - story continues below\nin a conversation with reporters aboard his plane on a campaign trip saturday, trump said, “she called me and said she’d like to consider it, and i said, ‘you should do it,'” according to cbs news .\n“i talked to her for a little while,” trump told reporters. “i said, ‘look, you know, go by your heart if you want to run.'”\nwould you support haley for president?\nyes\nno\ncompleting this poll entitles you to the western journal news updates free of charge. you may opt out at anytime. you also agree to our privacy policy and terms of use .\nyes: 11% (2 votes)\nno: 89% (16 votes)\ninvitations are going out to haley’s backers to attend a “special announcement” on feb. 15 in charleston, the post and courier reported.\nin a fox news interview last month, haley hinted at her change of heart about running for president.\n“well, when you’re looking at a run for president, you look at two things. you first look at, does the current situation push for new leadership? the second question is, am i that person that could be that new leader?” she said.\nadvertisement - story continues below\nhaley said she considered the current state of inflation , foreign policy, small businesses struggling and big government getting bigger, and decided the answer was yes.\nrelated:\nwhite house accused of 'dishonesty and evasiveness' as biden physical is delayed yet again\n“can i be that leader? yes, i think i can be that leader,” haley said.\n“i think it’s time for new generational change,” haley told fox. “i don’t think you need to be 80 years old to go be a leader in d.c. … i think we need a young generation to come in, step up, and really start fixing things.”\nadvertisement - story continues below\nshe repeated a line she has said before regarding her chances of success.\n“i’ve never lost a race,” she told fox. “i said that then; i still say that now. i’m not going to lose now.”\ntruth and accuracy\n</p>"
          },
          "metadata": {}
        },
        {
          "output_type": "stream",
          "name": "stdout",
          "text": [
            "Similarity score for document 11480: [[0.9907536]]\n"
          ]
        },
        {
          "output_type": "display_data",
          "data": {
            "text/plain": [
              "<IPython.core.display.Markdown object>"
            ],
            "text/markdown": "<p>then-president donald trump announces that he has accepted the resignation of nikki haley as u.s. ambassador to the united nations in the oval office on oct. 9, 2018, in washington, d.c. (mark wilson / getty images)\nnikki haley set to announce presidential bid, but first she called trump - he had 4 words\nby lorri wickenhauser february 1, 2023 at 3:27pm\nmoreshare\nformer south carolina gov. nikki haley is expected to announce her 2024 presidential candidacy soon, according to reports.\n“cementing what has been in the works for months … haley will formally announce she is running for president and will seek the republican nomination for her party’s 2024 ticket, ” charleston’s post and courier reported.\nless than a year ago, haley, who was u.s. ambassador to the united nations under president donald trump, was quoted as saying she would not run for president against her former boss.\nadvertisement - story continues below\n“i would not run if president trump ran,” she told reporters at the time, “and i would talk to him about it.”\nnikki haley last april:\n— greg price (@greg_price11) february 1, 2023\ntrending:\nevidently, she now has trump’s blessing to pursue the presidency.\nadvertisement - story continues below\nin a conversation with reporters aboard his plane on a campaign trip saturday, trump said, “she called me and said she’d like to consider it, and i said, ‘you should do it,'” according to cbs news .\n“i talked to her for a little while,” trump told reporters. “i said, ‘look, you know, go by your heart if you want to run.'”\nwould you support haley for president?\nyes\nno\ncompleting this poll entitles you to the western journal news updates free of charge. you may opt out at anytime. you also agree to our privacy policy and terms of use .\nyes: 0% (0 votes)\nno: 0% (0 votes)\ninvitations are going out to haley’s backers to attend a “special announcement” on feb. 15 in charleston, the post and courier reported.\nin a fox news interview last month, haley hinted at her change of heart about running for president.\n“well, when you’re looking at a run for president, you look at two things. you first look at, does the current situation push for new leadership? the second question is, am i that person that could be that new leader?” she said.\nadvertisement - story continues below\nhaley said she considered the current state of inflation , foreign policy, small businesses struggling and big government getting bigger, and decided the answer was yes.\nrelated:\nwhite house accused of 'dishonesty and evasiveness' as biden physical is delayed yet again\n“can i be that leader? yes, i think i can be that leader,” haley said.\n“i think it’s time for new generational change,” haley told fox. “i don’t think you need to be 80 years old to go be a leader in d.c. … i think we need a young generation to come in, step up, and really start fixing things.”\nadvertisement - story continues below\nshe repeated a line she has said before regarding her chances of success.\n“i’ve never lost a race,” she told fox. “i said that then; i still say that now. i’m not going to lose now.”\ntruth and accuracy\n</p>"
          },
          "metadata": {}
        },
        {
          "output_type": "stream",
          "name": "stdout",
          "text": [
            "Similarity score for document 6734: [[0.9743142]]\n"
          ]
        },
        {
          "output_type": "display_data",
          "data": {
            "text/plain": [
              "<IPython.core.display.Markdown object>"
            ],
            "text/markdown": "<p>jordan dixon-hamilton\n31 jan 2023\nformer u.n. ambassador nikki haley is entering the 2024 presidential race and will formally announce her candidacy on february 15, according to south carolina’s post and courier.\nhaley is reportedly sending her backers invitations for a “special announcement” that will take place at the shed downtown at the charleston visitor center in downtown charleston where she will officially launch her candidacy.\na “member of haley’s inner circle” confirmed haley’s entrance into the 2024 race, the post and courier reported .\nthe report about haley’s presidential announcement came less than two weeks after she told fox news’s bret baier she believes she could be the leader to push america into a “new direction.”\n“when you’re looking at a run for president, you look at two things: you first look at, does the current situation push for new leadership? the second question is, ‘am i that person that could be that new leader?’” haley said .\nhaley is following former president donald trump’s lead and will be the second republican to enter the upcoming presidential race.\npresident donald trump meets with outgoing u.s. ambassador to the united nations nikki haley in the oval office of the white house, tuesday, oct. 9, 2018, in washington. (ap photo/evan vucci)\nthe report also follows a revelation that haley “played” trump’s former chief of staff and plotted with jared kushner and ivanka trump to become trump’s vice president, according to mike pompeo’s new memoir.\nhowever, haley dismissed pompeo’s claims as “lies and gossip to sell a book.”\ninterestingly, haley previously claimed she would not run for office if trump announced his third bid for the white house.\n“i would not run if president trump ran, and i would talk to him about it,” haley said in 2021. “that’s something we’ll have a conversation about at some point, if that decision is something that has to be made.”\nit appears a conversation between haley and trump did occur before news of haley’s presidential candidacy broke. over a weekend trip on the campaign trail, which included a stop in haley’s home state of south carolina, trump said haley called him and spoke about her upcoming candidacy, which he encouraged.”\n“i talked to her for a little while. i said, ‘look, you know, go by your heart if you want to run,’” trump said . “she called me and said she’d like to consider it, and i said you should do it.”\njordan dixon-hamilton is a reporter for breitbart news. write to him at jdixonhamilton@breitbart.com or follow him on twitter .\n</p>"
          },
          "metadata": {}
        },
        {
          "output_type": "stream",
          "name": "stdout",
          "text": [
            "Similarity score for document 5240: [[0.97429967]]\n"
          ]
        },
        {
          "output_type": "display_data",
          "data": {
            "text/plain": [
              "<IPython.core.display.Markdown object>"
            ],
            "text/markdown": "<p>updated\n        11:00 pm est, tue january 31, 2023\nlink copied!\nformer un ambassador nikki haley speaks at an annual leadership meeting of the republican jewish coalition saturday, november, 19, 2022, in las vegas.\njohn locher/ap\ncnn —\nformer south carolina gov. nikki haley is expected to announce she’s running for president on february 15 in charleston, according to a person familiar with her plans.\nhaley would be the first republican to jump into the 2024 presidential race this year, facing only former president donald trump, who launched his bid last year, as her competition out of the gates.\nshe’s expected to send an invite to her supporters announcing the special event in the coming days, according to sources familiar with the matter. the precise details of her launch have yet to be revealed. one source said they believed she could publicly signal the announcement is coming with video in the coming days, but that possibility isn’t set in stone.\na spokesperson for haley did not immediately provide details about the plans.\nthe post and courier was first to report the date and location of the expected announcement, and the washington post was first to report details of haley’s preparations.\n“ever since she left the governor’s office for the united nation, there’s always been a sense in south carolina that nikki would be preparing for a much larger launch,” dave wilson, the president of the christian nonprofit palmetto family council, told cnn. “now we’re in a presidential countdown window. everyone had better buckle up.”\nhaley gave her clearest indication yet that she plans to seek the republican presidential nomination during an interview earlier this year.\n“when you’re looking at a run for president, you look at two things: you first look at, does the current situation push for new leadership? the second question is, am i that person that could be that new leader?” she told fox news.\n“yes, we need to go in a new direction,” haley said. “and can i be that leader? yes, i think i can be that leader.”\nhaley, who served as the us ambassador to the united nations in the trump administration, also called trump recently to tell him that she was considering launching her campaign, the former president told reporters over the weekend.\n“she called me and said she’d like to consider it, and i said, ‘you should do it,’” trump said in recalling the conversation.\nthis story has been updated with additional information.\nrelated\n</p>"
          },
          "metadata": {}
        },
        {
          "output_type": "stream",
          "name": "stdout",
          "text": [
            "Similarity score for document 2385: [[0.9719538]]\n"
          ]
        },
        {
          "output_type": "display_data",
          "data": {
            "text/plain": [
              "<IPython.core.display.Markdown object>"
            ],
            "text/markdown": "<p>advertisement - story continues below\nthe ap’s south carolina based reporter meg kinnard confirmed:\nshe's running. @nikkihaley will announce campaign for president on feb. 15 in charleston, sc, according to a person familiar with the plans.\nsupporters to receive email invite tomorrow. https://t.co/edpmigubar\nap excerpt :\nin south carolina on saturday, trump told wis-tv that haley had called him several days earlier to seek his opinion. trump pointed out her earlier pledge not to run against him but said he made no attempts to stop her.\n“she said she would never run against me because i was the greatest president, but people change their opinions, and they change what’s in their hearts,” trump said. “so i said, if your heart wants to do it, you have to go do it.”\nadvertisement - story continues below\nhaley, 51, served as trump’s u.n. ambassador from 2017 through 2018. she served as south carolina governor from 2011 until 2017.\nhaley appeared on hannity last week and teased a presidential run, saying a generational shift is needed in politics.\nit’s time for a new generation.\nit’s time for new leadership.\nand it’s time to take our country back.\namerica is worth the fight—and we’re just getting started. pic.twitter.com/l93q6wirzd\n— nikki haley (@nikkihaley) january 21, 2023\nthree days ago haley posted a reiteration of her call for generational change:\nadvertisement - story continues below\n— nikki haley (@nikkihaley) january 28, 2023\nthe two leading candidates in both parties, joe biden and donald trump would be 82 and 78, respectively, on inauguration day january 20, 2025. biden appears to have dementia while trump shows no sign of slowing down or aging.\nupdate: republican former maryland governor larry hogan said today he is “giving serious consideration to running for president.”\nwhile washington is completely broken and heading in the wrong direction, we’ve shown how to win and deliver common sense conservative results in the most difficult possible environment. that’s why i am giving serious consideration to running for president. pic.twitter.com/wujsvjozc9\n</p>"
          },
          "metadata": {}
        },
        {
          "output_type": "stream",
          "name": "stdout",
          "text": [
            "Similarity score for document 2220: [[0.9669642]]\n"
          ]
        },
        {
          "output_type": "display_data",
          "data": {
            "text/plain": [
              "<IPython.core.display.Markdown object>"
            ],
            "text/markdown": "<p>advertisement - story continues below\nthe ap’s south carolina based reporter meg kinnard confirmed:\nshe's running. @nikkihaley will announce campaign for president on feb. 15 in charleston, sc, according to a person familiar with the plans.\nsupporters to receive email invite tomorrow. https://t.co/edpmigubar\nap excerpt :\nin south carolina on saturday, trump told wis-tv that haley had called him several days earlier to seek his opinion. trump pointed out her earlier pledge not to run against him but said he made no attempts to stop her.\n“she said she would never run against me because i was the greatest president, but people change their opinions, and they change what’s in their hearts,” trump said. “so i said, if your heart wants to do it, you have to go do it.”\nadvertisement - story continues below\nhaley, 51, served as trump’s u.n. ambassador from 2017 through 2018. she served as south carolina governor from 2011 until 2017.\nhaley appeared on hannity last week and teased a presidential run, saying a generational shift is needed in politics.\nit’s time for a new generation.\nit’s time for new leadership.\nand it’s time to take our country back.\namerica is worth the fight—and we’re just getting started. pic.twitter.com/l93q6wirzd\n— nikki haley (@nikkihaley) january 21, 2023\nthree days ago haley posted a reiteration of her call for generational change:\nadvertisement - story continues below\n— nikki haley (@nikkihaley) january 28, 2023\nthe two leading candidates in both parties, joe biden and donald trump would be 82 and 78, respectively, on inauguration day january 20, 2025. biden appears to have dementia while trump shows no sign of slowing down or aging.\n</p>"
          },
          "metadata": {}
        },
        {
          "output_type": "stream",
          "name": "stdout",
          "text": [
            "Similarity score for document 11027: [[0.95816135]]\n"
          ]
        },
        {
          "output_type": "display_data",
          "data": {
            "text/plain": [
              "<IPython.core.display.Markdown object>"
            ],
            "text/markdown": "<p>president joe biden boards air force one at the delaware air national guard base in new castle, delaware, on jan. 15. (brendan smialowski - afp / getty images)\nwhite house accused of 'dishonesty and evasiveness' as biden physical is delayed yet again\nby john mccann february 1, 2023 at 2:56pm\ndespite his rather advanced age, president joe biden and the white house have been dismissive about his yearly physical.\non wednesday, the white house announced yet another delay in the octogenarian’s next medical exam.\naccording to the hill , a white house official said the physical is now set for feb. 16, with the results to be “released publicly in the same manner as last year.”\nadvertisement - story continues below\nthat date is more than two weeks beyond the time frame previously promised by white house press secretary karine jean-pierre.\njean-pierre was asked about the issue during a jan. 20 news conference , with a reporter saying, “do you have any update on the president getting a physical? he hasn’t had one in a year.”\ntrending:\nafter adam schiff gets called out for lie on cnn, a big change takes place on screen\n“yeah, we’ve — i’ve spoken to this a couple of times,” she responded. “he will have one before the — by the time the end of this month is out. and so we will do the same that we did the last time in — back in 2021. we were — where we provide, with full transparency, his — his medical, physical.”\nadvertisement - story continues below\nthe question arose from the fact that biden had promised back in november to complete the medical exam by dec. 31. after he celebrated his 80th birthday, the president told reporters that “part of my physical is already done, and i’ll be getting it before the end of the year.”\nhis last physical was in november 2021.\nthe latest postponement was blamed on a “busy and evolving travel schedule in recent weeks.”\nnew: a white house spokesperson says president biden’s physical will be completed feb. 16 and released publicly in the same way as his previous physical. the wh says the scheduling changed because they had to work around a “busy and evolving travel schedule in recent weeks.”\n— catherine lucey (@catherine_lucey) february 1, 2023\nwith biden expected to officially announce whether he is running for re-election shortly after the state of the union address on tuesday, republicans say americans have a right to know whether he is physically and mentally up to the challenge of another term.\nadvertisement - story continues below\n“i think it would be important to see a very thorough and comprehensive cognitive function study that is released with transparency to the general public,” gop rep. scott desjarlais of tennessee told the washington examiner .\n“the american people want to know that their commander in chief is fully capable of performing at the highest level to protect the safety and security of our nation,” said desjarlais, who is a physician.\nrelated:\ndeveloping: fbi currently searching biden's delaware beach house\nthe white house’s lack of communication on the issue has set off alarm bells about biden’s health.\n“seriously, where is biden? no press interviews, the white house press secretary has no credibility left, and the administration dodges, deflects, and delays on matters that deserve full transparency,” an unnamed senior republican official told the examiner.\nadvertisement - story continues below\n“the american people deserve better than the dishonesty and evasiveness of biden.”\ndo you think biden is in good health?\nyes\nno\ncompleting this poll entitles you to the western journal news updates free of charge. you may opt out at anytime. you also agree to our privacy policy and terms of use .\nyes: 0% (0 votes)\nno: 100% (14 votes)\njean-pierre has been asked about the promised examination six times in recent weeks, and her answers have led to confusion.\nduring a briefing on jan. 6, a reporter questioned why the timeframe for this physical was different from the one biden had in 2021. she cited his “very hectic” schedule.\nadvertisement - story continues below\n“well, if you were — if you watched the president in november, you saw that he had — he traveled to indonesia, cambodia, north — north africa,” the press secretary said. “he traveled across the country. and so, he had a very hectic schedule.\n“and i think that plays into what his doctors have said, right? his doctor has said — is that he’s in good health. he’s in very good health, and that he’s — leads an active life, as we saw in november and in december.”\nwhen a reporter asked him in november whether an exam had been scheduled, the president made a joke about it.\n“what, do you think i need it?” biden responded .\nadvertisement - story continues below\nwith biden already the oldest president in history and a potential re-election announcement drawing near, his health is sure to be under heavy scrutiny in the coming months, with or without an official physical.\ntruth and accuracy\n</p>"
          },
          "metadata": {}
        },
        {
          "output_type": "stream",
          "name": "stdout",
          "text": [
            "Similarity score for document 11345: [[0.95816135]]\n"
          ]
        },
        {
          "output_type": "display_data",
          "data": {
            "text/plain": [
              "<IPython.core.display.Markdown object>"
            ],
            "text/markdown": "<p>president joe biden boards air force one at the delaware air national guard base in new castle, delaware, on jan. 15. (brendan smialowski - afp / getty images)\nwhite house accused of 'dishonesty and evasiveness' as biden physical is delayed yet again\nby john mccann february 1, 2023 at 2:56pm\ndespite his rather advanced age, president joe biden and the white house have been dismissive about his yearly physical.\non wednesday, the white house announced yet another delay in the octogenarian’s next medical exam.\naccording to the hill , a white house official said the physical is now set for feb. 16, with the results to be “released publicly in the same manner as last year.”\nadvertisement - story continues below\nthat date is more than two weeks beyond the time frame previously promised by white house press secretary karine jean-pierre.\njean-pierre was asked about the issue during a jan. 20 news conference , with a reporter saying, “do you have any update on the president getting a physical? he hasn’t had one in a year.”\ntrending:\nafter adam schiff gets called out for lie on cnn, a big change takes place on screen\n“yeah, we’ve — i’ve spoken to this a couple of times,” she responded. “he will have one before the — by the time the end of this month is out. and so we will do the same that we did the last time in — back in 2021. we were — where we provide, with full transparency, his — his medical, physical.”\nadvertisement - story continues below\nthe question arose from the fact that biden had promised back in november to complete the medical exam by dec. 31. after he celebrated his 80th birthday, the president told reporters that “part of my physical is already done, and i’ll be getting it before the end of the year.”\nhis last physical was in november 2021.\nthe latest postponement was blamed on a “busy and evolving travel schedule in recent weeks.”\nnew: a white house spokesperson says president biden’s physical will be completed feb. 16 and released publicly in the same way as his previous physical. the wh says the scheduling changed because they had to work around a “busy and evolving travel schedule in recent weeks.”\n— catherine lucey (@catherine_lucey) february 1, 2023\nwith biden expected to officially announce whether he is running for re-election shortly after the state of the union address on tuesday, republicans say americans have a right to know whether he is physically and mentally up to the challenge of another term.\nadvertisement - story continues below\n“i think it would be important to see a very thorough and comprehensive cognitive function study that is released with transparency to the general public,” gop rep. scott desjarlais of tennessee told the washington examiner .\n“the american people want to know that their commander in chief is fully capable of performing at the highest level to protect the safety and security of our nation,” said desjarlais, who is a physician.\nrelated:\ndeveloping: fbi currently searching biden's delaware beach house\nthe white house’s lack of communication on the issue has set off alarm bells about biden’s health.\n“seriously, where is biden? no press interviews, the white house press secretary has no credibility left, and the administration dodges, deflects, and delays on matters that deserve full transparency,” an unnamed senior republican official told the examiner.\nadvertisement - story continues below\n“the american people deserve better than the dishonesty and evasiveness of biden.”\ndo you think biden is in good health?\nyes\nno\ncompleting this poll entitles you to the western journal news updates free of charge. you may opt out at anytime. you also agree to our privacy policy and terms of use .\nyes: 0% (0 votes)\nno: 100% (15 votes)\njean-pierre has been asked about the promised examination six times in recent weeks, and her answers have led to confusion.\nduring a briefing on jan. 6, a reporter questioned why the timeframe for this physical was different from the one biden had in 2021. she cited his “very hectic” schedule.\nadvertisement - story continues below\n“well, if you were — if you watched the president in november, you saw that he had — he traveled to indonesia, cambodia, north — north africa,” the press secretary said. “he traveled across the country. and so, he had a very hectic schedule.\n“and i think that plays into what his doctors have said, right? his doctor has said — is that he’s in good health. he’s in very good health, and that he’s — leads an active life, as we saw in november and in december.”\nwhen a reporter asked him in november whether an exam had been scheduled, the president made a joke about it.\n“what, do you think i need it?” biden responded .\nadvertisement - story continues below\nwith biden already the oldest president in history and a potential re-election announcement drawing near, his health is sure to be under heavy scrutiny in the coming months, with or without an official physical.\ntruth and accuracy\n</p>"
          },
          "metadata": {}
        },
        {
          "output_type": "stream",
          "name": "stdout",
          "text": [
            "Similarity score for document 11561: [[0.9581154]]\n"
          ]
        },
        {
          "output_type": "display_data",
          "data": {
            "text/plain": [
              "<IPython.core.display.Markdown object>"
            ],
            "text/markdown": "<p>president joe biden boards air force one at the delaware air national guard base in new castle, delaware, on jan. 15. (brendan smialowski - afp / getty images)\nwhite house accused of 'dishonesty and evasiveness' as biden physical is delayed yet again\nby john mccann february 1, 2023 at 2:56pm\ndespite his rather advanced age, president joe biden and the white house have been dismissive about his yearly physical.\non wednesday, the white house announced yet another delay in the octogenarian’s next medical exam.\naccording to the hill , a white house official said the physical is now set for feb. 16, with the results to be “released publicly in the same manner as last year.”\nadvertisement - story continues below\nthat date is more than two weeks beyond the time frame previously promised by white house press secretary karine jean-pierre.\njean-pierre was asked about the issue during a jan. 20 news conference , with a reporter saying, “do you have any update on the president getting a physical? he hasn’t had one in a year.”\ntrending:\nafter adam schiff gets called out for lie on cnn, a big change takes place on screen\n“yeah, we’ve — i’ve spoken to this a couple of times,” she responded. “he will have one before the — by the time the end of this month is out. and so we will do the same that we did the last time in — back in 2021. we were — where we provide, with full transparency, his — his medical, physical.”\nadvertisement - story continues below\nthe question arose from the fact that biden had promised back in november to complete the medical exam by dec. 31. after he celebrated his 80th birthday, the president told reporters that “part of my physical is already done, and i’ll be getting it before the end of the year.”\nhis last physical was in november 2021.\nthe latest postponement was blamed on a “busy and evolving travel schedule in recent weeks.”\nnew: a white house spokesperson says president biden’s physical will be completed feb. 16 and released publicly in the same way as his previous physical. the wh says the scheduling changed because they had to work around a “busy and evolving travel schedule in recent weeks.”\n— catherine lucey (@catherine_lucey) february 1, 2023\nwith biden expected to officially announce whether he is running for re-election shortly after the state of the union address on tuesday, republicans say americans have a right to know whether he is physically and mentally up to the challenge of another term.\nadvertisement - story continues below\n“i think it would be important to see a very thorough and comprehensive cognitive function study that is released with transparency to the general public,” gop rep. scott desjarlais of tennessee told the washington examiner .\n“the american people want to know that their commander in chief is fully capable of performing at the highest level to protect the safety and security of our nation,” said desjarlais, who is a physician.\nrelated:\ndeveloping: fbi currently searching biden's delaware beach house\nthe white house’s lack of communication on the issue has set off alarm bells about biden’s health.\n“seriously, where is biden? no press interviews, the white house press secretary has no credibility left, and the administration dodges, deflects, and delays on matters that deserve full transparency,” an unnamed senior republican official told the examiner.\nadvertisement - story continues below\n“the american people deserve better than the dishonesty and evasiveness of biden.”\ndo you think biden is in good health?\nyes\nno\ncompleting this poll entitles you to the western journal news updates free of charge. you may opt out at anytime. you also agree to our privacy policy and terms of use .\nyes: 0% (0 votes)\nno: 100% (2 votes)\njean-pierre has been asked about the promised examination six times in recent weeks, and her answers have led to confusion.\nduring a briefing on jan. 6, a reporter questioned why the timeframe for this physical was different from the one biden had in 2021. she cited his “very hectic” schedule.\nadvertisement - story continues below\n“well, if you were — if you watched the president in november, you saw that he had — he traveled to indonesia, cambodia, north — north africa,” the press secretary said. “he traveled across the country. and so, he had a very hectic schedule.\n“and i think that plays into what his doctors have said, right? his doctor has said — is that he’s in good health. he’s in very good health, and that he’s — leads an active life, as we saw in november and in december.”\nwhen a reporter asked him in november whether an exam had been scheduled, the president made a joke about it.\n“what, do you think i need it?” biden responded .\nadvertisement - story continues below\nwith biden already the oldest president in history and a potential re-election announcement drawing near, his health is sure to be under heavy scrutiny in the coming months, with or without an official physical.\ntruth and accuracy\n</p>"
          },
          "metadata": {}
        },
        {
          "output_type": "stream",
          "name": "stdout",
          "text": [
            "Similarity score for document 11163: [[0.9580983]]\n"
          ]
        },
        {
          "output_type": "display_data",
          "data": {
            "text/plain": [
              "<IPython.core.display.Markdown object>"
            ],
            "text/markdown": "<p>president joe biden boards air force one at the delaware air national guard base in new castle, delaware, on jan. 15. (brendan smialowski - afp / getty images)\nwhite house accused of 'dishonesty and evasiveness' as biden physical is delayed yet again\nby john mccann february 1, 2023 at 2:56pm\ndespite his rather advanced age, president joe biden and the white house have been dismissive about his yearly physical.\non wednesday, the white house announced yet another delay in the octogenarian’s next medical exam.\naccording to the hill , a white house official said the physical is now set for feb. 16, with the results to be “released publicly in the same manner as last year.”\nadvertisement - story continues below\nthat date is more than two weeks beyond the time frame previously promised by white house press secretary karine jean-pierre.\njean-pierre was asked about the issue during a jan. 20 news conference , with a reporter saying, “do you have any update on the president getting a physical? he hasn’t had one in a year.”\ntrending:\nafter adam schiff gets called out for lie on cnn, a big change takes place on screen\n“yeah, we’ve — i’ve spoken to this a couple of times,” she responded. “he will have one before the — by the time the end of this month is out. and so we will do the same that we did the last time in — back in 2021. we were — where we provide, with full transparency, his — his medical, physical.”\nadvertisement - story continues below\nthe question arose from the fact that biden had promised back in november to complete the medical exam by dec. 31. after he celebrated his 80th birthday, the president told reporters that “part of my physical is already done, and i’ll be getting it before the end of the year.”\nhis last physical was in november 2021.\nthe latest postponement was blamed on a “busy and evolving travel schedule in recent weeks.”\nnew: a white house spokesperson says president biden’s physical will be completed feb. 16 and released publicly in the same way as his previous physical. the wh says the scheduling changed because they had to work around a “busy and evolving travel schedule in recent weeks.”\n— catherine lucey (@catherine_lucey) february 1, 2023\nwith biden expected to officially announce whether he is running for re-election shortly after the state of the union address on tuesday, republicans say americans have a right to know whether he is physically and mentally up to the challenge of another term.\nadvertisement - story continues below\n“i think it would be important to see a very thorough and comprehensive cognitive function study that is released with transparency to the general public,” gop rep. scott desjarlais of tennessee told the washington examiner .\n“the american people want to know that their commander in chief is fully capable of performing at the highest level to protect the safety and security of our nation,” said desjarlais, who is a physician.\nrelated:\ndeveloping: fbi currently searching biden's delaware beach house\nthe white house’s lack of communication on the issue has set off alarm bells about biden’s health.\n“seriously, where is biden? no press interviews, the white house press secretary has no credibility left, and the administration dodges, deflects, and delays on matters that deserve full transparency,” an unnamed senior republican official told the examiner.\nadvertisement - story continues below\n“the american people deserve better than the dishonesty and evasiveness of biden.”\ndo you think biden is in good health?\nyes\nno\ncompleting this poll entitles you to the western journal news updates free of charge. you may opt out at anytime. you also agree to our privacy policy and terms of use .\nyes: 0% (0 votes)\nno: 100% (3 votes)\njean-pierre has been asked about the promised examination six times in recent weeks, and her answers have led to confusion.\nduring a briefing on jan. 6, a reporter questioned why the timeframe for this physical was different from the one biden had in 2021. she cited his “very hectic” schedule.\nadvertisement - story continues below\n“well, if you were — if you watched the president in november, you saw that he had — he traveled to indonesia, cambodia, north — north africa,” the press secretary said. “he traveled across the country. and so, he had a very hectic schedule.\n“and i think that plays into what his doctors have said, right? his doctor has said — is that he’s in good health. he’s in very good health, and that he’s — leads an active life, as we saw in november and in december.”\nwhen a reporter asked him in november whether an exam had been scheduled, the president made a joke about it.\n“what, do you think i need it?” biden responded .\nadvertisement - story continues below\nwith biden already the oldest president in history and a potential re-election announcement drawing near, his health is sure to be under heavy scrutiny in the coming months, with or without an official physical.\ntruth and accuracy\n</p>"
          },
          "metadata": {}
        }
      ]
    },
    {
      "cell_type": "markdown",
      "source": [
        "The first document with 99.2% similarity is the original documents. My search engines proves to be useful"
      ],
      "metadata": {
        "id": "76wGFxaV1x8w"
      }
    },
    {
      "cell_type": "markdown",
      "source": [
        "##doc2vec"
      ],
      "metadata": {
        "id": "h0BoUfAWkfw6"
      }
    },
    {
      "cell_type": "code",
      "source": [
        "import os\n",
        "import re\n",
        "import gensim\n",
        "\n",
        "from gensim.test.utils import common_texts\n",
        "from gensim.models.doc2vec import Doc2Vec, TaggedDocument\n",
        "\n",
        "\n",
        "from gensim import corpora, models, similarities\n"
      ],
      "metadata": {
        "id": "GRv4DIB26FWQ"
      },
      "execution_count": null,
      "outputs": []
    },
    {
      "cell_type": "code",
      "source": [
        "documents = [TaggedDocument(doc, [i]) for i, doc in enumerate(common_texts)]\n",
        "model = Doc2Vec(documents, vector_size=5, window=2, min_count=1, workers=4)"
      ],
      "metadata": {
        "id": "e8cocct37_8G"
      },
      "execution_count": null,
      "outputs": []
    },
    {
      "cell_type": "code",
      "source": [
        "train_text= data_clean['text']\n",
        "dictionary = corpora.Dictionary([review.split() for review in train_text])\n",
        "corpus = [dictionary.doc2bow(review.split()) for review in train_text]\n",
        "tfidf = models.TfidfModel(corpus)\n",
        "tfidf_corpus = tfidf[corpus]\n",
        "lsi = models.LsiModel(tfidf_corpus, id2word=dictionary, num_topics=25)\n",
        "lsi_corpus = lsi[tfidf_corpus]\n",
        "index_lsi = similarities.MatrixSimilarity(lsi_corpus)\n"
      ],
      "metadata": {
        "colab": {
          "base_uri": "https://localhost:8080/"
        },
        "id": "Xyew3awy6Fb-",
        "outputId": "3a1b1e63-2dd1-4b4b-8e9f-2cb1e7b5eca8"
      },
      "execution_count": null,
      "outputs": [
        {
          "output_type": "stream",
          "name": "stderr",
          "text": [
            "WARNING:gensim.similarities.docsim:scanning corpus to determine the number of features (consider setting `num_features` explicitly)\n"
          ]
        }
      ]
    },
    {
      "cell_type": "code",
      "source": [
        "def clean_review(review):\n",
        "    review = review.lower()  # Convert to lowercase\n",
        "    review = re.sub(r\"<[^>]*>\", \"\", review)  # Remove HTML tags\n",
        "    review = re.sub(r\"[^a-z0-9]+\", \" \", review)  # Remove non-alphanumeric characters\n",
        "    return review.strip()"
      ],
      "metadata": {
        "id": "6yrfrPyG8llD"
      },
      "execution_count": null,
      "outputs": []
    },
    {
      "cell_type": "code",
      "source": [
        "def find_similar_reviews(review_text, num_results=10):\n",
        "    review_text = clean_review(review_text)\n",
        "    vec_bow = dictionary.doc2bow(review_text.split())\n",
        "    vec_tfidf = tfidf[vec_bow]\n",
        "    vec_lsi = lsi[vec_tfidf]\n",
        "    sims = index_lsi[vec_lsi]\n",
        "    sims = sorted(enumerate(sims), key=lambda item: -item[1])\n",
        "\n",
        "    results = []\n",
        "    for i in range(num_results):\n",
        "        index, score = sims[i]\n",
        "        results.append((data_clean.iloc[index]['text'], score))\n",
        "    return results"
      ],
      "metadata": {
        "id": "uYMcq67R6Fe2"
      },
      "execution_count": null,
      "outputs": []
    },
    {
      "cell_type": "code",
      "source": [
        "test = np.array2string(data_clean.sample(n=1)['text'].values)"
      ],
      "metadata": {
        "id": "YdFYltQb6Fhs"
      },
      "execution_count": null,
      "outputs": []
    },
    {
      "cell_type": "code",
      "source": [
        "review_text = clean_review(test)"
      ],
      "metadata": {
        "id": "ebgxqORo_PRo"
      },
      "execution_count": null,
      "outputs": []
    },
    {
      "cell_type": "code",
      "source": [
        "vec_bow = dictionary.doc2bow(review_text.split())"
      ],
      "metadata": {
        "id": "Zllf0XYe_RNS"
      },
      "execution_count": null,
      "outputs": []
    },
    {
      "cell_type": "code",
      "source": [
        "vec_tfidf = tfidf[vec_bow]\n",
        "vec_lsi = lsi[vec_tfidf]\n",
        "sims = index_lsi[vec_lsi]\n",
        "sims = sorted(enumerate(sims), key=lambda item: -item[1])"
      ],
      "metadata": {
        "id": "ffXivxnn_Yr9"
      },
      "execution_count": null,
      "outputs": []
    },
    {
      "cell_type": "code",
      "source": [
        "index, score = sims[0]"
      ],
      "metadata": {
        "id": "K1QgMhPhAAlV"
      },
      "execution_count": null,
      "outputs": []
    },
    {
      "cell_type": "code",
      "source": [
        "print(data_clean.iloc[index]['text'])"
      ],
      "metadata": {
        "colab": {
          "base_uri": "https://localhost:8080/"
        },
        "id": "s2MMkx0_AkoE",
        "outputId": "b0a8eec0-b6ad-496a-94f8-ae8606010459"
      },
      "execution_count": null,
      "outputs": [
        {
          "output_type": "stream",
          "name": "stdout",
          "text": [
            "shareshareshare email\n",
            "can we all stop pretending that president joe biden is ok?\n",
            "while the white house insists otherwise, any reasonable person, republican or democrat, who’s paid attention for the past two years knows there’s simply no way biden has the cognitive — possibly also physical — health required to mount a run for a second term in the white house.\n",
            "it’s a grueling process, to say the least, and it requires sharpness of mind and body, and “sharpness” isn’t a word any honest person can associate with the 80-year-old president.\n",
            "advertisement - story continues below\n",
            "on the physical health front, even after promising that biden’s physical exam results for 2022 would be released by the end of the year, it’s now almost the end of january 2023, and nothing has been released yet. it’s easy to presume there’s a strategic reason for that.\n",
            "many have criticized the elderly, seemingly fragile president for his constant gaffes and blunders in his speeches. rep. scott desjarlais (r-tennessee) told the washington examiner that it’s high time the white house is significantly more transparent about the president’s health and overall state of mind.\n",
            "trending: zelensky sent out government decree to destroy all information on hunter biden's metabiota company on same day as russian invasion - then fire spotted outside intel headquarters\n",
            "“i think it would be important to see a very thorough and comprehensive cognitive function study that is released with transparency to the general public,” said desjarlais, who practiced medicine before his election to congress.\n",
            "“the american people want to know that their commander in chief is fully capable of performing at the highest level to protect the safety and security of our nation,” the gop lawmaker added.\n",
            "advertisement - story continues below\n",
            "and he’s exactly right. biden’s frail public perception has many severe ramifications from a national security perspective.\n",
            "for a president who essentially ran on a transparency ticket, it’s one of many promises that biden and his white house handlers haven’t come through on and presumably never will, because the truth is likely too damaging to survive a round of inevitably lousy press that would come along with it.\n",
            "do you think biden needs to take a cognitive and release the results?\n",
            "yes\n",
            "no\n",
            "completing this poll entitles you to the gateway pundit news updates free of charge. you may opt out at anytime. you also agree to our privacy policy and terms of use .\n",
            "you're logged in to facebook. click here to log out.\n",
            "0% (0 votes)\n",
            "0% (0 votes)\n",
            "one republican official told the examiner that americans deserve better than what they’re getting with biden’s white house.\n",
            "“seriously, where is biden?” the unnamed senior official reportedly asked. “no press interviews, the white house press secretary has no credibility left, and the administration dodges, deflects, and delays on matters that deserve full transparency.\n",
            "“the american people deserve better than the dishonesty and evasiveness of biden.”\n",
            "advertisement - story continues below\n",
            "desjarlais joins texas republican rep. ronny jackson, a former white house physician, in calling for biden to come clean about his overall picture of health. jackson has been a highly outspoken critic of biden’s cognitive health concerns, even calling biden’s white house an “ assisted living facility ” during a rally in october.\n",
            "in late november of 2022, jackson doubled down and called on biden to resign.\n",
            "“president biden is 80 years old and mentally unstable. this man is not fit to work the counter at ben and jerry’s, let alone to be our commander in chief!!! he’s totally incapable of the job, and needs to take a cognitive test immediately or else resign,” jackson tweeted.\n",
            "president biden is 80 years old and mentally unstable. this man is not fit to work the counter at ben and jerry’s, let alone to be our commander in chief!!! he’s totally incapable of the job, and needs to take a cognitive test immediately or else resign pic.twitter.com/inz9ewhdtx\n",
            "— ronny jackson (@ronnyjacksontx) november 28, 2022\n",
            "advertisement - story continues below\n",
            "from calling on deceased members of congress to making embarrassing blunders in what feels like a majority of his speeches, to forgetting names of historically significant figures, biden’s a total mess, and it’s time to dial up the pressure.\n",
            "the doctors calling on biden to take a cognitive test, as other modern presidents have, isn’t a cheap attack line — it’s a valid and critically important measurement that can determine whether or not biden is capable of leading the most powerful country in the world.\n",
            "if he’s past his prime, so be it. it happens to everyone eventually. but as a country, we can’t afford to gamble with a leader who appears to be operating at significantly less than 100 percent, at least according to his actions.\n",
            "advertisement - story continues below\n",
            "at the very least, the white house should immediately release biden’s physical examination results from 2022. the longer the white house stalls, the more speculation will build that it’s delaying the exam results for reasons unfavorable to the president.\n",
            "\n"
          ]
        }
      ]
    },
    {
      "cell_type": "code",
      "source": [
        "score"
      ],
      "metadata": {
        "colab": {
          "base_uri": "https://localhost:8080/"
        },
        "id": "hr_EsGpRA0lI",
        "outputId": "194c007b-5486-415c-cf8d-8a905f69c62a"
      },
      "execution_count": null,
      "outputs": [
        {
          "output_type": "execute_result",
          "data": {
            "text/plain": [
              "0.9950232"
            ]
          },
          "metadata": {},
          "execution_count": 118
        }
      ]
    },
    {
      "cell_type": "code",
      "source": [
        "from IPython.display import HTML, Markdown\n",
        "\n",
        "review = test\n",
        "similar_reviews = find_similar_reviews(review)\n",
        "\n",
        "for i, (review_text, score) in enumerate(similar_reviews):\n",
        "    print(f\"Similarity score for review {i+1}: {score}\")\n",
        "    print(display(Markdown(f\"<p>{review_text}</p>\")))"
      ],
      "metadata": {
        "colab": {
          "base_uri": "https://localhost:8080/",
          "height": 1000
        },
        "id": "amzTkwlY6Fk1",
        "outputId": "8d1bef3b-342f-47e0-889d-68a3420d51c7"
      },
      "execution_count": null,
      "outputs": [
        {
          "output_type": "stream",
          "name": "stdout",
          "text": [
            "Similarity score for review 1: 0.9950231909751892\n"
          ]
        },
        {
          "output_type": "display_data",
          "data": {
            "text/plain": [
              "<IPython.core.display.Markdown object>"
            ],
            "text/markdown": "<p>shareshareshare email\ncan we all stop pretending that president joe biden is ok?\nwhile the white house insists otherwise, any reasonable person, republican or democrat, who’s paid attention for the past two years knows there’s simply no way biden has the cognitive — possibly also physical — health required to mount a run for a second term in the white house.\nit’s a grueling process, to say the least, and it requires sharpness of mind and body, and “sharpness” isn’t a word any honest person can associate with the 80-year-old president.\nadvertisement - story continues below\non the physical health front, even after promising that biden’s physical exam results for 2022 would be released by the end of the year, it’s now almost the end of january 2023, and nothing has been released yet. it’s easy to presume there’s a strategic reason for that.\nmany have criticized the elderly, seemingly fragile president for his constant gaffes and blunders in his speeches. rep. scott desjarlais (r-tennessee) told the washington examiner that it’s high time the white house is significantly more transparent about the president’s health and overall state of mind.\ntrending: zelensky sent out government decree to destroy all information on hunter biden's metabiota company on same day as russian invasion - then fire spotted outside intel headquarters\n“i think it would be important to see a very thorough and comprehensive cognitive function study that is released with transparency to the general public,” said desjarlais, who practiced medicine before his election to congress.\n“the american people want to know that their commander in chief is fully capable of performing at the highest level to protect the safety and security of our nation,” the gop lawmaker added.\nadvertisement - story continues below\nand he’s exactly right. biden’s frail public perception has many severe ramifications from a national security perspective.\nfor a president who essentially ran on a transparency ticket, it’s one of many promises that biden and his white house handlers haven’t come through on and presumably never will, because the truth is likely too damaging to survive a round of inevitably lousy press that would come along with it.\ndo you think biden needs to take a cognitive and release the results?\nyes\nno\ncompleting this poll entitles you to the gateway pundit news updates free of charge. you may opt out at anytime. you also agree to our privacy policy and terms of use .\nyou're logged in to facebook. click here to log out.\n0% (0 votes)\n0% (0 votes)\none republican official told the examiner that americans deserve better than what they’re getting with biden’s white house.\n“seriously, where is biden?” the unnamed senior official reportedly asked. “no press interviews, the white house press secretary has no credibility left, and the administration dodges, deflects, and delays on matters that deserve full transparency.\n“the american people deserve better than the dishonesty and evasiveness of biden.”\nadvertisement - story continues below\ndesjarlais joins texas republican rep. ronny jackson, a former white house physician, in calling for biden to come clean about his overall picture of health. jackson has been a highly outspoken critic of biden’s cognitive health concerns, even calling biden’s white house an “ assisted living facility ” during a rally in october.\nin late november of 2022, jackson doubled down and called on biden to resign.\n“president biden is 80 years old and mentally unstable. this man is not fit to work the counter at ben and jerry’s, let alone to be our commander in chief!!! he’s totally incapable of the job, and needs to take a cognitive test immediately or else resign,” jackson tweeted.\npresident biden is 80 years old and mentally unstable. this man is not fit to work the counter at ben and jerry’s, let alone to be our commander in chief!!! he’s totally incapable of the job, and needs to take a cognitive test immediately or else resign pic.twitter.com/inz9ewhdtx\n— ronny jackson (@ronnyjacksontx) november 28, 2022\nadvertisement - story continues below\nfrom calling on deceased members of congress to making embarrassing blunders in what feels like a majority of his speeches, to forgetting names of historically significant figures, biden’s a total mess, and it’s time to dial up the pressure.\nthe doctors calling on biden to take a cognitive test, as other modern presidents have, isn’t a cheap attack line — it’s a valid and critically important measurement that can determine whether or not biden is capable of leading the most powerful country in the world.\nif he’s past his prime, so be it. it happens to everyone eventually. but as a country, we can’t afford to gamble with a leader who appears to be operating at significantly less than 100 percent, at least according to his actions.\nadvertisement - story continues below\nat the very least, the white house should immediately release biden’s physical examination results from 2022. the longer the white house stalls, the more speculation will build that it’s delaying the exam results for reasons unfavorable to the president.\n</p>"
          },
          "metadata": {}
        },
        {
          "output_type": "stream",
          "name": "stdout",
          "text": [
            "None\n",
            "Similarity score for review 2: 0.9950231909751892\n"
          ]
        },
        {
          "output_type": "display_data",
          "data": {
            "text/plain": [
              "<IPython.core.display.Markdown object>"
            ],
            "text/markdown": "<p>shareshareshare email\ncan we all stop pretending that president joe biden is ok?\nwhile the white house insists otherwise, any reasonable person, republican or democrat, who’s paid attention for the past two years knows there’s simply no way biden has the cognitive — possibly also physical — health required to mount a run for a second term in the white house.\nit’s a grueling process, to say the least, and it requires sharpness of mind and body, and “sharpness” isn’t a word any honest person can associate with the 80-year-old president.\nadvertisement - story continues below\non the physical health front, even after promising that biden’s physical exam results for 2022 would be released by the end of the year, it’s now almost the end of january 2023, and nothing has been released yet. it’s easy to presume there’s a strategic reason for that.\nmany have criticized the elderly, seemingly fragile president for his constant gaffes and blunders in his speeches. rep. scott desjarlais (r-tennessee) told the washington examiner that it’s high time the white house is significantly more transparent about the president’s health and overall state of mind.\ntrending: zelensky sent out government decree to destroy all information on hunter biden's metabiota company on same day as russian invasion - then fire spotted outside intel headquarters\n“i think it would be important to see a very thorough and comprehensive cognitive function study that is released with transparency to the general public,” said desjarlais, who practiced medicine before his election to congress.\n“the american people want to know that their commander in chief is fully capable of performing at the highest level to protect the safety and security of our nation,” the gop lawmaker added.\nadvertisement - story continues below\nand he’s exactly right. biden’s frail public perception has many severe ramifications from a national security perspective.\nfor a president who essentially ran on a transparency ticket, it’s one of many promises that biden and his white house handlers haven’t come through on and presumably never will, because the truth is likely too damaging to survive a round of inevitably lousy press that would come along with it.\ndo you think biden needs to take a cognitive and release the results?\nyes\nno\ncompleting this poll entitles you to the gateway pundit news updates free of charge. you may opt out at anytime. you also agree to our privacy policy and terms of use .\nyou're logged in to facebook. click here to log out.\n100% (33 votes)\n0% (0 votes)\none republican official told the examiner that americans deserve better than what they’re getting with biden’s white house.\n“seriously, where is biden?” the unnamed senior official reportedly asked. “no press interviews, the white house press secretary has no credibility left, and the administration dodges, deflects, and delays on matters that deserve full transparency.\n“the american people deserve better than the dishonesty and evasiveness of biden.”\nadvertisement - story continues below\ndesjarlais joins texas republican rep. ronny jackson, a former white house physician, in calling for biden to come clean about his overall picture of health. jackson has been a highly outspoken critic of biden’s cognitive health concerns, even calling biden’s white house an “ assisted living facility ” during a rally in october.\nin late november of 2022, jackson doubled down and called on biden to resign.\n“president biden is 80 years old and mentally unstable. this man is not fit to work the counter at ben and jerry’s, let alone to be our commander in chief!!! he’s totally incapable of the job, and needs to take a cognitive test immediately or else resign,” jackson tweeted.\npresident biden is 80 years old and mentally unstable. this man is not fit to work the counter at ben and jerry’s, let alone to be our commander in chief!!! he’s totally incapable of the job, and needs to take a cognitive test immediately or else resign pic.twitter.com/inz9ewhdtx\n— ronny jackson (@ronnyjacksontx) november 28, 2022\nadvertisement - story continues below\nfrom calling on deceased members of congress to making embarrassing blunders in what feels like a majority of his speeches, to forgetting names of historically significant figures, biden’s a total mess, and it’s time to dial up the pressure.\nthe doctors calling on biden to take a cognitive test, as other modern presidents have, isn’t a cheap attack line — it’s a valid and critically important measurement that can determine whether or not biden is capable of leading the most powerful country in the world.\nif he’s past his prime, so be it. it happens to everyone eventually. but as a country, we can’t afford to gamble with a leader who appears to be operating at significantly less than 100 percent, at least according to his actions.\nadvertisement - story continues below\nat the very least, the white house should immediately release biden’s physical examination results from 2022. the longer the white house stalls, the more speculation will build that it’s delaying the exam results for reasons unfavorable to the president.\n</p>"
          },
          "metadata": {}
        },
        {
          "output_type": "stream",
          "name": "stdout",
          "text": [
            "None\n",
            "Similarity score for review 3: 0.995019257068634\n"
          ]
        },
        {
          "output_type": "display_data",
          "data": {
            "text/plain": [
              "<IPython.core.display.Markdown object>"
            ],
            "text/markdown": "<p>shareshareshare email\ncan we all stop pretending that president joe biden is ok?\nwhile the white house insists otherwise, any reasonable person, republican or democrat, who’s paid attention for the past two years knows there’s simply no way biden has the cognitive — possibly also physical — health required to mount a run for a second term in the white house.\nit’s a grueling process, to say the least, and it requires sharpness of mind and body, and “sharpness” isn’t a word any honest person can associate with the 80-year-old president.\nadvertisement - story continues below\non the physical health front, even after promising that biden’s physical exam results for 2022 would be released by the end of the year, it’s now almost the end of january 2023, and nothing has been released yet. it’s easy to presume there’s a strategic reason for that.\nmany have criticized the elderly, seemingly fragile president for his constant gaffes and blunders in his speeches. rep. scott desjarlais (r-tennessee) told the washington examiner that it’s high time the white house is significantly more transparent about the president’s health and overall state of mind.\ntrending: zelensky sent out government decree to destroy all information on hunter biden's metabiota company on same day as russian invasion - then fire spotted outside intel headquarters\n“i think it would be important to see a very thorough and comprehensive cognitive function study that is released with transparency to the general public,” said desjarlais, who practiced medicine before his election to congress.\n“the american people want to know that their commander in chief is fully capable of performing at the highest level to protect the safety and security of our nation,” the gop lawmaker added.\nadvertisement - story continues below\nand he’s exactly right. biden’s frail public perception has many severe ramifications from a national security perspective.\nfor a president who essentially ran on a transparency ticket, it’s one of many promises that biden and his white house handlers haven’t come through on and presumably never will, because the truth is likely too damaging to survive a round of inevitably lousy press that would come along with it.\ndo you think biden needs to take a cognitive and release the results?\nyes\nno\ncompleting this poll entitles you to the gateway pundit news updates free of charge. you may opt out at anytime. you also agree to our privacy policy and terms of use .\nyou're logged in to facebook. click here to log out.\n100% (14 votes)\n0% (0 votes)\none republican official told the examiner that americans deserve better than what they’re getting with biden’s white house.\n“seriously, where is biden?” the unnamed senior official reportedly asked. “no press interviews, the white house press secretary has no credibility left, and the administration dodges, deflects, and delays on matters that deserve full transparency.\n“the american people deserve better than the dishonesty and evasiveness of biden.”\nadvertisement - story continues below\ndesjarlais joins texas republican rep. ronny jackson, a former white house physician, in calling for biden to come clean about his overall picture of health. jackson has been a highly outspoken critic of biden’s cognitive health concerns, even calling biden’s white house an “ assisted living facility ” during a rally in october.\nin late november of 2022, jackson doubled down and called on biden to resign.\n“president biden is 80 years old and mentally unstable. this man is not fit to work the counter at ben and jerry’s, let alone to be our commander in chief!!! he’s totally incapable of the job, and needs to take a cognitive test immediately or else resign,” jackson tweeted.\npresident biden is 80 years old and mentally unstable. this man is not fit to work the counter at ben and jerry’s, let alone to be our commander in chief!!! he’s totally incapable of the job, and needs to take a cognitive test immediately or else resign pic.twitter.com/inz9ewhdtx\n— ronny jackson (@ronnyjacksontx) november 28, 2022\nadvertisement - story continues below\nfrom calling on deceased members of congress to making embarrassing blunders in what feels like a majority of his speeches, to forgetting names of historically significant figures, biden’s a total mess, and it’s time to dial up the pressure.\nthe doctors calling on biden to take a cognitive test, as other modern presidents have, isn’t a cheap attack line — it’s a valid and critically important measurement that can determine whether or not biden is capable of leading the most powerful country in the world.\nif he’s past his prime, so be it. it happens to everyone eventually. but as a country, we can’t afford to gamble with a leader who appears to be operating at significantly less than 100 percent, at least according to his actions.\nadvertisement - story continues below\nat the very least, the white house should immediately release biden’s physical examination results from 2022. the longer the white house stalls, the more speculation will build that it’s delaying the exam results for reasons unfavorable to the president.\n</p>"
          },
          "metadata": {}
        },
        {
          "output_type": "stream",
          "name": "stdout",
          "text": [
            "None\n",
            "Similarity score for review 4: 0.9950128197669983\n"
          ]
        },
        {
          "output_type": "display_data",
          "data": {
            "text/plain": [
              "<IPython.core.display.Markdown object>"
            ],
            "text/markdown": "<p>shareshareshare email\ncan we all stop pretending that president joe biden is ok?\nwhile the white house insists otherwise, any reasonable person, republican or democrat, who’s paid attention for the past two years knows there’s simply no way biden has the cognitive — possibly also physical — health required to mount a run for a second term in the white house.\nit’s a grueling process, to say the least, and it requires sharpness of mind and body, and “sharpness” isn’t a word any honest person can associate with the 80-year-old president.\nadvertisement - story continues below\non the physical health front, even after promising that biden’s physical exam results for 2022 would be released by the end of the year, it’s now almost the end of january 2023, and nothing has been released yet. it’s easy to presume there’s a strategic reason for that.\nmany have criticized the elderly, seemingly fragile president for his constant gaffes and blunders in his speeches. rep. scott desjarlais (r-tennessee) told the washington examiner that it’s high time the white house is significantly more transparent about the president’s health and overall state of mind.\ntrending: zelensky sent out government decree to destroy all information on hunter biden's metabiota company on same day as russian invasion - then fire spotted outside intel headquarters\n“i think it would be important to see a very thorough and comprehensive cognitive function study that is released with transparency to the general public,” said desjarlais, who practiced medicine before his election to congress.\n“the american people want to know that their commander in chief is fully capable of performing at the highest level to protect the safety and security of our nation,” the gop lawmaker added.\nadvertisement - story continues below\nand he’s exactly right. biden’s frail public perception has many severe ramifications from a national security perspective.\nfor a president who essentially ran on a transparency ticket, it’s one of many promises that biden and his white house handlers haven’t come through on and presumably never will, because the truth is likely too damaging to survive a round of inevitably lousy press that would come along with it.\ndo you think biden needs to take a cognitive and release the results?\nyes\nno\ncompleting this poll entitles you to the gateway pundit news updates free of charge. you may opt out at anytime. you also agree to our privacy policy and terms of use .\nyou're logged in to facebook. click here to log out.\n100% (3 votes)\n0% (0 votes)\none republican official told the examiner that americans deserve better than what they’re getting with biden’s white house.\n“seriously, where is biden?” the unnamed senior official reportedly asked. “no press interviews, the white house press secretary has no credibility left, and the administration dodges, deflects, and delays on matters that deserve full transparency.\n“the american people deserve better than the dishonesty and evasiveness of biden.”\nadvertisement - story continues below\ndesjarlais joins texas republican rep. ronny jackson, a former white house physician, in calling for biden to come clean about his overall picture of health. jackson has been a highly outspoken critic of biden’s cognitive health concerns, even calling biden’s white house an “ assisted living facility ” during a rally in october.\nin late november of 2022, jackson doubled down and called on biden to resign.\n“president biden is 80 years old and mentally unstable. this man is not fit to work the counter at ben and jerry’s, let alone to be our commander in chief!!! he’s totally incapable of the job, and needs to take a cognitive test immediately or else resign,” jackson tweeted.\npresident biden is 80 years old and mentally unstable. this man is not fit to work the counter at ben and jerry’s, let alone to be our commander in chief!!! he’s totally incapable of the job, and needs to take a cognitive test immediately or else resign pic.twitter.com/inz9ewhdtx\n— ronny jackson (@ronnyjacksontx) november 28, 2022\nadvertisement - story continues below\nfrom calling on deceased members of congress to making embarrassing blunders in what feels like a majority of his speeches, to forgetting names of historically significant figures, biden’s a total mess, and it’s time to dial up the pressure.\nthe doctors calling on biden to take a cognitive test, as other modern presidents have, isn’t a cheap attack line — it’s a valid and critically important measurement that can determine whether or not biden is capable of leading the most powerful country in the world.\nif he’s past his prime, so be it. it happens to everyone eventually. but as a country, we can’t afford to gamble with a leader who appears to be operating at significantly less than 100 percent, at least according to his actions.\nadvertisement - story continues below\nat the very least, the white house should immediately release biden’s physical examination results from 2022. the longer the white house stalls, the more speculation will build that it’s delaying the exam results for reasons unfavorable to the president.\n</p>"
          },
          "metadata": {}
        },
        {
          "output_type": "stream",
          "name": "stdout",
          "text": [
            "None\n",
            "Similarity score for review 5: 0.9950123429298401\n"
          ]
        },
        {
          "output_type": "display_data",
          "data": {
            "text/plain": [
              "<IPython.core.display.Markdown object>"
            ],
            "text/markdown": "<p>shareshareshare email\ncan we all stop pretending that president joe biden is ok?\nwhile the white house insists otherwise, any reasonable person, republican or democrat, who’s paid attention for the past two years knows there’s simply no way biden has the cognitive — possibly also physical — health required to mount a run for a second term in the white house.\nit’s a grueling process, to say the least, and it requires sharpness of mind and body, and “sharpness” isn’t a word any honest person can associate with the 80-year-old president.\nadvertisement - story continues below\non the physical health front, even after promising that biden’s physical exam results for 2022 would be released by the end of the year, it’s now almost the end of january 2023, and nothing has been released yet. it’s easy to presume there’s a strategic reason for that.\nmany have criticized the elderly, seemingly fragile president for his constant gaffes and blunders in his speeches. rep. scott desjarlais (r-tennessee) told the washington examiner that it’s high time the white house is significantly more transparent about the president’s health and overall state of mind.\ntrending: zelensky sent out government decree to destroy all information on hunter biden's metabiota company on same day as russian invasion - then fire spotted outside intel headquarters\n“i think it would be important to see a very thorough and comprehensive cognitive function study that is released with transparency to the general public,” said desjarlais, who practiced medicine before his election to congress.\n“the american people want to know that their commander in chief is fully capable of performing at the highest level to protect the safety and security of our nation,” the gop lawmaker added.\nadvertisement - story continues below\nand he’s exactly right. biden’s frail public perception has many severe ramifications from a national security perspective.\nfor a president who essentially ran on a transparency ticket, it’s one of many promises that biden and his white house handlers haven’t come through on and presumably never will, because the truth is likely too damaging to survive a round of inevitably lousy press that would come along with it.\ndo you think biden needs to take a cognitive and release the results?\nyes\nno\ncompleting this poll entitles you to the gateway pundit news updates free of charge. you may opt out at anytime. you also agree to our privacy policy and terms of use .\nyou're logged in to facebook. click here to log out.\n100% (23 votes)\n0% (0 votes)\none republican official told the examiner that americans deserve better than what they’re getting with biden’s white house.\n“seriously, where is biden?” the unnamed senior official reportedly asked. “no press interviews, the white house press secretary has no credibility left, and the administration dodges, deflects, and delays on matters that deserve full transparency.\n“the american people deserve better than the dishonesty and evasiveness of biden.”\nadvertisement - story continues below\ndesjarlais joins texas republican rep. ronny jackson, a former white house physician, in calling for biden to come clean about his overall picture of health. jackson has been a highly outspoken critic of biden’s cognitive health concerns, even calling biden’s white house an “ assisted living facility ” during a rally in october.\nin late november of 2022, jackson doubled down and called on biden to resign.\n“president biden is 80 years old and mentally unstable. this man is not fit to work the counter at ben and jerry’s, let alone to be our commander in chief!!! he’s totally incapable of the job, and needs to take a cognitive test immediately or else resign,” jackson tweeted.\npresident biden is 80 years old and mentally unstable. this man is not fit to work the counter at ben and jerry’s, let alone to be our commander in chief!!! he’s totally incapable of the job, and needs to take a cognitive test immediately or else resign pic.twitter.com/inz9ewhdtx\n— ronny jackson (@ronnyjacksontx) november 28, 2022\nadvertisement - story continues below\nfrom calling on deceased members of congress to making embarrassing blunders in what feels like a majority of his speeches, to forgetting names of historically significant figures, biden’s a total mess, and it’s time to dial up the pressure.\nthe doctors calling on biden to take a cognitive test, as other modern presidents have, isn’t a cheap attack line — it’s a valid and critically important measurement that can determine whether or not biden is capable of leading the most powerful country in the world.\nif he’s past his prime, so be it. it happens to everyone eventually. but as a country, we can’t afford to gamble with a leader who appears to be operating at significantly less than 100 percent, at least according to his actions.\nadvertisement - story continues below\nat the very least, the white house should immediately release biden’s physical examination results from 2022. the longer the white house stalls, the more speculation will build that it’s delaying the exam results for reasons unfavorable to the president.\n</p>"
          },
          "metadata": {}
        },
        {
          "output_type": "stream",
          "name": "stdout",
          "text": [
            "None\n",
            "Similarity score for review 6: 0.9950122237205505\n"
          ]
        },
        {
          "output_type": "display_data",
          "data": {
            "text/plain": [
              "<IPython.core.display.Markdown object>"
            ],
            "text/markdown": "<p>shareshareshare email\ncan we all stop pretending that president joe biden is ok?\nwhile the white house insists otherwise, any reasonable person, republican or democrat, who’s paid attention for the past two years knows there’s simply no way biden has the cognitive — possibly also physical — health required to mount a run for a second term in the white house.\nit’s a grueling process, to say the least, and it requires sharpness of mind and body, and “sharpness” isn’t a word any honest person can associate with the 80-year-old president.\nadvertisement - story continues below\non the physical health front, even after promising that biden’s physical exam results for 2022 would be released by the end of the year, it’s now almost the end of january 2023, and nothing has been released yet. it’s easy to presume there’s a strategic reason for that.\nmany have criticized the elderly, seemingly fragile president for his constant gaffes and blunders in his speeches. rep. scott desjarlais (r-tennessee) told the washington examiner that it’s high time the white house is significantly more transparent about the president’s health and overall state of mind.\ntrending: zelensky sent out government decree to destroy all information on hunter biden's metabiota company on same day as russian invasion - then fire spotted outside intel headquarters\n“i think it would be important to see a very thorough and comprehensive cognitive function study that is released with transparency to the general public,” said desjarlais, who practiced medicine before his election to congress.\n“the american people want to know that their commander in chief is fully capable of performing at the highest level to protect the safety and security of our nation,” the gop lawmaker added.\nadvertisement - story continues below\nand he’s exactly right. biden’s frail public perception has many severe ramifications from a national security perspective.\nfor a president who essentially ran on a transparency ticket, it’s one of many promises that biden and his white house handlers haven’t come through on and presumably never will, because the truth is likely too damaging to survive a round of inevitably lousy press that would come along with it.\ndo you think biden needs to take a cognitive and release the results?\nyes\nno\ncompleting this poll entitles you to the gateway pundit news updates free of charge. you may opt out at anytime. you also agree to our privacy policy and terms of use .\nyou're logged in to facebook. click here to log out.\n100% (22 votes)\n0% (0 votes)\none republican official told the examiner that americans deserve better than what they’re getting with biden’s white house.\n“seriously, where is biden?” the unnamed senior official reportedly asked. “no press interviews, the white house press secretary has no credibility left, and the administration dodges, deflects, and delays on matters that deserve full transparency.\n“the american people deserve better than the dishonesty and evasiveness of biden.”\nadvertisement - story continues below\ndesjarlais joins texas republican rep. ronny jackson, a former white house physician, in calling for biden to come clean about his overall picture of health. jackson has been a highly outspoken critic of biden’s cognitive health concerns, even calling biden’s white house an “ assisted living facility ” during a rally in october.\nin late november of 2022, jackson doubled down and called on biden to resign.\n“president biden is 80 years old and mentally unstable. this man is not fit to work the counter at ben and jerry’s, let alone to be our commander in chief!!! he’s totally incapable of the job, and needs to take a cognitive test immediately or else resign,” jackson tweeted.\npresident biden is 80 years old and mentally unstable. this man is not fit to work the counter at ben and jerry’s, let alone to be our commander in chief!!! he’s totally incapable of the job, and needs to take a cognitive test immediately or else resign pic.twitter.com/inz9ewhdtx\n— ronny jackson (@ronnyjacksontx) november 28, 2022\nadvertisement - story continues below\nfrom calling on deceased members of congress to making embarrassing blunders in what feels like a majority of his speeches, to forgetting names of historically significant figures, biden’s a total mess, and it’s time to dial up the pressure.\nthe doctors calling on biden to take a cognitive test, as other modern presidents have, isn’t a cheap attack line — it’s a valid and critically important measurement that can determine whether or not biden is capable of leading the most powerful country in the world.\nif he’s past his prime, so be it. it happens to everyone eventually. but as a country, we can’t afford to gamble with a leader who appears to be operating at significantly less than 100 percent, at least according to his actions.\nadvertisement - story continues below\nat the very least, the white house should immediately release biden’s physical examination results from 2022. the longer the white house stalls, the more speculation will build that it’s delaying the exam results for reasons unfavorable to the president.\n</p>"
          },
          "metadata": {}
        },
        {
          "output_type": "stream",
          "name": "stdout",
          "text": [
            "None\n",
            "Similarity score for review 7: 0.9950105547904968\n"
          ]
        },
        {
          "output_type": "display_data",
          "data": {
            "text/plain": [
              "<IPython.core.display.Markdown object>"
            ],
            "text/markdown": "<p>shareshareshare email\ncan we all stop pretending that president joe biden is ok?\nwhile the white house insists otherwise, any reasonable person, republican or democrat, who’s paid attention for the past two years knows there’s simply no way biden has the cognitive — possibly also physical — health required to mount a run for a second term in the white house.\nit’s a grueling process, to say the least, and it requires sharpness of mind and body, and “sharpness” isn’t a word any honest person can associate with the 80-year-old president.\nadvertisement - story continues below\non the physical health front, even after promising that biden’s physical exam results for 2022 would be released by the end of the year, it’s now almost the end of january 2023, and nothing has been released yet. it’s easy to presume there’s a strategic reason for that.\nmany have criticized the elderly, seemingly fragile president for his constant gaffes and blunders in his speeches. rep. scott desjarlais (r-tennessee) told the washington examiner that it’s high time the white house is significantly more transparent about the president’s health and overall state of mind.\ntrending: zelensky sent out government decree to destroy all information on hunter biden's metabiota company on same day as russian invasion - then fire spotted outside intel headquarters\n“i think it would be important to see a very thorough and comprehensive cognitive function study that is released with transparency to the general public,” said desjarlais, who practiced medicine before his election to congress.\n“the american people want to know that their commander in chief is fully capable of performing at the highest level to protect the safety and security of our nation,” the gop lawmaker added.\nadvertisement - story continues below\nand he’s exactly right. biden’s frail public perception has many severe ramifications from a national security perspective.\nfor a president who essentially ran on a transparency ticket, it’s one of many promises that biden and his white house handlers haven’t come through on and presumably never will, because the truth is likely too damaging to survive a round of inevitably lousy press that would come along with it.\ndo you think biden needs to take a cognitive and release the results?\nyes\nno\ncompleting this poll entitles you to the gateway pundit news updates free of charge. you may opt out at anytime. you also agree to our privacy policy and terms of use .\nyou're logged in to facebook. click here to log out.\n100% (16 votes)\n0% (0 votes)\none republican official told the examiner that americans deserve better than what they’re getting with biden’s white house.\n“seriously, where is biden?” the unnamed senior official reportedly asked. “no press interviews, the white house press secretary has no credibility left, and the administration dodges, deflects, and delays on matters that deserve full transparency.\n“the american people deserve better than the dishonesty and evasiveness of biden.”\nadvertisement - story continues below\ndesjarlais joins texas republican rep. ronny jackson, a former white house physician, in calling for biden to come clean about his overall picture of health. jackson has been a highly outspoken critic of biden’s cognitive health concerns, even calling biden’s white house an “ assisted living facility ” during a rally in october.\nin late november of 2022, jackson doubled down and called on biden to resign.\n“president biden is 80 years old and mentally unstable. this man is not fit to work the counter at ben and jerry’s, let alone to be our commander in chief!!! he’s totally incapable of the job, and needs to take a cognitive test immediately or else resign,” jackson tweeted.\npresident biden is 80 years old and mentally unstable. this man is not fit to work the counter at ben and jerry’s, let alone to be our commander in chief!!! he’s totally incapable of the job, and needs to take a cognitive test immediately or else resign pic.twitter.com/inz9ewhdtx\n— ronny jackson (@ronnyjacksontx) november 28, 2022\nadvertisement - story continues below\nfrom calling on deceased members of congress to making embarrassing blunders in what feels like a majority of his speeches, to forgetting names of historically significant figures, biden’s a total mess, and it’s time to dial up the pressure.\nthe doctors calling on biden to take a cognitive test, as other modern presidents have, isn’t a cheap attack line — it’s a valid and critically important measurement that can determine whether or not biden is capable of leading the most powerful country in the world.\nif he’s past his prime, so be it. it happens to everyone eventually. but as a country, we can’t afford to gamble with a leader who appears to be operating at significantly less than 100 percent, at least according to his actions.\nadvertisement - story continues below\nat the very least, the white house should immediately release biden’s physical examination results from 2022. the longer the white house stalls, the more speculation will build that it’s delaying the exam results for reasons unfavorable to the president.\n</p>"
          },
          "metadata": {}
        },
        {
          "output_type": "stream",
          "name": "stdout",
          "text": [
            "None\n",
            "Similarity score for review 8: 0.9937557578086853\n"
          ]
        },
        {
          "output_type": "display_data",
          "data": {
            "text/plain": [
              "<IPython.core.display.Markdown object>"
            ],
            "text/markdown": "<p>commentary\ncommentary\nanother member of congress is calling on president joe biden to undergo a cognitive evaluation -- and to make the results public. (michael m. santiago / getty images)\nanother prominent doctor calls for biden to undergo cognitive test: 'the american people deserve better'\nby ryan ledendecker january 31, 2023 at 4:33pm\nmoreshare\ncan we all stop pretending that president joe biden is ok?\nwhile the white house insists otherwise, any reasonable person, republican or democrat, who’s paid attention for the past two years knows there’s simply no way biden has the cognitive — possibly also physical — health required to mount a run for a second term in the white house.\nit’s a grueling process, to say the least, and it requires sharpness of mind and body, and “sharpness” isn’t a word any honest person can associate with the 80-year-old president.\nadvertisement - story continues below\non the physical health front, even after promising that biden’s physical exam results for 2022 would be released by the end of the year, it’s now almost the end of january 2023, and nothing has been released yet. it’s easy to presume there’s a strategic reason for that.\nmany have criticized the elderly, seemingly fragile president for his constant gaffes and blunders in his speeches. rep. scott desjarlais (r-tennessee) told the washington examiner that it’s high time the white house is significantly more transparent about the president’s health and overall state of mind.\ntrending:\n15-year-old student found dead days after mysteriously vanishing from high school\n“i think it would be important to see a very thorough and comprehensive cognitive function study that is released with transparency to the general public,” said desjarlais, who practiced medicine before his election to congress.\n“the american people want to know that their commander in chief is fully capable of performing at the highest level to protect the safety and security of our nation,” the gop lawmaker added.\nadvertisement - story continues below\nand he’s exactly right. biden’s frail public perception has many severe ramifications from a national security perspective.\nfor a president who essentially ran on a transparency ticket, it’s one of many promises that biden and his white house handlers haven’t come through on and presumably never will, because the truth is likely too damaging to survive a round of inevitably lousy press that would come along with it.\ndo you think biden needs to take a cognitive and release the results?\nyes\nno\ncompleting this poll entitles you to the western journal news updates free of charge. you may opt out at anytime. you also agree to our privacy policy and terms of use .\nyes: 97% (38 votes)\nno: 3% (1 votes)\none republican official told the examiner that americans deserve better than what they’re getting with biden’s white house.\n“seriously, where is biden?” the unnamed senior official reportedly asked. “no press interviews, the white house press secretary has no credibility left, and the administration dodges, deflects, and delays on matters that deserve full transparency.\n“the american people deserve better than the dishonesty and evasiveness of biden.”\nadvertisement - story continues below\ndesjarlais joins texas republican rep. ronny jackson, a former white house physician, in calling for biden to come clean about his overall picture of health. jackson has been a highly outspoken critic of biden’s cognitive health concerns, even calling biden’s white house an “ assisted living facility ” during a rally in october.\nin late november of 2022, jackson doubled down and called on biden to resign.\nrelated:\n'ridin with biden' horse comes in dead last at famous 2023 pegasus world cup\n“president biden is 80 years old and mentally unstable. this man is not fit to work the counter at ben and jerry’s, let alone to be our commander in chief!!! he’s totally incapable of the job, and needs to take a cognitive test immediately or else resign,” jackson tweeted.\npresident biden is 80 years old and mentally unstable. this man is not fit to work the counter at ben and jerry’s, let alone to be our commander in chief!!! he’s totally incapable of the job, and needs to take a cognitive test immediately or else resign pic.twitter.com/inz9ewhdtx\n— ronny jackson (@ronnyjacksontx) november 28, 2022\nadvertisement - story continues below\nfrom calling on deceased members of congress to making embarrassing blunders in what feels like a majority of his speeches, to forgetting names of historically significant figures, biden’s a total mess, and it’s time to dial up the pressure.\nthe doctors calling on biden to take a cognitive test, as other modern presidents have, isn’t a cheap attack line — it’s a valid and critically important measurement that can determine whether or not biden is capable of leading the most powerful country in the world.\nif he’s past his prime, so be it. it happens to everyone eventually. but as a country, we can’t afford to gamble with a leader who appears to be operating at significantly less than 100 percent, at least according to his actions.\nadvertisement - story continues below\nat the very least, the white house should immediately release biden’s physical examination results from 2022. the longer the white house stalls, the more speculation will build that it’s delaying the exam results for reasons unfavorable to the president.\ntruth and accuracy\n</p>"
          },
          "metadata": {}
        },
        {
          "output_type": "stream",
          "name": "stdout",
          "text": [
            "None\n",
            "Similarity score for review 9: 0.9937525391578674\n"
          ]
        },
        {
          "output_type": "display_data",
          "data": {
            "text/plain": [
              "<IPython.core.display.Markdown object>"
            ],
            "text/markdown": "<p>commentary\ncommentary\nanother member of congress is calling on president joe biden to undergo a cognitive evaluation -- and to make the results public. (michael m. santiago / getty images)\nanother prominent doctor calls for biden to undergo cognitive test: 'the american people deserve better'\nby ryan ledendecker january 31, 2023 at 4:33pm\nmoreshare\ncan we all stop pretending that president joe biden is ok?\nwhile the white house insists otherwise, any reasonable person, republican or democrat, who’s paid attention for the past two years knows there’s simply no way biden has the cognitive — possibly also physical — health required to mount a run for a second term in the white house.\nit’s a grueling process, to say the least, and it requires sharpness of mind and body, and “sharpness” isn’t a word any honest person can associate with the 80-year-old president.\nadvertisement - story continues below\non the physical health front, even after promising that biden’s physical exam results for 2022 would be released by the end of the year, it’s now almost the end of january 2023, and nothing has been released yet. it’s easy to presume there’s a strategic reason for that.\nmany have criticized the elderly, seemingly fragile president for his constant gaffes and blunders in his speeches. rep. scott desjarlais (r-tennessee) told the washington examiner that it’s high time the white house is significantly more transparent about the president’s health and overall state of mind.\ntrending:\n15-year-old student found dead days after mysteriously vanishing from high school\n“i think it would be important to see a very thorough and comprehensive cognitive function study that is released with transparency to the general public,” said desjarlais, who practiced medicine before his election to congress.\n“the american people want to know that their commander in chief is fully capable of performing at the highest level to protect the safety and security of our nation,” the gop lawmaker added.\nadvertisement - story continues below\nand he’s exactly right. biden’s frail public perception has many severe ramifications from a national security perspective.\nfor a president who essentially ran on a transparency ticket, it’s one of many promises that biden and his white house handlers haven’t come through on and presumably never will, because the truth is likely too damaging to survive a round of inevitably lousy press that would come along with it.\ndo you think biden needs to take a cognitive and release the results?\nyes\nno\ncompleting this poll entitles you to the western journal news updates free of charge. you may opt out at anytime. you also agree to our privacy policy and terms of use .\nyes: 97% (35 votes)\nno: 3% (1 votes)\none republican official told the examiner that americans deserve better than what they’re getting with biden’s white house.\n“seriously, where is biden?” the unnamed senior official reportedly asked. “no press interviews, the white house press secretary has no credibility left, and the administration dodges, deflects, and delays on matters that deserve full transparency.\n“the american people deserve better than the dishonesty and evasiveness of biden.”\nadvertisement - story continues below\ndesjarlais joins texas republican rep. ronny jackson, a former white house physician, in calling for biden to come clean about his overall picture of health. jackson has been a highly outspoken critic of biden’s cognitive health concerns, even calling biden’s white house an “ assisted living facility ” during a rally in october.\nin late november of 2022, jackson doubled down and called on biden to resign.\nrelated:\n'ridin with biden' horse comes in dead last at famous 2023 pegasus world cup\n“president biden is 80 years old and mentally unstable. this man is not fit to work the counter at ben and jerry’s, let alone to be our commander in chief!!! he’s totally incapable of the job, and needs to take a cognitive test immediately or else resign,” jackson tweeted.\npresident biden is 80 years old and mentally unstable. this man is not fit to work the counter at ben and jerry’s, let alone to be our commander in chief!!! he’s totally incapable of the job, and needs to take a cognitive test immediately or else resign pic.twitter.com/inz9ewhdtx\n— ronny jackson (@ronnyjacksontx) november 28, 2022\nadvertisement - story continues below\nfrom calling on deceased members of congress to making embarrassing blunders in what feels like a majority of his speeches, to forgetting names of historically significant figures, biden’s a total mess, and it’s time to dial up the pressure.\nthe doctors calling on biden to take a cognitive test, as other modern presidents have, isn’t a cheap attack line — it’s a valid and critically important measurement that can determine whether or not biden is capable of leading the most powerful country in the world.\nif he’s past his prime, so be it. it happens to everyone eventually. but as a country, we can’t afford to gamble with a leader who appears to be operating at significantly less than 100 percent, at least according to his actions.\nadvertisement - story continues below\nat the very least, the white house should immediately release biden’s physical examination results from 2022. the longer the white house stalls, the more speculation will build that it’s delaying the exam results for reasons unfavorable to the president.\ntruth and accuracy\n</p>"
          },
          "metadata": {}
        },
        {
          "output_type": "stream",
          "name": "stdout",
          "text": [
            "None\n",
            "Similarity score for review 10: 0.993748664855957\n"
          ]
        },
        {
          "output_type": "display_data",
          "data": {
            "text/plain": [
              "<IPython.core.display.Markdown object>"
            ],
            "text/markdown": "<p>commentary\ncommentary\nanother member of congress is calling on president joe biden to undergo a cognitive evaluation -- and to make the results public. (michael m. santiago / getty images)\nanother prominent doctor calls for biden to undergo cognitive test: 'the american people deserve better'\nby ryan ledendecker january 31, 2023 at 4:33pm\nmoreshare\ncan we all stop pretending that president joe biden is ok?\nwhile the white house insists otherwise, any reasonable person, republican or democrat, who’s paid attention for the past two years knows there’s simply no way biden has the cognitive — possibly also physical — health required to mount a run for a second term in the white house.\nit’s a grueling process, to say the least, and it requires sharpness of mind and body, and “sharpness” isn’t a word any honest person can associate with the 80-year-old president.\nadvertisement - story continues below\non the physical health front, even after promising that biden’s physical exam results for 2022 would be released by the end of the year, it’s now almost the end of january 2023, and nothing has been released yet. it’s easy to presume there’s a strategic reason for that.\nmany have criticized the elderly, seemingly fragile president for his constant gaffes and blunders in his speeches. rep. scott desjarlais (r-tennessee) told the washington examiner that it’s high time the white house is significantly more transparent about the president’s health and overall state of mind.\ntrending:\n15-year-old student found dead days after mysteriously vanishing from high school\n“i think it would be important to see a very thorough and comprehensive cognitive function study that is released with transparency to the general public,” said desjarlais, who practiced medicine before his election to congress.\n“the american people want to know that their commander in chief is fully capable of performing at the highest level to protect the safety and security of our nation,” the gop lawmaker added.\nadvertisement - story continues below\nand he’s exactly right. biden’s frail public perception has many severe ramifications from a national security perspective.\nfor a president who essentially ran on a transparency ticket, it’s one of many promises that biden and his white house handlers haven’t come through on and presumably never will, because the truth is likely too damaging to survive a round of inevitably lousy press that would come along with it.\ndo you think biden needs to take a cognitive and release the results?\nyes\nno\ncompleting this poll entitles you to the western journal news updates free of charge. you may opt out at anytime. you also agree to our privacy policy and terms of use .\nyes: 98% (41 votes)\nno: 2% (1 votes)\none republican official told the examiner that americans deserve better than what they’re getting with biden’s white house.\n“seriously, where is biden?” the unnamed senior official reportedly asked. “no press interviews, the white house press secretary has no credibility left, and the administration dodges, deflects, and delays on matters that deserve full transparency.\n“the american people deserve better than the dishonesty and evasiveness of biden.”\nadvertisement - story continues below\ndesjarlais joins texas republican rep. ronny jackson, a former white house physician, in calling for biden to come clean about his overall picture of health. jackson has been a highly outspoken critic of biden’s cognitive health concerns, even calling biden’s white house an “ assisted living facility ” during a rally in october.\nin late november of 2022, jackson doubled down and called on biden to resign.\nrelated:\n'ridin with biden' horse comes in dead last at famous 2023 pegasus world cup\n“president biden is 80 years old and mentally unstable. this man is not fit to work the counter at ben and jerry’s, let alone to be our commander in chief!!! he’s totally incapable of the job, and needs to take a cognitive test immediately or else resign,” jackson tweeted.\npresident biden is 80 years old and mentally unstable. this man is not fit to work the counter at ben and jerry’s, let alone to be our commander in chief!!! he’s totally incapable of the job, and needs to take a cognitive test immediately or else resign pic.twitter.com/inz9ewhdtx\n— ronny jackson (@ronnyjacksontx) november 28, 2022\nadvertisement - story continues below\nfrom calling on deceased members of congress to making embarrassing blunders in what feels like a majority of his speeches, to forgetting names of historically significant figures, biden’s a total mess, and it’s time to dial up the pressure.\nthe doctors calling on biden to take a cognitive test, as other modern presidents have, isn’t a cheap attack line — it’s a valid and critically important measurement that can determine whether or not biden is capable of leading the most powerful country in the world.\nif he’s past his prime, so be it. it happens to everyone eventually. but as a country, we can’t afford to gamble with a leader who appears to be operating at significantly less than 100 percent, at least according to his actions.\nadvertisement - story continues below\nat the very least, the white house should immediately release biden’s physical examination results from 2022. the longer the white house stalls, the more speculation will build that it’s delaying the exam results for reasons unfavorable to the president.\ntruth and accuracy\n</p>"
          },
          "metadata": {}
        },
        {
          "output_type": "stream",
          "name": "stdout",
          "text": [
            "None\n"
          ]
        }
      ]
    },
    {
      "cell_type": "markdown",
      "metadata": {
        "id": "0zNcNA8ixohS"
      },
      "source": [
        "## K Means Clustering with Semantic Similarities"
      ]
    },
    {
      "cell_type": "code",
      "source": [
        "from sklearn.metrics import silhouette_score\n",
        "from sklearn.cluster import KMeans\n",
        "import matplotlib.pyplot as plt\n",
        "import warnings\n",
        "warnings.filterwarnings('ignore')"
      ],
      "metadata": {
        "id": "RobO5dbgCIhY"
      },
      "execution_count": null,
      "outputs": []
    },
    {
      "cell_type": "code",
      "source": [
        "X = np.stack(data_clean['vector'].values)\n",
        "\n",
        "sse = []\n",
        "for k in range(1, 20):\n",
        "    kmeans = KMeans(n_clusters=k, random_state=0).fit(X)\n",
        "    sse.append(kmeans.inertia_)\n",
        "\n",
        "plt.figure(figsize=(10, 6))\n",
        "plt.plot(range(1, 20), sse, marker='o')\n",
        "plt.xlabel('Number of clusters')\n",
        "plt.ylabel('SSE')\n",
        "plt.title('Elbow Method for Optimal k')\n",
        "plt.show()\n"
      ],
      "metadata": {
        "colab": {
          "base_uri": "https://localhost:8080/",
          "height": 484
        },
        "id": "FtikblpgEnfW",
        "outputId": "fb5388f3-f641-4409-e593-208c991f5e39"
      },
      "execution_count": null,
      "outputs": [
        {
          "output_type": "display_data",
          "data": {
            "text/plain": [
              "<Figure size 1000x600 with 1 Axes>"
            ],
            "image/png": "[encoded data removed]"
          },
          "metadata": {}
        }
      ]
    },
    {
      "cell_type": "code",
      "source": [
        "silhouette = []\n",
        "for k in range(2, 20):\n",
        "    kmeans = KMeans(n_clusters=k, random_state=0).fit(X)\n",
        "    silhouette.append(silhouette_score(X, kmeans.labels_))\n",
        "\n",
        "plt.figure(figsize=(10, 6))\n",
        "plt.plot(range(2, 20), silhouette, marker='o')\n",
        "plt.xlabel('Number of clusters')\n",
        "plt.ylabel('Silhouette Score')\n",
        "plt.title('Silhouette Method for Optimal k')\n",
        "plt.show()"
      ],
      "metadata": {
        "colab": {
          "base_uri": "https://localhost:8080/",
          "height": 481
        },
        "id": "yxlxmT3XDaaR",
        "outputId": "fbade3f0-fc6f-453c-9c90-1262db479b4b"
      },
      "execution_count": null,
      "outputs": [
        {
          "output_type": "display_data",
          "data": {
            "text/plain": [
              "<Figure size 1000x600 with 1 Axes>"
            ],
            "image/png": "[encoded data removed]"
          },
          "metadata": {}
        }
      ]
    },
    {
      "cell_type": "markdown",
      "source": [
        "I will use 3 as the optimal number of clusters"
      ],
      "metadata": {
        "id": "m7aKqD55Lo-a"
      }
    },
    {
      "cell_type": "code",
      "source": [
        "num_clusters = 3\n",
        "\n",
        "kmeans = KMeans(n_clusters=num_clusters, random_state=0).fit(np.stack(data_clean['vector'].values))\n",
        "data_clean['cluster'] = kmeans.labels_\n",
        "\n",
        "from sklearn.feature_extraction.text import TfidfVectorizer\n",
        "\n",
        "vectorizer = TfidfVectorizer(use_idf=True, stop_words='english')\n",
        "matrix = vectorizer.fit_transform(data_clean['text'])\n",
        "feature_names = vectorizer.get_feature_names_out()\n",
        "\n",
        "for i in [range(num_clusters)]:\n",
        "    cluster_texts = data_clean[data_clean['cluster'] == i]['text']\n",
        "    tfidf_matrix = vectorizer.transform(cluster_texts)\n",
        "    sum_words = tfidf_matrix.sum(axis=0)\n",
        "    words_freq = [(word, sum_words[0, idx]) for word, idx in vectorizer.vocabulary_.items()]\n",
        "    words_freq = sorted(words_freq, key=lambda x: x[1], reverse=True)\n",
        "    print(f'Cluster {i}:')\n",
        "    for word, freq in words_freq[:5]:\n",
        "        print(word)\n",
        "    print()"
      ],
      "metadata": {
        "colab": {
          "base_uri": "https://localhost:8080/"
        },
        "id": "js9wjNNpKLs4",
        "outputId": "5e7f6a0a-6fa9-454b-de4e-19273c917532"
      },
      "execution_count": null,
      "outputs": [
        {
          "output_type": "stream",
          "name": "stdout",
          "text": [
            "Cluster 0:\n",
            "brady\n",
            "nfl\n",
            "tom\n",
            "huffpost\n",
            "retires\n",
            "\n",
            "Cluster 1:\n",
            "biden\n",
            "said\n",
            "house\n",
            "president\n",
            "trump\n",
            "\n",
            "Cluster 2:\n",
            "factset\n",
            "provided\n",
            "data\n",
            "rewritten\n",
            "redistributed\n",
            "\n"
          ]
        }
      ]
    }
  ],
  "metadata": {
    "kernelspec": {
      "display_name": "venv",
      "language": "python",
      "name": "python3"
    },
    "language_info": {
      "codemirror_mode": {
        "name": "ipython",
        "version": 3
      },
      "file_extension": ".py",
      "mimetype": "text/x-python",
      "name": "python",
      "nbconvert_exporter": "python",
      "pygments_lexer": "ipython3",
      "version": "3.10.6"
    },
    "orig_nbformat": 4,
    "colab": {
      "provenance": []
    },
    "accelerator": "GPU",
    "gpuClass": "standard"
  },
  "nbformat": 4,
  "nbformat_minor": 0
}