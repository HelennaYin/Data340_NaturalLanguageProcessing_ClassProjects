{
  "cells": [
    {
      "cell_type": "markdown",
      "metadata": {
        "id": "7JNUh775Ip1q"
      },
      "source": [
        "## Naive Bayes Model"
      ]
    },
    {
      "cell_type": "markdown",
      "metadata": {
        "id": "ZlV5gEabIp1v"
      },
      "source": [
        "In this project, I will train a Naive Bayes model on the [Sentiment Analysis on Movie Reviews](https://www.kaggle.com/competitions/sentiment-analysis-on-movie-reviews/data). The dataset contains 15,000 movie reviews.\n",
        "### Data\n",
        "\n",
        "The dataset contains movie reviews from Rotten Tomatoes. Each review is labeled as follows:\n",
        "\n",
        "* 0 - negative\n",
        "* 1 - somewhat negative\n",
        "* 2 - neutral\n",
        "* 3 - somewhat positive\n",
        "* 4 - positive\n",
        "\n",
        "In addition to the entire review, the reviews are split into phrases and each phrase is labeled. The entire review is assigned a `SentenceID` and each phrase is assigned a `PhraseID`. The phrases were produced by the Stanford Parser (stanza)."
      ]
    },
    {
      "cell_type": "markdown",
      "metadata": {
        "id": "13JKIgjxIp1v"
      },
      "source": [
        "## Section 0: Load the data"
      ]
    },
    {
      "cell_type": "code",
      "execution_count": null,
      "metadata": {
        "id": "MJrY88a-Ip1w"
      },
      "outputs": [],
      "source": [
        "import pandas as pd\n",
        "import numpy as np\n",
        "\n",
        "train_url = 'data/nb_train.tsv'\n",
        "test_url = 'data/nb_test.tsv'\n",
        "\n",
        "train_df = pd.read_csv(train_url, sep='\\t')\n",
        "test_df = pd.read_csv(test_url, sep='\\t')"
      ]
    },
    {
      "cell_type": "code",
      "execution_count": null,
      "metadata": {
        "colab": {
          "base_uri": "https://localhost:8080/",
          "height": 677
        },
        "id": "ngYeoMN9Ip1y",
        "outputId": "c26d0559-dcd9-4bf4-cce0-6be1f38bd9f2"
      },
      "outputs": [
        {
          "output_type": "execute_result",
          "data": {
            "text/plain": [
              "    PhraseId  SentenceId                                             Phrase  \\\n",
              "0          1           1  A series of escapades demonstrating the adage ...   \n",
              "1          2           1  A series of escapades demonstrating the adage ...   \n",
              "2          3           1                                           A series   \n",
              "3          4           1                                                  A   \n",
              "4          5           1                                             series   \n",
              "5          6           1  of escapades demonstrating the adage that what...   \n",
              "6          7           1                                                 of   \n",
              "7          8           1  escapades demonstrating the adage that what is...   \n",
              "8          9           1                                          escapades   \n",
              "9         10           1  demonstrating the adage that what is good for ...   \n",
              "10        11           1                            demonstrating the adage   \n",
              "11        12           1                                      demonstrating   \n",
              "12        13           1                                          the adage   \n",
              "13        14           1                                                the   \n",
              "14        15           1                                              adage   \n",
              "15        16           1                    that what is good for the goose   \n",
              "16        17           1                                               that   \n",
              "17        18           1                         what is good for the goose   \n",
              "18        19           1                                               what   \n",
              "19        20           1                              is good for the goose   \n",
              "\n",
              "    Sentiment  \n",
              "0           1  \n",
              "1           2  \n",
              "2           2  \n",
              "3           2  \n",
              "4           2  \n",
              "5           2  \n",
              "6           2  \n",
              "7           2  \n",
              "8           2  \n",
              "9           2  \n",
              "10          2  \n",
              "11          2  \n",
              "12          2  \n",
              "13          2  \n",
              "14          2  \n",
              "15          2  \n",
              "16          2  \n",
              "17          2  \n",
              "18          2  \n",
              "19          2  "
            ],
            "text/html": [
              "\n",
              "  <div id=\"df-234954b5-cd32-40a7-a293-10f69d719def\">\n",
              "    <div class=\"colab-df-container\">\n",
              "      <div>\n",
              "<style scoped>\n",
              "    .dataframe tbody tr th:only-of-type {\n",
              "        vertical-align: middle;\n",
              "    }\n",
              "\n",
              "    .dataframe tbody tr th {\n",
              "        vertical-align: top;\n",
              "    }\n",
              "\n",
              "    .dataframe thead th {\n",
              "        text-align: right;\n",
              "    }\n",
              "</style>\n",
              "<table border=\"1\" class=\"dataframe\">\n",
              "  <thead>\n",
              "    <tr style=\"text-align: right;\">\n",
              "      <th></th>\n",
              "      <th>PhraseId</th>\n",
              "      <th>SentenceId</th>\n",
              "      <th>Phrase</th>\n",
              "      <th>Sentiment</th>\n",
              "    </tr>\n",
              "  </thead>\n",
              "  <tbody>\n",
              "    <tr>\n",
              "      <th>0</th>\n",
              "      <td>1</td>\n",
              "      <td>1</td>\n",
              "      <td>A series of escapades demonstrating the adage ...</td>\n",
              "      <td>1</td>\n",
              "    </tr>\n",
              "    <tr>\n",
              "      <th>1</th>\n",
              "      <td>2</td>\n",
              "      <td>1</td>\n",
              "      <td>A series of escapades demonstrating the adage ...</td>\n",
              "      <td>2</td>\n",
              "    </tr>\n",
              "    <tr>\n",
              "      <th>2</th>\n",
              "      <td>3</td>\n",
              "      <td>1</td>\n",
              "      <td>A series</td>\n",
              "      <td>2</td>\n",
              "    </tr>\n",
              "    <tr>\n",
              "      <th>3</th>\n",
              "      <td>4</td>\n",
              "      <td>1</td>\n",
              "      <td>A</td>\n",
              "      <td>2</td>\n",
              "    </tr>\n",
              "    <tr>\n",
              "      <th>4</th>\n",
              "      <td>5</td>\n",
              "      <td>1</td>\n",
              "      <td>series</td>\n",
              "      <td>2</td>\n",
              "    </tr>\n",
              "    <tr>\n",
              "      <th>5</th>\n",
              "      <td>6</td>\n",
              "      <td>1</td>\n",
              "      <td>of escapades demonstrating the adage that what...</td>\n",
              "      <td>2</td>\n",
              "    </tr>\n",
              "    <tr>\n",
              "      <th>6</th>\n",
              "      <td>7</td>\n",
              "      <td>1</td>\n",
              "      <td>of</td>\n",
              "      <td>2</td>\n",
              "    </tr>\n",
              "    <tr>\n",
              "      <th>7</th>\n",
              "      <td>8</td>\n",
              "      <td>1</td>\n",
              "      <td>escapades demonstrating the adage that what is...</td>\n",
              "      <td>2</td>\n",
              "    </tr>\n",
              "    <tr>\n",
              "      <th>8</th>\n",
              "      <td>9</td>\n",
              "      <td>1</td>\n",
              "      <td>escapades</td>\n",
              "      <td>2</td>\n",
              "    </tr>\n",
              "    <tr>\n",
              "      <th>9</th>\n",
              "      <td>10</td>\n",
              "      <td>1</td>\n",
              "      <td>demonstrating the adage that what is good for ...</td>\n",
              "      <td>2</td>\n",
              "    </tr>\n",
              "    <tr>\n",
              "      <th>10</th>\n",
              "      <td>11</td>\n",
              "      <td>1</td>\n",
              "      <td>demonstrating the adage</td>\n",
              "      <td>2</td>\n",
              "    </tr>\n",
              "    <tr>\n",
              "      <th>11</th>\n",
              "      <td>12</td>\n",
              "      <td>1</td>\n",
              "      <td>demonstrating</td>\n",
              "      <td>2</td>\n",
              "    </tr>\n",
              "    <tr>\n",
              "      <th>12</th>\n",
              "      <td>13</td>\n",
              "      <td>1</td>\n",
              "      <td>the adage</td>\n",
              "      <td>2</td>\n",
              "    </tr>\n",
              "    <tr>\n",
              "      <th>13</th>\n",
              "      <td>14</td>\n",
              "      <td>1</td>\n",
              "      <td>the</td>\n",
              "      <td>2</td>\n",
              "    </tr>\n",
              "    <tr>\n",
              "      <th>14</th>\n",
              "      <td>15</td>\n",
              "      <td>1</td>\n",
              "      <td>adage</td>\n",
              "      <td>2</td>\n",
              "    </tr>\n",
              "    <tr>\n",
              "      <th>15</th>\n",
              "      <td>16</td>\n",
              "      <td>1</td>\n",
              "      <td>that what is good for the goose</td>\n",
              "      <td>2</td>\n",
              "    </tr>\n",
              "    <tr>\n",
              "      <th>16</th>\n",
              "      <td>17</td>\n",
              "      <td>1</td>\n",
              "      <td>that</td>\n",
              "      <td>2</td>\n",
              "    </tr>\n",
              "    <tr>\n",
              "      <th>17</th>\n",
              "      <td>18</td>\n",
              "      <td>1</td>\n",
              "      <td>what is good for the goose</td>\n",
              "      <td>2</td>\n",
              "    </tr>\n",
              "    <tr>\n",
              "      <th>18</th>\n",
              "      <td>19</td>\n",
              "      <td>1</td>\n",
              "      <td>what</td>\n",
              "      <td>2</td>\n",
              "    </tr>\n",
              "    <tr>\n",
              "      <th>19</th>\n",
              "      <td>20</td>\n",
              "      <td>1</td>\n",
              "      <td>is good for the goose</td>\n",
              "      <td>2</td>\n",
              "    </tr>\n",
              "  </tbody>\n",
              "</table>\n",
              "</div>\n",
              "      <button class=\"colab-df-convert\" onclick=\"convertToInteractive('df-234954b5-cd32-40a7-a293-10f69d719def')\"\n",
              "              title=\"Convert this dataframe to an interactive table.\"\n",
              "              style=\"display:none;\">\n",
              "        \n",
              "  <svg xmlns=\"http://www.w3.org/2000/svg\" height=\"24px\"viewBox=\"0 0 24 24\"\n",
              "       width=\"24px\">\n",
              "    <path d=\"M0 0h24v24H0V0z\" fill=\"none\"/>\n",
              "    <path d=\"M18.56 5.44l.94 2.06.94-2.06 2.06-.94-2.06-.94-.94-2.06-.94 2.06-2.06.94zm-11 1L8.5 8.5l.94-2.06 2.06-.94-2.06-.94L8.5 2.5l-.94 2.06-2.06.94zm10 10l.94 2.06.94-2.06 2.06-.94-2.06-.94-.94-2.06-.94 2.06-2.06.94z\"/><path d=\"M17.41 7.96l-1.37-1.37c-.4-.4-.92-.59-1.43-.59-.52 0-1.04.2-1.43.59L10.3 9.45l-7.72 7.72c-.78.78-.78 2.05 0 2.83L4 21.41c.39.39.9.59 1.41.59.51 0 1.02-.2 1.41-.59l7.78-7.78 2.81-2.81c.8-.78.8-2.07 0-2.86zM5.41 20L4 18.59l7.72-7.72 1.47 1.35L5.41 20z\"/>\n",
              "  </svg>\n",
              "      </button>\n",
              "      \n",
              "  <style>\n",
              "    .colab-df-container {\n",
              "      display:flex;\n",
              "      flex-wrap:wrap;\n",
              "      gap: 12px;\n",
              "    }\n",
              "\n",
              "    .colab-df-convert {\n",
              "      background-color: #E8F0FE;\n",
              "      border: none;\n",
              "      border-radius: 50%;\n",
              "      cursor: pointer;\n",
              "      display: none;\n",
              "      fill: #1967D2;\n",
              "      height: 32px;\n",
              "      padding: 0 0 0 0;\n",
              "      width: 32px;\n",
              "    }\n",
              "\n",
              "    .colab-df-convert:hover {\n",
              "      background-color: #E2EBFA;\n",
              "      box-shadow: 0px 1px 2px rgba(60, 64, 67, 0.3), 0px 1px 3px 1px rgba(60, 64, 67, 0.15);\n",
              "      fill: #174EA6;\n",
              "    }\n",
              "\n",
              "    [theme=dark] .colab-df-convert {\n",
              "      background-color: #3B4455;\n",
              "      fill: #D2E3FC;\n",
              "    }\n",
              "\n",
              "    [theme=dark] .colab-df-convert:hover {\n",
              "      background-color: #434B5C;\n",
              "      box-shadow: 0px 1px 3px 1px rgba(0, 0, 0, 0.15);\n",
              "      filter: drop-shadow(0px 1px 2px rgba(0, 0, 0, 0.3));\n",
              "      fill: #FFFFFF;\n",
              "    }\n",
              "  </style>\n",
              "\n",
              "      <script>\n",
              "        const buttonEl =\n",
              "          document.querySelector('#df-234954b5-cd32-40a7-a293-10f69d719def button.colab-df-convert');\n",
              "        buttonEl.style.display =\n",
              "          google.colab.kernel.accessAllowed ? 'block' : 'none';\n",
              "\n",
              "        async function convertToInteractive(key) {\n",
              "          const element = document.querySelector('#df-234954b5-cd32-40a7-a293-10f69d719def');\n",
              "          const dataTable =\n",
              "            await google.colab.kernel.invokeFunction('convertToInteractive',\n",
              "                                                     [key], {});\n",
              "          if (!dataTable) return;\n",
              "\n",
              "          const docLinkHtml = 'Like what you see? Visit the ' +\n",
              "            '<a target=\"_blank\" href=https://colab.research.google.com/notebooks/data_table.ipynb>data table notebook</a>'\n",
              "            + ' to learn more about interactive tables.';\n",
              "          element.innerHTML = '';\n",
              "          dataTable['output_type'] = 'display_data';\n",
              "          await google.colab.output.renderOutput(dataTable, element);\n",
              "          const docLink = document.createElement('div');\n",
              "          docLink.innerHTML = docLinkHtml;\n",
              "          element.appendChild(docLink);\n",
              "        }\n",
              "      </script>\n",
              "    </div>\n",
              "  </div>\n",
              "  "
            ]
          },
          "metadata": {},
          "execution_count": 2
        }
      ],
      "source": [
        "## train data\n",
        "train_df.head(20)"
      ]
    },
    {
      "cell_type": "code",
      "execution_count": null,
      "metadata": {
        "colab": {
          "base_uri": "https://localhost:8080/",
          "height": 677
        },
        "id": "rdnJpuT6Ip11",
        "outputId": "a84b52ac-1073-4066-df6a-0a324e5e8db2"
      },
      "outputs": [
        {
          "output_type": "execute_result",
          "data": {
            "text/plain": [
              "    PhraseId  SentenceId                                             Phrase\n",
              "0     156061        8545  An intermittently pleasing but mostly routine ...\n",
              "1     156062        8545  An intermittently pleasing but mostly routine ...\n",
              "2     156063        8545                                                 An\n",
              "3     156064        8545  intermittently pleasing but mostly routine effort\n",
              "4     156065        8545         intermittently pleasing but mostly routine\n",
              "5     156066        8545                        intermittently pleasing but\n",
              "6     156067        8545                            intermittently pleasing\n",
              "7     156068        8545                                     intermittently\n",
              "8     156069        8545                                           pleasing\n",
              "9     156070        8545                                                but\n",
              "10    156071        8545                                     mostly routine\n",
              "11    156072        8545                                             mostly\n",
              "12    156073        8545                                            routine\n",
              "13    156074        8545                                             effort\n",
              "14    156075        8545                                                  .\n",
              "15    156076        8546  Kidman is really the only thing that 's worth ...\n",
              "16    156077        8546                                             Kidman\n",
              "17    156078        8546  is really the only thing that 's worth watchin...\n",
              "18    156079        8546  is really the only thing that 's worth watchin...\n",
              "19    156080        8546                                          is really"
            ],
            "text/html": [
              "\n",
              "  <div id=\"df-70ecb78a-44e6-4976-b94e-10486cc6fb57\">\n",
              "    <div class=\"colab-df-container\">\n",
              "      <div>\n",
              "<style scoped>\n",
              "    .dataframe tbody tr th:only-of-type {\n",
              "        vertical-align: middle;\n",
              "    }\n",
              "\n",
              "    .dataframe tbody tr th {\n",
              "        vertical-align: top;\n",
              "    }\n",
              "\n",
              "    .dataframe thead th {\n",
              "        text-align: right;\n",
              "    }\n",
              "</style>\n",
              "<table border=\"1\" class=\"dataframe\">\n",
              "  <thead>\n",
              "    <tr style=\"text-align: right;\">\n",
              "      <th></th>\n",
              "      <th>PhraseId</th>\n",
              "      <th>SentenceId</th>\n",
              "      <th>Phrase</th>\n",
              "    </tr>\n",
              "  </thead>\n",
              "  <tbody>\n",
              "    <tr>\n",
              "      <th>0</th>\n",
              "      <td>156061</td>\n",
              "      <td>8545</td>\n",
              "      <td>An intermittently pleasing but mostly routine ...</td>\n",
              "    </tr>\n",
              "    <tr>\n",
              "      <th>1</th>\n",
              "      <td>156062</td>\n",
              "      <td>8545</td>\n",
              "      <td>An intermittently pleasing but mostly routine ...</td>\n",
              "    </tr>\n",
              "    <tr>\n",
              "      <th>2</th>\n",
              "      <td>156063</td>\n",
              "      <td>8545</td>\n",
              "      <td>An</td>\n",
              "    </tr>\n",
              "    <tr>\n",
              "      <th>3</th>\n",
              "      <td>156064</td>\n",
              "      <td>8545</td>\n",
              "      <td>intermittently pleasing but mostly routine effort</td>\n",
              "    </tr>\n",
              "    <tr>\n",
              "      <th>4</th>\n",
              "      <td>156065</td>\n",
              "      <td>8545</td>\n",
              "      <td>intermittently pleasing but mostly routine</td>\n",
              "    </tr>\n",
              "    <tr>\n",
              "      <th>5</th>\n",
              "      <td>156066</td>\n",
              "      <td>8545</td>\n",
              "      <td>intermittently pleasing but</td>\n",
              "    </tr>\n",
              "    <tr>\n",
              "      <th>6</th>\n",
              "      <td>156067</td>\n",
              "      <td>8545</td>\n",
              "      <td>intermittently pleasing</td>\n",
              "    </tr>\n",
              "    <tr>\n",
              "      <th>7</th>\n",
              "      <td>156068</td>\n",
              "      <td>8545</td>\n",
              "      <td>intermittently</td>\n",
              "    </tr>\n",
              "    <tr>\n",
              "      <th>8</th>\n",
              "      <td>156069</td>\n",
              "      <td>8545</td>\n",
              "      <td>pleasing</td>\n",
              "    </tr>\n",
              "    <tr>\n",
              "      <th>9</th>\n",
              "      <td>156070</td>\n",
              "      <td>8545</td>\n",
              "      <td>but</td>\n",
              "    </tr>\n",
              "    <tr>\n",
              "      <th>10</th>\n",
              "      <td>156071</td>\n",
              "      <td>8545</td>\n",
              "      <td>mostly routine</td>\n",
              "    </tr>\n",
              "    <tr>\n",
              "      <th>11</th>\n",
              "      <td>156072</td>\n",
              "      <td>8545</td>\n",
              "      <td>mostly</td>\n",
              "    </tr>\n",
              "    <tr>\n",
              "      <th>12</th>\n",
              "      <td>156073</td>\n",
              "      <td>8545</td>\n",
              "      <td>routine</td>\n",
              "    </tr>\n",
              "    <tr>\n",
              "      <th>13</th>\n",
              "      <td>156074</td>\n",
              "      <td>8545</td>\n",
              "      <td>effort</td>\n",
              "    </tr>\n",
              "    <tr>\n",
              "      <th>14</th>\n",
              "      <td>156075</td>\n",
              "      <td>8545</td>\n",
              "      <td>.</td>\n",
              "    </tr>\n",
              "    <tr>\n",
              "      <th>15</th>\n",
              "      <td>156076</td>\n",
              "      <td>8546</td>\n",
              "      <td>Kidman is really the only thing that 's worth ...</td>\n",
              "    </tr>\n",
              "    <tr>\n",
              "      <th>16</th>\n",
              "      <td>156077</td>\n",
              "      <td>8546</td>\n",
              "      <td>Kidman</td>\n",
              "    </tr>\n",
              "    <tr>\n",
              "      <th>17</th>\n",
              "      <td>156078</td>\n",
              "      <td>8546</td>\n",
              "      <td>is really the only thing that 's worth watchin...</td>\n",
              "    </tr>\n",
              "    <tr>\n",
              "      <th>18</th>\n",
              "      <td>156079</td>\n",
              "      <td>8546</td>\n",
              "      <td>is really the only thing that 's worth watchin...</td>\n",
              "    </tr>\n",
              "    <tr>\n",
              "      <th>19</th>\n",
              "      <td>156080</td>\n",
              "      <td>8546</td>\n",
              "      <td>is really</td>\n",
              "    </tr>\n",
              "  </tbody>\n",
              "</table>\n",
              "</div>\n",
              "      <button class=\"colab-df-convert\" onclick=\"convertToInteractive('df-70ecb78a-44e6-4976-b94e-10486cc6fb57')\"\n",
              "              title=\"Convert this dataframe to an interactive table.\"\n",
              "              style=\"display:none;\">\n",
              "        \n",
              "  <svg xmlns=\"http://www.w3.org/2000/svg\" height=\"24px\"viewBox=\"0 0 24 24\"\n",
              "       width=\"24px\">\n",
              "    <path d=\"M0 0h24v24H0V0z\" fill=\"none\"/>\n",
              "    <path d=\"M18.56 5.44l.94 2.06.94-2.06 2.06-.94-2.06-.94-.94-2.06-.94 2.06-2.06.94zm-11 1L8.5 8.5l.94-2.06 2.06-.94-2.06-.94L8.5 2.5l-.94 2.06-2.06.94zm10 10l.94 2.06.94-2.06 2.06-.94-2.06-.94-.94-2.06-.94 2.06-2.06.94z\"/><path d=\"M17.41 7.96l-1.37-1.37c-.4-.4-.92-.59-1.43-.59-.52 0-1.04.2-1.43.59L10.3 9.45l-7.72 7.72c-.78.78-.78 2.05 0 2.83L4 21.41c.39.39.9.59 1.41.59.51 0 1.02-.2 1.41-.59l7.78-7.78 2.81-2.81c.8-.78.8-2.07 0-2.86zM5.41 20L4 18.59l7.72-7.72 1.47 1.35L5.41 20z\"/>\n",
              "  </svg>\n",
              "      </button>\n",
              "      \n",
              "  <style>\n",
              "    .colab-df-container {\n",
              "      display:flex;\n",
              "      flex-wrap:wrap;\n",
              "      gap: 12px;\n",
              "    }\n",
              "\n",
              "    .colab-df-convert {\n",
              "      background-color: #E8F0FE;\n",
              "      border: none;\n",
              "      border-radius: 50%;\n",
              "      cursor: pointer;\n",
              "      display: none;\n",
              "      fill: #1967D2;\n",
              "      height: 32px;\n",
              "      padding: 0 0 0 0;\n",
              "      width: 32px;\n",
              "    }\n",
              "\n",
              "    .colab-df-convert:hover {\n",
              "      background-color: #E2EBFA;\n",
              "      box-shadow: 0px 1px 2px rgba(60, 64, 67, 0.3), 0px 1px 3px 1px rgba(60, 64, 67, 0.15);\n",
              "      fill: #174EA6;\n",
              "    }\n",
              "\n",
              "    [theme=dark] .colab-df-convert {\n",
              "      background-color: #3B4455;\n",
              "      fill: #D2E3FC;\n",
              "    }\n",
              "\n",
              "    [theme=dark] .colab-df-convert:hover {\n",
              "      background-color: #434B5C;\n",
              "      box-shadow: 0px 1px 3px 1px rgba(0, 0, 0, 0.15);\n",
              "      filter: drop-shadow(0px 1px 2px rgba(0, 0, 0, 0.3));\n",
              "      fill: #FFFFFF;\n",
              "    }\n",
              "  </style>\n",
              "\n",
              "      <script>\n",
              "        const buttonEl =\n",
              "          document.querySelector('#df-70ecb78a-44e6-4976-b94e-10486cc6fb57 button.colab-df-convert');\n",
              "        buttonEl.style.display =\n",
              "          google.colab.kernel.accessAllowed ? 'block' : 'none';\n",
              "\n",
              "        async function convertToInteractive(key) {\n",
              "          const element = document.querySelector('#df-70ecb78a-44e6-4976-b94e-10486cc6fb57');\n",
              "          const dataTable =\n",
              "            await google.colab.kernel.invokeFunction('convertToInteractive',\n",
              "                                                     [key], {});\n",
              "          if (!dataTable) return;\n",
              "\n",
              "          const docLinkHtml = 'Like what you see? Visit the ' +\n",
              "            '<a target=\"_blank\" href=https://colab.research.google.com/notebooks/data_table.ipynb>data table notebook</a>'\n",
              "            + ' to learn more about interactive tables.';\n",
              "          element.innerHTML = '';\n",
              "          dataTable['output_type'] = 'display_data';\n",
              "          await google.colab.output.renderOutput(dataTable, element);\n",
              "          const docLink = document.createElement('div');\n",
              "          docLink.innerHTML = docLinkHtml;\n",
              "          element.appendChild(docLink);\n",
              "        }\n",
              "      </script>\n",
              "    </div>\n",
              "  </div>\n",
              "  "
            ]
          },
          "metadata": {},
          "execution_count": 4
        }
      ],
      "source": [
        "## test data\n",
        "test_df.head(20)"
      ]
    },
    {
      "cell_type": "markdown",
      "metadata": {
        "id": "se-P-jdOIp13"
      },
      "source": [
        "## Section 1: Data Exploration\n",
        "\n"
      ]
    },
    {
      "cell_type": "code",
      "source": [
        "#Make a dataset with only the full reviews\n",
        "import seaborn as sns\n",
        "import matplotlib.pyplot as plt\n",
        "Full = train_df.groupby('SentenceId', as_index=False).first()\n",
        "Labels = { 0:'negative', 1 : 'somewhat negative', 2 : 'neutral', 3 : 'somewhat positive', 4 : 'positive'}"
      ],
      "metadata": {
        "id": "jtpBiPWTLqj2"
      },
      "execution_count": null,
      "outputs": []
    },
    {
      "cell_type": "code",
      "source": [
        "Full"
      ],
      "metadata": {
        "colab": {
          "base_uri": "https://localhost:8080/",
          "height": 424
        },
        "id": "iiE34MIUMyYg",
        "outputId": "942c1229-ee66-455b-92c8-a5c4e327c71c"
      },
      "execution_count": null,
      "outputs": [
        {
          "output_type": "execute_result",
          "data": {
            "text/plain": [
              "      SentenceId  PhraseId                                             Phrase  \\\n",
              "0              1         1  A series of escapades demonstrating the adage ...   \n",
              "1              2        64  This quiet , introspective and entertaining in...   \n",
              "2              3        82  Even fans of Ismail Merchant 's work , I suspe...   \n",
              "3              4       117  A positively thrilling combination of ethnogra...   \n",
              "4              5       157  Aggressive self-glorification and a manipulati...   \n",
              "...          ...       ...                                                ...   \n",
              "8524        8540    155985  ... either you 're willing to go with this cla...   \n",
              "8525        8541    155998  Despite these annoyances , the capable Claybur...   \n",
              "8526        8542    156022  -LRB- Tries -RRB- to parody a genre that 's al...   \n",
              "8527        8543    156032  The movie 's downfall is to substitute plot fo...   \n",
              "8528        8544    156040  The film is darkly atmospheric , with Herrmann...   \n",
              "\n",
              "      Sentiment  \n",
              "0             1  \n",
              "1             4  \n",
              "2             1  \n",
              "3             3  \n",
              "4             1  \n",
              "...         ...  \n",
              "8524          2  \n",
              "8525          2  \n",
              "8526          1  \n",
              "8527          1  \n",
              "8528          2  \n",
              "\n",
              "[8529 rows x 4 columns]"
            ],
            "text/html": [
              "\n",
              "  <div id=\"df-a260ec92-1854-4727-988a-4eedd784c5b6\">\n",
              "    <div class=\"colab-df-container\">\n",
              "      <div>\n",
              "<style scoped>\n",
              "    .dataframe tbody tr th:only-of-type {\n",
              "        vertical-align: middle;\n",
              "    }\n",
              "\n",
              "    .dataframe tbody tr th {\n",
              "        vertical-align: top;\n",
              "    }\n",
              "\n",
              "    .dataframe thead th {\n",
              "        text-align: right;\n",
              "    }\n",
              "</style>\n",
              "<table border=\"1\" class=\"dataframe\">\n",
              "  <thead>\n",
              "    <tr style=\"text-align: right;\">\n",
              "      <th></th>\n",
              "      <th>SentenceId</th>\n",
              "      <th>PhraseId</th>\n",
              "      <th>Phrase</th>\n",
              "      <th>Sentiment</th>\n",
              "    </tr>\n",
              "  </thead>\n",
              "  <tbody>\n",
              "    <tr>\n",
              "      <th>0</th>\n",
              "      <td>1</td>\n",
              "      <td>1</td>\n",
              "      <td>A series of escapades demonstrating the adage ...</td>\n",
              "      <td>1</td>\n",
              "    </tr>\n",
              "    <tr>\n",
              "      <th>1</th>\n",
              "      <td>2</td>\n",
              "      <td>64</td>\n",
              "      <td>This quiet , introspective and entertaining in...</td>\n",
              "      <td>4</td>\n",
              "    </tr>\n",
              "    <tr>\n",
              "      <th>2</th>\n",
              "      <td>3</td>\n",
              "      <td>82</td>\n",
              "      <td>Even fans of Ismail Merchant 's work , I suspe...</td>\n",
              "      <td>1</td>\n",
              "    </tr>\n",
              "    <tr>\n",
              "      <th>3</th>\n",
              "      <td>4</td>\n",
              "      <td>117</td>\n",
              "      <td>A positively thrilling combination of ethnogra...</td>\n",
              "      <td>3</td>\n",
              "    </tr>\n",
              "    <tr>\n",
              "      <th>4</th>\n",
              "      <td>5</td>\n",
              "      <td>157</td>\n",
              "      <td>Aggressive self-glorification and a manipulati...</td>\n",
              "      <td>1</td>\n",
              "    </tr>\n",
              "    <tr>\n",
              "      <th>...</th>\n",
              "      <td>...</td>\n",
              "      <td>...</td>\n",
              "      <td>...</td>\n",
              "      <td>...</td>\n",
              "    </tr>\n",
              "    <tr>\n",
              "      <th>8524</th>\n",
              "      <td>8540</td>\n",
              "      <td>155985</td>\n",
              "      <td>... either you 're willing to go with this cla...</td>\n",
              "      <td>2</td>\n",
              "    </tr>\n",
              "    <tr>\n",
              "      <th>8525</th>\n",
              "      <td>8541</td>\n",
              "      <td>155998</td>\n",
              "      <td>Despite these annoyances , the capable Claybur...</td>\n",
              "      <td>2</td>\n",
              "    </tr>\n",
              "    <tr>\n",
              "      <th>8526</th>\n",
              "      <td>8542</td>\n",
              "      <td>156022</td>\n",
              "      <td>-LRB- Tries -RRB- to parody a genre that 's al...</td>\n",
              "      <td>1</td>\n",
              "    </tr>\n",
              "    <tr>\n",
              "      <th>8527</th>\n",
              "      <td>8543</td>\n",
              "      <td>156032</td>\n",
              "      <td>The movie 's downfall is to substitute plot fo...</td>\n",
              "      <td>1</td>\n",
              "    </tr>\n",
              "    <tr>\n",
              "      <th>8528</th>\n",
              "      <td>8544</td>\n",
              "      <td>156040</td>\n",
              "      <td>The film is darkly atmospheric , with Herrmann...</td>\n",
              "      <td>2</td>\n",
              "    </tr>\n",
              "  </tbody>\n",
              "</table>\n",
              "<p>8529 rows × 4 columns</p>\n",
              "</div>\n",
              "      <button class=\"colab-df-convert\" onclick=\"convertToInteractive('df-a260ec92-1854-4727-988a-4eedd784c5b6')\"\n",
              "              title=\"Convert this dataframe to an interactive table.\"\n",
              "              style=\"display:none;\">\n",
              "        \n",
              "  <svg xmlns=\"http://www.w3.org/2000/svg\" height=\"24px\"viewBox=\"0 0 24 24\"\n",
              "       width=\"24px\">\n",
              "    <path d=\"M0 0h24v24H0V0z\" fill=\"none\"/>\n",
              "    <path d=\"M18.56 5.44l.94 2.06.94-2.06 2.06-.94-2.06-.94-.94-2.06-.94 2.06-2.06.94zm-11 1L8.5 8.5l.94-2.06 2.06-.94-2.06-.94L8.5 2.5l-.94 2.06-2.06.94zm10 10l.94 2.06.94-2.06 2.06-.94-2.06-.94-.94-2.06-.94 2.06-2.06.94z\"/><path d=\"M17.41 7.96l-1.37-1.37c-.4-.4-.92-.59-1.43-.59-.52 0-1.04.2-1.43.59L10.3 9.45l-7.72 7.72c-.78.78-.78 2.05 0 2.83L4 21.41c.39.39.9.59 1.41.59.51 0 1.02-.2 1.41-.59l7.78-7.78 2.81-2.81c.8-.78.8-2.07 0-2.86zM5.41 20L4 18.59l7.72-7.72 1.47 1.35L5.41 20z\"/>\n",
              "  </svg>\n",
              "      </button>\n",
              "      \n",
              "  <style>\n",
              "    .colab-df-container {\n",
              "      display:flex;\n",
              "      flex-wrap:wrap;\n",
              "      gap: 12px;\n",
              "    }\n",
              "\n",
              "    .colab-df-convert {\n",
              "      background-color: #E8F0FE;\n",
              "      border: none;\n",
              "      border-radius: 50%;\n",
              "      cursor: pointer;\n",
              "      display: none;\n",
              "      fill: #1967D2;\n",
              "      height: 32px;\n",
              "      padding: 0 0 0 0;\n",
              "      width: 32px;\n",
              "    }\n",
              "\n",
              "    .colab-df-convert:hover {\n",
              "      background-color: #E2EBFA;\n",
              "      box-shadow: 0px 1px 2px rgba(60, 64, 67, 0.3), 0px 1px 3px 1px rgba(60, 64, 67, 0.15);\n",
              "      fill: #174EA6;\n",
              "    }\n",
              "\n",
              "    [theme=dark] .colab-df-convert {\n",
              "      background-color: #3B4455;\n",
              "      fill: #D2E3FC;\n",
              "    }\n",
              "\n",
              "    [theme=dark] .colab-df-convert:hover {\n",
              "      background-color: #434B5C;\n",
              "      box-shadow: 0px 1px 3px 1px rgba(0, 0, 0, 0.15);\n",
              "      filter: drop-shadow(0px 1px 2px rgba(0, 0, 0, 0.3));\n",
              "      fill: #FFFFFF;\n",
              "    }\n",
              "  </style>\n",
              "\n",
              "      <script>\n",
              "        const buttonEl =\n",
              "          document.querySelector('#df-a260ec92-1854-4727-988a-4eedd784c5b6 button.colab-df-convert');\n",
              "        buttonEl.style.display =\n",
              "          google.colab.kernel.accessAllowed ? 'block' : 'none';\n",
              "\n",
              "        async function convertToInteractive(key) {\n",
              "          const element = document.querySelector('#df-a260ec92-1854-4727-988a-4eedd784c5b6');\n",
              "          const dataTable =\n",
              "            await google.colab.kernel.invokeFunction('convertToInteractive',\n",
              "                                                     [key], {});\n",
              "          if (!dataTable) return;\n",
              "\n",
              "          const docLinkHtml = 'Like what you see? Visit the ' +\n",
              "            '<a target=\"_blank\" href=https://colab.research.google.com/notebooks/data_table.ipynb>data table notebook</a>'\n",
              "            + ' to learn more about interactive tables.';\n",
              "          element.innerHTML = '';\n",
              "          dataTable['output_type'] = 'display_data';\n",
              "          await google.colab.output.renderOutput(dataTable, element);\n",
              "          const docLink = document.createElement('div');\n",
              "          docLink.innerHTML = docLinkHtml;\n",
              "          element.appendChild(docLink);\n",
              "        }\n",
              "      </script>\n",
              "    </div>\n",
              "  </div>\n",
              "  "
            ]
          },
          "metadata": {},
          "execution_count": 9
        }
      ]
    },
    {
      "cell_type": "code",
      "source": [
        "Valuecounts = Full['Sentiment'].value_counts().to_frame()\n",
        "Valuecounts['Label'] = Valuecounts.index.map(Labels)\n",
        "Valuecounts"
      ],
      "metadata": {
        "colab": {
          "base_uri": "https://localhost:8080/",
          "height": 206
        },
        "id": "EgigCsI-Sv1m",
        "outputId": "2a3eed95-afcf-4f14-c34a-f9eb0a6c7a91"
      },
      "execution_count": null,
      "outputs": [
        {
          "output_type": "execute_result",
          "data": {
            "text/plain": [
              "   Sentiment              Label\n",
              "3       2321  somewhat positive\n",
              "1       2200  somewhat negative\n",
              "2       1655            neutral\n",
              "4       1281           positive\n",
              "0       1072           negative"
            ],
            "text/html": [
              "\n",
              "  <div id=\"df-a403aadd-6c21-4230-b324-e5ed9ca9797e\">\n",
              "    <div class=\"colab-df-container\">\n",
              "      <div>\n",
              "<style scoped>\n",
              "    .dataframe tbody tr th:only-of-type {\n",
              "        vertical-align: middle;\n",
              "    }\n",
              "\n",
              "    .dataframe tbody tr th {\n",
              "        vertical-align: top;\n",
              "    }\n",
              "\n",
              "    .dataframe thead th {\n",
              "        text-align: right;\n",
              "    }\n",
              "</style>\n",
              "<table border=\"1\" class=\"dataframe\">\n",
              "  <thead>\n",
              "    <tr style=\"text-align: right;\">\n",
              "      <th></th>\n",
              "      <th>Sentiment</th>\n",
              "      <th>Label</th>\n",
              "    </tr>\n",
              "  </thead>\n",
              "  <tbody>\n",
              "    <tr>\n",
              "      <th>3</th>\n",
              "      <td>2321</td>\n",
              "      <td>somewhat positive</td>\n",
              "    </tr>\n",
              "    <tr>\n",
              "      <th>1</th>\n",
              "      <td>2200</td>\n",
              "      <td>somewhat negative</td>\n",
              "    </tr>\n",
              "    <tr>\n",
              "      <th>2</th>\n",
              "      <td>1655</td>\n",
              "      <td>neutral</td>\n",
              "    </tr>\n",
              "    <tr>\n",
              "      <th>4</th>\n",
              "      <td>1281</td>\n",
              "      <td>positive</td>\n",
              "    </tr>\n",
              "    <tr>\n",
              "      <th>0</th>\n",
              "      <td>1072</td>\n",
              "      <td>negative</td>\n",
              "    </tr>\n",
              "  </tbody>\n",
              "</table>\n",
              "</div>\n",
              "      <button class=\"colab-df-convert\" onclick=\"convertToInteractive('df-a403aadd-6c21-4230-b324-e5ed9ca9797e')\"\n",
              "              title=\"Convert this dataframe to an interactive table.\"\n",
              "              style=\"display:none;\">\n",
              "        \n",
              "  <svg xmlns=\"http://www.w3.org/2000/svg\" height=\"24px\"viewBox=\"0 0 24 24\"\n",
              "       width=\"24px\">\n",
              "    <path d=\"M0 0h24v24H0V0z\" fill=\"none\"/>\n",
              "    <path d=\"M18.56 5.44l.94 2.06.94-2.06 2.06-.94-2.06-.94-.94-2.06-.94 2.06-2.06.94zm-11 1L8.5 8.5l.94-2.06 2.06-.94-2.06-.94L8.5 2.5l-.94 2.06-2.06.94zm10 10l.94 2.06.94-2.06 2.06-.94-2.06-.94-.94-2.06-.94 2.06-2.06.94z\"/><path d=\"M17.41 7.96l-1.37-1.37c-.4-.4-.92-.59-1.43-.59-.52 0-1.04.2-1.43.59L10.3 9.45l-7.72 7.72c-.78.78-.78 2.05 0 2.83L4 21.41c.39.39.9.59 1.41.59.51 0 1.02-.2 1.41-.59l7.78-7.78 2.81-2.81c.8-.78.8-2.07 0-2.86zM5.41 20L4 18.59l7.72-7.72 1.47 1.35L5.41 20z\"/>\n",
              "  </svg>\n",
              "      </button>\n",
              "      \n",
              "  <style>\n",
              "    .colab-df-container {\n",
              "      display:flex;\n",
              "      flex-wrap:wrap;\n",
              "      gap: 12px;\n",
              "    }\n",
              "\n",
              "    .colab-df-convert {\n",
              "      background-color: #E8F0FE;\n",
              "      border: none;\n",
              "      border-radius: 50%;\n",
              "      cursor: pointer;\n",
              "      display: none;\n",
              "      fill: #1967D2;\n",
              "      height: 32px;\n",
              "      padding: 0 0 0 0;\n",
              "      width: 32px;\n",
              "    }\n",
              "\n",
              "    .colab-df-convert:hover {\n",
              "      background-color: #E2EBFA;\n",
              "      box-shadow: 0px 1px 2px rgba(60, 64, 67, 0.3), 0px 1px 3px 1px rgba(60, 64, 67, 0.15);\n",
              "      fill: #174EA6;\n",
              "    }\n",
              "\n",
              "    [theme=dark] .colab-df-convert {\n",
              "      background-color: #3B4455;\n",
              "      fill: #D2E3FC;\n",
              "    }\n",
              "\n",
              "    [theme=dark] .colab-df-convert:hover {\n",
              "      background-color: #434B5C;\n",
              "      box-shadow: 0px 1px 3px 1px rgba(0, 0, 0, 0.15);\n",
              "      filter: drop-shadow(0px 1px 2px rgba(0, 0, 0, 0.3));\n",
              "      fill: #FFFFFF;\n",
              "    }\n",
              "  </style>\n",
              "\n",
              "      <script>\n",
              "        const buttonEl =\n",
              "          document.querySelector('#df-a403aadd-6c21-4230-b324-e5ed9ca9797e button.colab-df-convert');\n",
              "        buttonEl.style.display =\n",
              "          google.colab.kernel.accessAllowed ? 'block' : 'none';\n",
              "\n",
              "        async function convertToInteractive(key) {\n",
              "          const element = document.querySelector('#df-a403aadd-6c21-4230-b324-e5ed9ca9797e');\n",
              "          const dataTable =\n",
              "            await google.colab.kernel.invokeFunction('convertToInteractive',\n",
              "                                                     [key], {});\n",
              "          if (!dataTable) return;\n",
              "\n",
              "          const docLinkHtml = 'Like what you see? Visit the ' +\n",
              "            '<a target=\"_blank\" href=https://colab.research.google.com/notebooks/data_table.ipynb>data table notebook</a>'\n",
              "            + ' to learn more about interactive tables.';\n",
              "          element.innerHTML = '';\n",
              "          dataTable['output_type'] = 'display_data';\n",
              "          await google.colab.output.renderOutput(dataTable, element);\n",
              "          const docLink = document.createElement('div');\n",
              "          docLink.innerHTML = docLinkHtml;\n",
              "          element.appendChild(docLink);\n",
              "        }\n",
              "      </script>\n",
              "    </div>\n",
              "  </div>\n",
              "  "
            ]
          },
          "metadata": {},
          "execution_count": 12
        }
      ]
    },
    {
      "cell_type": "code",
      "source": [
        "plt.figure(figsize=(10,5))\n",
        "sns.barplot(x =Valuecounts.Label, y = Valuecounts.Sentiment, data = Valuecounts)\n",
        "plt.ylabel('number of reviews')\n",
        "plt.show()"
      ],
      "metadata": {
        "colab": {
          "base_uri": "https://localhost:8080/",
          "height": 334
        },
        "id": "_SXONepWRrUq",
        "outputId": "fdb3fb1d-cbc9-461a-b5f5-2834c2695106"
      },
      "execution_count": null,
      "outputs": [
        {
          "output_type": "display_data",
          "data": {
            "text/plain": [
              "<Figure size 720x360 with 1 Axes>"
            ],
            "image/png": "[encoded data removed]"
          },
          "metadata": {
            "needs_background": "light"
          }
        }
      ]
    },
    {
      "cell_type": "markdown",
      "metadata": {
        "id": "B6eETpMtIp15"
      },
      "source": [
        "## Section 2: Data Preprocessing\n",
        "\n",
        "In the following section, please preprocess the data. How you preprocess the data will align with what features you are engineering for your model. This might include: tokenization, lemmatization, stemming, removing stopwords, etc. You should also consider how you will handle the labels. You might consider the following: one-hot encoding, label encoding, etc."
      ]
    },
    {
      "cell_type": "code",
      "source": [
        "from nltk.stem import PorterStemmer\n",
        "nltk.download('wordnet')\n",
        "from nltk.stem import WordNetLemmatizer\n",
        "from nltk.corpus import stopwords\n",
        "import string\n",
        "nltk.download('stopwords')\n",
        "from nltk.tokenize import word_tokenize"
      ],
      "metadata": {
        "id": "fBQY_ypqfPjf",
        "colab": {
          "base_uri": "https://localhost:8080/"
        },
        "outputId": "d95074c7-c0b8-4939-dcb1-a07383ddf9ea"
      },
      "execution_count": null,
      "outputs": [
        {
          "output_type": "stream",
          "name": "stderr",
          "text": [
            "[nltk_data] Downloading package wordnet to /root/nltk_data...\n",
            "[nltk_data] Downloading package stopwords to /root/nltk_data...\n",
            "[nltk_data]   Unzipping corpora/stopwords.zip.\n"
          ]
        }
      ]
    },
    {
      "cell_type": "code",
      "source": [
        "stemmer = PorterStemmer()\n",
        "punct = list(string.punctuation) + list(string.digits)\n",
        "stop_words = stopwords.words('english') + punct\n",
        "nltk_lemmatizer = WordNetLemmatizer()"
      ],
      "metadata": {
        "id": "ZrWLkp8KNK5O"
      },
      "execution_count": null,
      "outputs": []
    },
    {
      "cell_type": "code",
      "source": [
        "def preprocess(df):\n",
        "  #create an empty list to store the processed information\n",
        "  x_preprocess = []\n",
        "  #iterate over the dataframe with full labels\n",
        "  for index, row in df.iterrows():\n",
        "      text=row['Phrase']\n",
        "\n",
        "      #tokenize\n",
        "      tokens = word_tokenize(text)\n",
        "\n",
        "      nonstop = []\n",
        "      #remove stopwords and punctuation\n",
        "      for token in tokens:\n",
        "            if token in stop_words:\n",
        "                continue\n",
        "            else:\n",
        "                nonstop.append(token)\n",
        "\n",
        "      #lemmatize\n",
        "      lemmas = [nltk_lemmatizer.lemmatize(token) for token in nonstop]\n",
        "\n",
        "      #stemming\n",
        "      stems =  [stemmer.stem(token) for token in lemmas]\n",
        "\n",
        "      x_preprocess.append(stems)\n",
        "\n",
        "  return np.array(x_preprocess)"
      ],
      "metadata": {
        "id": "KQV5vrc2PZ9O"
      },
      "execution_count": null,
      "outputs": []
    },
    {
      "cell_type": "code",
      "source": [
        "x_fullreview = preprocess(Full)\n"
      ],
      "metadata": {
        "colab": {
          "base_uri": "https://localhost:8080/"
        },
        "id": "iZP7M_GDjZpR",
        "outputId": "bb2d5d52-a20b-44c1-e710-52d2f3c66be5"
      },
      "execution_count": null,
      "outputs": [
        {
          "output_type": "stream",
          "name": "stderr",
          "text": [
            "<ipython-input-21-0075f985221f>:27: VisibleDeprecationWarning: Creating an ndarray from ragged nested sequences (which is a list-or-tuple of lists-or-tuples-or ndarrays with different lengths or shapes) is deprecated. If you meant to do this, you must specify 'dtype=object' when creating the ndarray.\n",
            "  return np.array(x_preprocess)\n"
          ]
        }
      ]
    },
    {
      "cell_type": "code",
      "source": [
        "y_fullreview =Full.Sentiment.values"
      ],
      "metadata": {
        "id": "3YJdAYXnTT9Y"
      },
      "execution_count": null,
      "outputs": []
    },
    {
      "cell_type": "code",
      "source": [
        "x_phrase=preprocess(train_df)"
      ],
      "metadata": {
        "colab": {
          "base_uri": "https://localhost:8080/"
        },
        "id": "d_O2CUp7jnyb",
        "outputId": "e337ead7-6120-433a-cc6f-afd91f7059f2"
      },
      "execution_count": null,
      "outputs": [
        {
          "output_type": "stream",
          "name": "stderr",
          "text": [
            "<ipython-input-21-0075f985221f>:27: VisibleDeprecationWarning: Creating an ndarray from ragged nested sequences (which is a list-or-tuple of lists-or-tuples-or ndarrays with different lengths or shapes) is deprecated. If you meant to do this, you must specify 'dtype=object' when creating the ndarray.\n",
            "  return np.array(x_preprocess)\n"
          ]
        }
      ]
    },
    {
      "cell_type": "code",
      "source": [
        "y_phrase = train_df.Sentiment.values"
      ],
      "metadata": {
        "id": "m3S1BEY5Ncuc"
      },
      "execution_count": null,
      "outputs": []
    },
    {
      "cell_type": "markdown",
      "metadata": {
        "id": "iO9Si83aIp15"
      },
      "source": [
        "## Section 3: Feature Engineering"
      ]
    },
    {
      "cell_type": "code",
      "execution_count": null,
      "metadata": {
        "id": "ofgh4fxcIp16",
        "colab": {
          "base_uri": "https://localhost:8080/"
        },
        "outputId": "bdd7176f-cc49-461a-d744-5be326a2e3c0"
      },
      "outputs": [
        {
          "output_type": "stream",
          "name": "stderr",
          "text": [
            "<ipython-input-21-0075f985221f>:27: VisibleDeprecationWarning: Creating an ndarray from ragged nested sequences (which is a list-or-tuple of lists-or-tuples-or ndarrays with different lengths or shapes) is deprecated. If you meant to do this, you must specify 'dtype=object' when creating the ndarray.\n",
            "  return np.array(x_preprocess)\n"
          ]
        }
      ],
      "source": [
        "#tfidf\n",
        "#grab all the tokens from the original dataset\n",
        "x_phrases_preprocessed = preprocess(train_df)\n",
        "train_df['tokens'] = x_phrases_preprocessed"
      ]
    },
    {
      "cell_type": "code",
      "source": [
        "result = train_df[train_df['tokens'].apply(lambda x: len(x) == 1)]\n",
        "result['tokens'] = result['tokens'].apply(lambda x: x[0])\n",
        "term_frequency = (result\n",
        "                  .groupby(by=['SentenceId', 'tokens'])\n",
        "                  .agg({'tokens': 'count'})\n",
        "                  .rename(columns={'tokens': 'term_frequency'})\n",
        "                  .reset_index()\n",
        "                  .rename(columns={'tokens': 'term'})\n",
        "                 )"
      ],
      "metadata": {
        "colab": {
          "base_uri": "https://localhost:8080/"
        },
        "id": "DQuIj-KtInQ-",
        "outputId": "2862d195-8d75-46fb-ac0c-2093f992af81"
      },
      "execution_count": null,
      "outputs": [
        {
          "output_type": "stream",
          "name": "stderr",
          "text": [
            "<ipython-input-28-0569202bf47c>:2: SettingWithCopyWarning: \n",
            "A value is trying to be set on a copy of a slice from a DataFrame.\n",
            "Try using .loc[row_indexer,col_indexer] = value instead\n",
            "\n",
            "See the caveats in the documentation: https://pandas.pydata.org/pandas-docs/stable/user_guide/indexing.html#returning-a-view-versus-a-copy\n",
            "  result['tokens'] = result['tokens'].apply(lambda x: x[0])\n"
          ]
        }
      ]
    },
    {
      "cell_type": "code",
      "source": [
        "document_frequency = (term_frequency\n",
        "                      .groupby(['SentenceId', 'term'])\n",
        "                      .size()\n",
        "                      .unstack()\n",
        "                      .sum()\n",
        "                      .reset_index()\n",
        "                      .rename(columns={0: 'document_frequency'})\n",
        "                     )"
      ],
      "metadata": {
        "id": "qCdDSlq9H_CB"
      },
      "execution_count": null,
      "outputs": []
    },
    {
      "cell_type": "code",
      "source": [
        "term_frequency = term_frequency.merge(document_frequency)"
      ],
      "metadata": {
        "id": "E0OWFEUGKly3"
      },
      "execution_count": null,
      "outputs": []
    },
    {
      "cell_type": "code",
      "source": [
        "term_frequency"
      ],
      "metadata": {
        "colab": {
          "base_uri": "https://localhost:8080/",
          "height": 424
        },
        "id": "yjvYab5kLhCR",
        "outputId": "39a464ae-dd2b-4faa-b985-2c92ed67ce14"
      },
      "execution_count": null,
      "outputs": [
        {
          "output_type": "execute_result",
          "data": {
            "text/plain": [
              "       SentenceId        term  term_frequency  document_frequency\n",
              "0               1           a               1                 3.0\n",
              "1            2984           a               2                 3.0\n",
              "2            5001           a               1                 3.0\n",
              "3               1        adag               2                 1.0\n",
              "4               1        also               2                 8.0\n",
              "...           ...         ...             ...                 ...\n",
              "24906        8536       goldi               1                 1.0\n",
              "24907        8537  laughingli               2                 1.0\n",
              "24908        8544   avuncular               1                 1.0\n",
              "24909        8544      chortl               1                 1.0\n",
              "24910        8544    herrmann               1                 1.0\n",
              "\n",
              "[24911 rows x 4 columns]"
            ],
            "text/html": [
              "\n",
              "  <div id=\"df-7b751baf-da93-468a-98f0-61a3c29a8f2d\">\n",
              "    <div class=\"colab-df-container\">\n",
              "      <div>\n",
              "<style scoped>\n",
              "    .dataframe tbody tr th:only-of-type {\n",
              "        vertical-align: middle;\n",
              "    }\n",
              "\n",
              "    .dataframe tbody tr th {\n",
              "        vertical-align: top;\n",
              "    }\n",
              "\n",
              "    .dataframe thead th {\n",
              "        text-align: right;\n",
              "    }\n",
              "</style>\n",
              "<table border=\"1\" class=\"dataframe\">\n",
              "  <thead>\n",
              "    <tr style=\"text-align: right;\">\n",
              "      <th></th>\n",
              "      <th>SentenceId</th>\n",
              "      <th>term</th>\n",
              "      <th>term_frequency</th>\n",
              "      <th>document_frequency</th>\n",
              "    </tr>\n",
              "  </thead>\n",
              "  <tbody>\n",
              "    <tr>\n",
              "      <th>0</th>\n",
              "      <td>1</td>\n",
              "      <td>a</td>\n",
              "      <td>1</td>\n",
              "      <td>3.0</td>\n",
              "    </tr>\n",
              "    <tr>\n",
              "      <th>1</th>\n",
              "      <td>2984</td>\n",
              "      <td>a</td>\n",
              "      <td>2</td>\n",
              "      <td>3.0</td>\n",
              "    </tr>\n",
              "    <tr>\n",
              "      <th>2</th>\n",
              "      <td>5001</td>\n",
              "      <td>a</td>\n",
              "      <td>1</td>\n",
              "      <td>3.0</td>\n",
              "    </tr>\n",
              "    <tr>\n",
              "      <th>3</th>\n",
              "      <td>1</td>\n",
              "      <td>adag</td>\n",
              "      <td>2</td>\n",
              "      <td>1.0</td>\n",
              "    </tr>\n",
              "    <tr>\n",
              "      <th>4</th>\n",
              "      <td>1</td>\n",
              "      <td>also</td>\n",
              "      <td>2</td>\n",
              "      <td>8.0</td>\n",
              "    </tr>\n",
              "    <tr>\n",
              "      <th>...</th>\n",
              "      <td>...</td>\n",
              "      <td>...</td>\n",
              "      <td>...</td>\n",
              "      <td>...</td>\n",
              "    </tr>\n",
              "    <tr>\n",
              "      <th>24906</th>\n",
              "      <td>8536</td>\n",
              "      <td>goldi</td>\n",
              "      <td>1</td>\n",
              "      <td>1.0</td>\n",
              "    </tr>\n",
              "    <tr>\n",
              "      <th>24907</th>\n",
              "      <td>8537</td>\n",
              "      <td>laughingli</td>\n",
              "      <td>2</td>\n",
              "      <td>1.0</td>\n",
              "    </tr>\n",
              "    <tr>\n",
              "      <th>24908</th>\n",
              "      <td>8544</td>\n",
              "      <td>avuncular</td>\n",
              "      <td>1</td>\n",
              "      <td>1.0</td>\n",
              "    </tr>\n",
              "    <tr>\n",
              "      <th>24909</th>\n",
              "      <td>8544</td>\n",
              "      <td>chortl</td>\n",
              "      <td>1</td>\n",
              "      <td>1.0</td>\n",
              "    </tr>\n",
              "    <tr>\n",
              "      <th>24910</th>\n",
              "      <td>8544</td>\n",
              "      <td>herrmann</td>\n",
              "      <td>1</td>\n",
              "      <td>1.0</td>\n",
              "    </tr>\n",
              "  </tbody>\n",
              "</table>\n",
              "<p>24911 rows × 4 columns</p>\n",
              "</div>\n",
              "      <button class=\"colab-df-convert\" onclick=\"convertToInteractive('df-7b751baf-da93-468a-98f0-61a3c29a8f2d')\"\n",
              "              title=\"Convert this dataframe to an interactive table.\"\n",
              "              style=\"display:none;\">\n",
              "        \n",
              "  <svg xmlns=\"http://www.w3.org/2000/svg\" height=\"24px\"viewBox=\"0 0 24 24\"\n",
              "       width=\"24px\">\n",
              "    <path d=\"M0 0h24v24H0V0z\" fill=\"none\"/>\n",
              "    <path d=\"M18.56 5.44l.94 2.06.94-2.06 2.06-.94-2.06-.94-.94-2.06-.94 2.06-2.06.94zm-11 1L8.5 8.5l.94-2.06 2.06-.94-2.06-.94L8.5 2.5l-.94 2.06-2.06.94zm10 10l.94 2.06.94-2.06 2.06-.94-2.06-.94-.94-2.06-.94 2.06-2.06.94z\"/><path d=\"M17.41 7.96l-1.37-1.37c-.4-.4-.92-.59-1.43-.59-.52 0-1.04.2-1.43.59L10.3 9.45l-7.72 7.72c-.78.78-.78 2.05 0 2.83L4 21.41c.39.39.9.59 1.41.59.51 0 1.02-.2 1.41-.59l7.78-7.78 2.81-2.81c.8-.78.8-2.07 0-2.86zM5.41 20L4 18.59l7.72-7.72 1.47 1.35L5.41 20z\"/>\n",
              "  </svg>\n",
              "      </button>\n",
              "      \n",
              "  <style>\n",
              "    .colab-df-container {\n",
              "      display:flex;\n",
              "      flex-wrap:wrap;\n",
              "      gap: 12px;\n",
              "    }\n",
              "\n",
              "    .colab-df-convert {\n",
              "      background-color: #E8F0FE;\n",
              "      border: none;\n",
              "      border-radius: 50%;\n",
              "      cursor: pointer;\n",
              "      display: none;\n",
              "      fill: #1967D2;\n",
              "      height: 32px;\n",
              "      padding: 0 0 0 0;\n",
              "      width: 32px;\n",
              "    }\n",
              "\n",
              "    .colab-df-convert:hover {\n",
              "      background-color: #E2EBFA;\n",
              "      box-shadow: 0px 1px 2px rgba(60, 64, 67, 0.3), 0px 1px 3px 1px rgba(60, 64, 67, 0.15);\n",
              "      fill: #174EA6;\n",
              "    }\n",
              "\n",
              "    [theme=dark] .colab-df-convert {\n",
              "      background-color: #3B4455;\n",
              "      fill: #D2E3FC;\n",
              "    }\n",
              "\n",
              "    [theme=dark] .colab-df-convert:hover {\n",
              "      background-color: #434B5C;\n",
              "      box-shadow: 0px 1px 3px 1px rgba(0, 0, 0, 0.15);\n",
              "      filter: drop-shadow(0px 1px 2px rgba(0, 0, 0, 0.3));\n",
              "      fill: #FFFFFF;\n",
              "    }\n",
              "  </style>\n",
              "\n",
              "      <script>\n",
              "        const buttonEl =\n",
              "          document.querySelector('#df-7b751baf-da93-468a-98f0-61a3c29a8f2d button.colab-df-convert');\n",
              "        buttonEl.style.display =\n",
              "          google.colab.kernel.accessAllowed ? 'block' : 'none';\n",
              "\n",
              "        async function convertToInteractive(key) {\n",
              "          const element = document.querySelector('#df-7b751baf-da93-468a-98f0-61a3c29a8f2d');\n",
              "          const dataTable =\n",
              "            await google.colab.kernel.invokeFunction('convertToInteractive',\n",
              "                                                     [key], {});\n",
              "          if (!dataTable) return;\n",
              "\n",
              "          const docLinkHtml = 'Like what you see? Visit the ' +\n",
              "            '<a target=\"_blank\" href=https://colab.research.google.com/notebooks/data_table.ipynb>data table notebook</a>'\n",
              "            + ' to learn more about interactive tables.';\n",
              "          element.innerHTML = '';\n",
              "          dataTable['output_type'] = 'display_data';\n",
              "          await google.colab.output.renderOutput(dataTable, element);\n",
              "          const docLink = document.createElement('div');\n",
              "          docLink.innerHTML = docLinkHtml;\n",
              "          element.appendChild(docLink);\n",
              "        }\n",
              "      </script>\n",
              "    </div>\n",
              "  </div>\n",
              "  "
            ]
          },
          "metadata": {},
          "execution_count": 36
        }
      ]
    },
    {
      "cell_type": "code",
      "source": [
        "sentence_in_corpus = term_frequency['SentenceId'].nunique()\n",
        "term_frequency['idf'] = np.log((1 + sentence_in_corpus) / (1 + term_frequency['document_frequency'])) + 1"
      ],
      "metadata": {
        "id": "iCpV3P4YLITL"
      },
      "execution_count": null,
      "outputs": []
    },
    {
      "cell_type": "code",
      "source": [
        "term_frequency['tfidf'] = term_frequency['term_frequency'] * term_frequency['idf']\n",
        "term_frequency.sort_values(by=['term_frequency'], ascending=False)"
      ],
      "metadata": {
        "colab": {
          "base_uri": "https://localhost:8080/",
          "height": 485
        },
        "id": "Q--4ln_DNmIb",
        "outputId": "249803b4-1f23-4b23-d267-3cd3b8e5b80e"
      },
      "execution_count": null,
      "outputs": [
        {
          "output_type": "execute_result",
          "data": {
            "text/plain": [
              "       SentenceId         term  term_frequency  document_frequency       idf  \\\n",
              "23132        6209       gotten               8                 2.0  8.839394   \n",
              "17612        2086       button               7                 1.0  9.244859   \n",
              "21361        6906     showdown               7                 2.0  8.839394   \n",
              "13450         839  crowd-pleas               7                 2.0  8.839394   \n",
              "19113        5516         bomb               7                 2.0  8.839394   \n",
              "...           ...          ...             ...                 ...       ...   \n",
              "9364         4572       obviou               1                11.0  7.453100   \n",
              "9363         3374       obviou               1                11.0  7.453100   \n",
              "9362         2887       obviou               1                11.0  7.453100   \n",
              "9361         2027       obviou               1                11.0  7.453100   \n",
              "24910        8544     herrmann               1                 1.0  9.244859   \n",
              "\n",
              "           tfidf  \n",
              "23132  70.715154  \n",
              "17612  64.714016  \n",
              "21361  61.875760  \n",
              "13450  61.875760  \n",
              "19113  61.875760  \n",
              "...          ...  \n",
              "9364    7.453100  \n",
              "9363    7.453100  \n",
              "9362    7.453100  \n",
              "9361    7.453100  \n",
              "24910   9.244859  \n",
              "\n",
              "[24911 rows x 6 columns]"
            ],
            "text/html": [
              "\n",
              "  <div id=\"df-bd29c376-fef2-4e5c-9c40-777a8b47b70a\">\n",
              "    <div class=\"colab-df-container\">\n",
              "      <div>\n",
              "<style scoped>\n",
              "    .dataframe tbody tr th:only-of-type {\n",
              "        vertical-align: middle;\n",
              "    }\n",
              "\n",
              "    .dataframe tbody tr th {\n",
              "        vertical-align: top;\n",
              "    }\n",
              "\n",
              "    .dataframe thead th {\n",
              "        text-align: right;\n",
              "    }\n",
              "</style>\n",
              "<table border=\"1\" class=\"dataframe\">\n",
              "  <thead>\n",
              "    <tr style=\"text-align: right;\">\n",
              "      <th></th>\n",
              "      <th>SentenceId</th>\n",
              "      <th>term</th>\n",
              "      <th>term_frequency</th>\n",
              "      <th>document_frequency</th>\n",
              "      <th>idf</th>\n",
              "      <th>tfidf</th>\n",
              "    </tr>\n",
              "  </thead>\n",
              "  <tbody>\n",
              "    <tr>\n",
              "      <th>23132</th>\n",
              "      <td>6209</td>\n",
              "      <td>gotten</td>\n",
              "      <td>8</td>\n",
              "      <td>2.0</td>\n",
              "      <td>8.839394</td>\n",
              "      <td>70.715154</td>\n",
              "    </tr>\n",
              "    <tr>\n",
              "      <th>17612</th>\n",
              "      <td>2086</td>\n",
              "      <td>button</td>\n",
              "      <td>7</td>\n",
              "      <td>1.0</td>\n",
              "      <td>9.244859</td>\n",
              "      <td>64.714016</td>\n",
              "    </tr>\n",
              "    <tr>\n",
              "      <th>21361</th>\n",
              "      <td>6906</td>\n",
              "      <td>showdown</td>\n",
              "      <td>7</td>\n",
              "      <td>2.0</td>\n",
              "      <td>8.839394</td>\n",
              "      <td>61.875760</td>\n",
              "    </tr>\n",
              "    <tr>\n",
              "      <th>13450</th>\n",
              "      <td>839</td>\n",
              "      <td>crowd-pleas</td>\n",
              "      <td>7</td>\n",
              "      <td>2.0</td>\n",
              "      <td>8.839394</td>\n",
              "      <td>61.875760</td>\n",
              "    </tr>\n",
              "    <tr>\n",
              "      <th>19113</th>\n",
              "      <td>5516</td>\n",
              "      <td>bomb</td>\n",
              "      <td>7</td>\n",
              "      <td>2.0</td>\n",
              "      <td>8.839394</td>\n",
              "      <td>61.875760</td>\n",
              "    </tr>\n",
              "    <tr>\n",
              "      <th>...</th>\n",
              "      <td>...</td>\n",
              "      <td>...</td>\n",
              "      <td>...</td>\n",
              "      <td>...</td>\n",
              "      <td>...</td>\n",
              "      <td>...</td>\n",
              "    </tr>\n",
              "    <tr>\n",
              "      <th>9364</th>\n",
              "      <td>4572</td>\n",
              "      <td>obviou</td>\n",
              "      <td>1</td>\n",
              "      <td>11.0</td>\n",
              "      <td>7.453100</td>\n",
              "      <td>7.453100</td>\n",
              "    </tr>\n",
              "    <tr>\n",
              "      <th>9363</th>\n",
              "      <td>3374</td>\n",
              "      <td>obviou</td>\n",
              "      <td>1</td>\n",
              "      <td>11.0</td>\n",
              "      <td>7.453100</td>\n",
              "      <td>7.453100</td>\n",
              "    </tr>\n",
              "    <tr>\n",
              "      <th>9362</th>\n",
              "      <td>2887</td>\n",
              "      <td>obviou</td>\n",
              "      <td>1</td>\n",
              "      <td>11.0</td>\n",
              "      <td>7.453100</td>\n",
              "      <td>7.453100</td>\n",
              "    </tr>\n",
              "    <tr>\n",
              "      <th>9361</th>\n",
              "      <td>2027</td>\n",
              "      <td>obviou</td>\n",
              "      <td>1</td>\n",
              "      <td>11.0</td>\n",
              "      <td>7.453100</td>\n",
              "      <td>7.453100</td>\n",
              "    </tr>\n",
              "    <tr>\n",
              "      <th>24910</th>\n",
              "      <td>8544</td>\n",
              "      <td>herrmann</td>\n",
              "      <td>1</td>\n",
              "      <td>1.0</td>\n",
              "      <td>9.244859</td>\n",
              "      <td>9.244859</td>\n",
              "    </tr>\n",
              "  </tbody>\n",
              "</table>\n",
              "<p>24911 rows × 6 columns</p>\n",
              "</div>\n",
              "      <button class=\"colab-df-convert\" onclick=\"convertToInteractive('df-bd29c376-fef2-4e5c-9c40-777a8b47b70a')\"\n",
              "              title=\"Convert this dataframe to an interactive table.\"\n",
              "              style=\"display:none;\">\n",
              "        \n",
              "  <svg xmlns=\"http://www.w3.org/2000/svg\" height=\"24px\"viewBox=\"0 0 24 24\"\n",
              "       width=\"24px\">\n",
              "    <path d=\"M0 0h24v24H0V0z\" fill=\"none\"/>\n",
              "    <path d=\"M18.56 5.44l.94 2.06.94-2.06 2.06-.94-2.06-.94-.94-2.06-.94 2.06-2.06.94zm-11 1L8.5 8.5l.94-2.06 2.06-.94-2.06-.94L8.5 2.5l-.94 2.06-2.06.94zm10 10l.94 2.06.94-2.06 2.06-.94-2.06-.94-.94-2.06-.94 2.06-2.06.94z\"/><path d=\"M17.41 7.96l-1.37-1.37c-.4-.4-.92-.59-1.43-.59-.52 0-1.04.2-1.43.59L10.3 9.45l-7.72 7.72c-.78.78-.78 2.05 0 2.83L4 21.41c.39.39.9.59 1.41.59.51 0 1.02-.2 1.41-.59l7.78-7.78 2.81-2.81c.8-.78.8-2.07 0-2.86zM5.41 20L4 18.59l7.72-7.72 1.47 1.35L5.41 20z\"/>\n",
              "  </svg>\n",
              "      </button>\n",
              "      \n",
              "  <style>\n",
              "    .colab-df-container {\n",
              "      display:flex;\n",
              "      flex-wrap:wrap;\n",
              "      gap: 12px;\n",
              "    }\n",
              "\n",
              "    .colab-df-convert {\n",
              "      background-color: #E8F0FE;\n",
              "      border: none;\n",
              "      border-radius: 50%;\n",
              "      cursor: pointer;\n",
              "      display: none;\n",
              "      fill: #1967D2;\n",
              "      height: 32px;\n",
              "      padding: 0 0 0 0;\n",
              "      width: 32px;\n",
              "    }\n",
              "\n",
              "    .colab-df-convert:hover {\n",
              "      background-color: #E2EBFA;\n",
              "      box-shadow: 0px 1px 2px rgba(60, 64, 67, 0.3), 0px 1px 3px 1px rgba(60, 64, 67, 0.15);\n",
              "      fill: #174EA6;\n",
              "    }\n",
              "\n",
              "    [theme=dark] .colab-df-convert {\n",
              "      background-color: #3B4455;\n",
              "      fill: #D2E3FC;\n",
              "    }\n",
              "\n",
              "    [theme=dark] .colab-df-convert:hover {\n",
              "      background-color: #434B5C;\n",
              "      box-shadow: 0px 1px 3px 1px rgba(0, 0, 0, 0.15);\n",
              "      filter: drop-shadow(0px 1px 2px rgba(0, 0, 0, 0.3));\n",
              "      fill: #FFFFFF;\n",
              "    }\n",
              "  </style>\n",
              "\n",
              "      <script>\n",
              "        const buttonEl =\n",
              "          document.querySelector('#df-bd29c376-fef2-4e5c-9c40-777a8b47b70a button.colab-df-convert');\n",
              "        buttonEl.style.display =\n",
              "          google.colab.kernel.accessAllowed ? 'block' : 'none';\n",
              "\n",
              "        async function convertToInteractive(key) {\n",
              "          const element = document.querySelector('#df-bd29c376-fef2-4e5c-9c40-777a8b47b70a');\n",
              "          const dataTable =\n",
              "            await google.colab.kernel.invokeFunction('convertToInteractive',\n",
              "                                                     [key], {});\n",
              "          if (!dataTable) return;\n",
              "\n",
              "          const docLinkHtml = 'Like what you see? Visit the ' +\n",
              "            '<a target=\"_blank\" href=https://colab.research.google.com/notebooks/data_table.ipynb>data table notebook</a>'\n",
              "            + ' to learn more about interactive tables.';\n",
              "          element.innerHTML = '';\n",
              "          dataTable['output_type'] = 'display_data';\n",
              "          await google.colab.output.renderOutput(dataTable, element);\n",
              "          const docLink = document.createElement('div');\n",
              "          docLink.innerHTML = docLinkHtml;\n",
              "          element.appendChild(docLink);\n",
              "        }\n",
              "      </script>\n",
              "    </div>\n",
              "  </div>\n",
              "  "
            ]
          },
          "metadata": {},
          "execution_count": 40
        }
      ]
    },
    {
      "cell_type": "markdown",
      "metadata": {
        "id": "Q5BpvlSNIp16"
      },
      "source": [
        "## Section 4: Model Training\n",
        "\n",
        "In this section, you should engineer at least two models. You should train each model on the training set and evaluate the performance of each model on the test set. You should also compare the performance of each model. You should also explain the performance of each model."
      ]
    },
    {
      "cell_type": "markdown",
      "source": [
        "First I want to see how the model would perform with only the full reviews."
      ],
      "metadata": {
        "id": "KnhBexABRh0L"
      }
    },
    {
      "cell_type": "code",
      "source": [
        "from sklearn.feature_extraction.text import CountVectorizer\n",
        "from sklearn.model_selection import train_test_split"
      ],
      "metadata": {
        "id": "t5On1f1D42oO"
      },
      "execution_count": null,
      "outputs": []
    },
    {
      "cell_type": "code",
      "source": [
        "import math\n",
        "\n",
        "class NaiveBayesClassifier:\n",
        "    def __init__(self):\n",
        "        self.negative_word_counts = {}\n",
        "        self.somenegative_word_counts = {}\n",
        "        self.neutral_word_counts = {}\n",
        "        self.somepositive_word_counts = {}\n",
        "        self.positive_word_counts = {}\n",
        "\n",
        "        self.positive_total_count = 0\n",
        "        self.somepositive_total_count = 0\n",
        "        self.neutral_total_count = 0\n",
        "        self.negative_total_count = 0\n",
        "        self.somenegative_total_count = 0\n",
        "\n",
        "        self.vocab = set()\n",
        "\n",
        "    def train(self, data):\n",
        "        for text, label in data:\n",
        "            if label == 4:\n",
        "                self.positive_total_count += 1\n",
        "                for word in text:\n",
        "                    self.positive_word_counts[word] = self.positive_word_counts.get(word, 0) + 1\n",
        "                    self.vocab.add(word)\n",
        "            elif label ==0:\n",
        "                self.negative_total_count += 1\n",
        "                for word in text:\n",
        "                    self.negative_word_counts[word] = self.negative_word_counts.get(word, 0) + 1\n",
        "                    self.vocab.add(word)\n",
        "            elif label ==1:\n",
        "                self.somenegative_total_count += 1\n",
        "                for word in text:\n",
        "                    self.somenegative_word_counts[word] = self.somenegative_word_counts.get(word, 0) + 1\n",
        "                    self.vocab.add(word)\n",
        "            elif label ==2:\n",
        "                self.neutral_total_count += 1\n",
        "                for word in text:\n",
        "                    self.neutral_word_counts[word] = self.neutral_word_counts.get(word, 0) + 1\n",
        "                    self.vocab.add(word)\n",
        "            elif label == 3:\n",
        "                self.somepositive_total_count += 1\n",
        "                for word in text:\n",
        "                    self.somepositive_word_counts[word] = self.somepositive_word_counts.get(word, 0) + 1\n",
        "                    self.vocab.add(word)\n",
        "\n",
        "    def predict(self, text):\n",
        "        # Calculate the prior probability of each class\n",
        "        total_count = self.positive_total_count + self.somepositive_total_count +self.neutral_total_count +self.negative_total_count+self.somenegative_total_count\n",
        "        positive_prior = self.positive_total_count / (total_count + 1e-10)\n",
        "        negative_prior = self.negative_total_count / (total_count + 1e-10)\n",
        "        somepositive_prior = self.somepositive_total_count / (total_count + 1e-10)\n",
        "        somenegative_prior = self.somenegative_total_count / (total_count + 1e-10)\n",
        "        neutral_prior = self.neutral_total_count / (total_count + 1e-10)\n",
        "\n",
        "        # Calculate the likelihood of the text given each class\n",
        "        positive_likelihood = 0\n",
        "        negative_likelihood = 0\n",
        "        somepositive_likelihood = 0\n",
        "        somenegative_likelihood = 0\n",
        "        neutral_likelihood = 0\n",
        "        for word in text:\n",
        "            if word in self.vocab:\n",
        "                # Add Laplace smoothing to avoid zero probability\n",
        "                positive_likelihood += math.log((self.positive_word_counts.get(word, 0) + 1) / (self.positive_total_count + len(self.vocab) + 1))\n",
        "                negative_likelihood += math.log((self.negative_word_counts.get(word, 0) + 1) / (self.negative_total_count + len(self.vocab) + 1))\n",
        "                somepositive_likelihood += math.log((self.somepositive_word_counts.get(word, 0) + 1) / (self.somepositive_total_count + len(self.vocab) + 1))\n",
        "                somenegative_likelihood += math.log((self.somenegative_word_counts.get(word, 0) + 1) / (self.somenegative_total_count + len(self.vocab) + 1))\n",
        "                neutral_likelihood += math.log((self.neutral_word_counts.get(word, 0) + 1) / (self.neutral_total_count + len(self.vocab) + 1))\n",
        "\n",
        "\n",
        "        positive_posterior = math.exp(positive_likelihood) * positive_prior\n",
        "        negative_posterior = math.exp(negative_likelihood) * negative_prior\n",
        "        somepositive_posterior = math.exp(somepositive_likelihood) * somepositive_prior\n",
        "        somenegative_posterior = math.exp(somenegative_likelihood) * somenegative_prior\n",
        "        neutral_posterior = math.exp(neutral_likelihood) * neutral_prior\n",
        "\n",
        "        all = []\n",
        "        all.extend((negative_posterior,somenegative_posterior,neutral_posterior,somepositive_posterior,positive_posterior))\n",
        "        maxIndex = all.index(max(all))\n",
        "\n",
        "        return maxIndex"
      ],
      "metadata": {
        "id": "pj6GQWrh2YVA"
      },
      "execution_count": null,
      "outputs": []
    },
    {
      "cell_type": "code",
      "source": [
        "nb = NaiveBayesClassifier()\n",
        "X_train, X_test, y_train, y_test_full = train_test_split(x_fullreview, y_fullreview, test_size=0.2, random_state=42)\n",
        "nb.train(zip(X_train, y_train))"
      ],
      "metadata": {
        "id": "gPdVNZZ2Rx4C"
      },
      "execution_count": null,
      "outputs": []
    },
    {
      "cell_type": "code",
      "source": [
        "correct_predictions = 0\n",
        "total_predictions = len(X_test)\n",
        "y_pred_full = []\n",
        "for text, label in zip(X_test, y_test_full):\n",
        "    pred = nb.predict(text)\n",
        "    y_pred_full.append(pred)\n",
        "    if pred == label:\n",
        "        correct_predictions += 1\n",
        "correct_predictions_train = 0\n",
        "y_pred_full_train = []\n",
        "total_predictions_train = len(X_train)\n",
        "for text, label in zip(X_train, y_train):\n",
        "    pred = nb.predict(text)\n",
        "    y_pred_full_train.append(pred)\n",
        "    if pred == label:\n",
        "        correct_predictions_train += 1\n",
        "\n",
        "accuracy = correct_predictions / total_predictions\n",
        "training_accuracy = correct_predictions_train/total_predictions_train\n",
        "print('The naive bayes model trained on full reviews achieced an validation accuracy of ', accuracy)"
      ],
      "metadata": {
        "colab": {
          "base_uri": "https://localhost:8080/"
        },
        "id": "pk4FNqheRx8s",
        "outputId": "72288f3c-97f9-4b6f-afcd-7920b3072ccf"
      },
      "execution_count": null,
      "outputs": [
        {
          "output_type": "stream",
          "name": "stdout",
          "text": [
            "The naive bayes model trained on full reviews achieced an validation accuracy of  0.40211019929660025\n"
          ]
        }
      ]
    },
    {
      "cell_type": "markdown",
      "source": [
        "A different implementation of NaiveBayes:\n",
        "\n",
        "I will use vectorizd reviews this time with the naive baynes model provided by scikit learn library. My expectation is that vectorization will improve the model performance"
      ],
      "metadata": {
        "id": "CuzVP32kYSJj"
      }
    },
    {
      "cell_type": "code",
      "source": [
        "from sklearn.naive_bayes import MultinomialNB\n",
        "from sklearn.metrics import accuracy_score"
      ],
      "metadata": {
        "id": "k8bIGx6WHSka"
      },
      "execution_count": null,
      "outputs": []
    },
    {
      "cell_type": "code",
      "source": [
        "\n",
        "vectorizer = CountVectorizer(stop_words='english')\n",
        "#train_test split\n",
        "X_train, X_test, y_train, y_test_full = train_test_split(Full.Phrase.values, Full.Sentiment, test_size=0.2, random_state=42)\n",
        "\n",
        "X_train_vectors = vectorizer.fit_transform(X_train)\n",
        "X_test_vectors = vectorizer.transform(X_test)\n",
        "nb = MultinomialNB()\n",
        "\n",
        "nb.fit(X_train_vectors, y_train)\n",
        "y_train_pred_fullvec = nb.predict(X_train_vectors)\n",
        "y_pred_fullvec = nb.predict(X_test_vectors)\n",
        "\n",
        "accuracy_fullvec = accuracy_score(y_test_full, y_pred_fullvec )\n",
        "accuracy_train_fullvec = accuracy_score(y_train, y_train_pred_fullvec)\n",
        "\n",
        "print(f'The model trained with vectorized phrase achieve an accuracy with: {accuracy_fullvec:.2f}')"
      ],
      "metadata": {
        "colab": {
          "base_uri": "https://localhost:8080/"
        },
        "id": "-R0D9nbJaa-0",
        "outputId": "57f47a37-3415-4381-8c62-74a1e1818cd3"
      },
      "execution_count": null,
      "outputs": [
        {
          "output_type": "stream",
          "name": "stdout",
          "text": [
            "The model trained with vectorized phrase achieve an accuracy with: 0.38\n"
          ]
        }
      ]
    },
    {
      "cell_type": "code",
      "source": [
        "training_accuracy"
      ],
      "metadata": {
        "colab": {
          "base_uri": "https://localhost:8080/"
        },
        "id": "VPF7sBtAaP48",
        "outputId": "8659b62d-616f-4ffb-add1-5f638ffeea84"
      },
      "execution_count": null,
      "outputs": [
        {
          "output_type": "execute_result",
          "data": {
            "text/plain": [
              "0.6107284185842005"
            ]
          },
          "metadata": {},
          "execution_count": 165
        }
      ]
    },
    {
      "cell_type": "code",
      "source": [
        "accuracy_train_fullvec"
      ],
      "metadata": {
        "colab": {
          "base_uri": "https://localhost:8080/"
        },
        "id": "1XMefBfzXtni",
        "outputId": "6bd00080-f2a2-4516-daba-7c289b8625d4"
      },
      "execution_count": null,
      "outputs": [
        {
          "output_type": "execute_result",
          "data": {
            "text/plain": [
              "0.8384874688553422"
            ]
          },
          "metadata": {},
          "execution_count": 168
        }
      ]
    },
    {
      "cell_type": "markdown",
      "source": [
        "However, the overall accuracy a model trained on vectorized text is lower than previous model. To figure out what happened, I checked the train accuracies for both models. I found that the training accuracy with vectorized text is significanly higher than the testing accuracy with the vectorized text, also it is siginificantly high than the training accuracy with the non-vectorized text. This suggest that with vectorizing the text, the model has overfitting issues. That is why the testing accuracy decrease after applying vectorization."
      ],
      "metadata": {
        "id": "EoRwaQyycOdN"
      }
    },
    {
      "cell_type": "markdown",
      "source": [
        "The I tried to apply a different vectorizer(tfidf vectorizer) instead of count vectorizer"
      ],
      "metadata": {
        "id": "9W6FdaTKdY16"
      }
    },
    {
      "cell_type": "code",
      "source": [
        "from sklearn.feature_extraction.text import TfidfVectorizer\n",
        "from sklearn.pipeline import Pipeline"
      ],
      "metadata": {
        "id": "LCLy-fLVlPTs"
      },
      "execution_count": null,
      "outputs": []
    },
    {
      "cell_type": "code",
      "source": [
        "text_clf = Pipeline([('tfidf', TfidfVectorizer()), ('clf', MultinomialNB())])\n",
        "\n",
        "text_clf.fit(X_train, y_train)\n",
        "\n",
        "y_train_pred_fulltfidf = text_clf.predict(X_train)\n",
        "y_pred_fulltfidf = text_clf.predict(X_test)\n",
        "\n",
        "accuracy_fulltfidf = accuracy_score(y_test_full, y_pred_fulltfidf)\n",
        "accuracy_train_fulltfidf = accuracy_score(y_train, y_train_pred_fulltfidf)\n",
        "\n",
        "print(f'The model trained with text vectorized by tfidfvectorizer achieve an accuracy with: {accuracy_fulltfidf:.2f}')"
      ],
      "metadata": {
        "colab": {
          "base_uri": "https://localhost:8080/"
        },
        "id": "D1yBO6jez7Ay",
        "outputId": "f147f3db-4346-4b06-c25d-a588b131a114"
      },
      "execution_count": null,
      "outputs": [
        {
          "output_type": "stream",
          "name": "stdout",
          "text": [
            "The model trained with text vectorized by tfidfvectorizer achieve an accuracy with: 0.39\n"
          ]
        }
      ]
    },
    {
      "cell_type": "markdown",
      "source": [
        "tfidf vectorizer didn't perform well with the model training."
      ],
      "metadata": {
        "id": "vaCVezkg35R-"
      }
    },
    {
      "cell_type": "markdown",
      "source": [
        "I also tried to train the model with all the phrases included in the train dataframe."
      ],
      "metadata": {
        "id": "v3oUa_mLRyhN"
      }
    },
    {
      "cell_type": "code",
      "source": [
        "nb = NaiveBayesClassifier()\n",
        "X_train, X_test, y_train, y_test = train_test_split(x_phrase, y_phrase, test_size=0.2, random_state=42)\n",
        "nb.train(zip(X_train, y_train))"
      ],
      "metadata": {
        "id": "Q9zbp-JO-WMW"
      },
      "execution_count": null,
      "outputs": []
    },
    {
      "cell_type": "code",
      "source": [
        "correct_predictions = 0\n",
        "total_predictions = len(X_test)\n",
        "y_pred_phrase=[]\n",
        "for text, label in zip(X_test, y_test):\n",
        "    pred = nb.predict(text)\n",
        "    y_pred_phrase.append(pred)\n",
        "    if pred == label:\n",
        "        correct_predictions += 1\n",
        "\n",
        "accuracy = correct_predictions / total_predictions\n",
        "print('The naive bayes model trained on phrases achieced an accuracy of ', accuracy)"
      ],
      "metadata": {
        "colab": {
          "base_uri": "https://localhost:8080/"
        },
        "id": "jFGIOo_K-WTH",
        "outputId": "98b3967a-f028-431d-faf8-0007e366afa5"
      },
      "execution_count": null,
      "outputs": [
        {
          "output_type": "stream",
          "name": "stdout",
          "text": [
            "The naive bayes model trained on phrases achieced an accuracy of  0.5749711649365629\n"
          ]
        }
      ]
    },
    {
      "cell_type": "markdown",
      "source": [
        "A different implementation of NaiveBayes with vectorization"
      ],
      "metadata": {
        "id": "bJ75BSNJHOtE"
      }
    },
    {
      "cell_type": "code",
      "source": [
        "#train_test split\n",
        "X_train, X_test, y_train, y_test = train_test_split(train_df.Phrase.values, y_phrase, test_size=0.2, random_state=42)\n",
        "len(X_train), len(X_test), len(y_train), len(y_test)"
      ],
      "metadata": {
        "colab": {
          "base_uri": "https://localhost:8080/"
        },
        "id": "vd4sQGkZipXK",
        "outputId": "badc04f5-a5fa-4a3b-f145-a7dd4d4d5372"
      },
      "execution_count": null,
      "outputs": [
        {
          "output_type": "execute_result",
          "data": {
            "text/plain": [
              "(124848, 31212, 124848, 31212)"
            ]
          },
          "metadata": {},
          "execution_count": 186
        }
      ]
    },
    {
      "cell_type": "code",
      "source": [
        "vectorizer = CountVectorizer(stop_words='english')\n",
        "\n",
        "# Fit the vectorizer on our corpus\n",
        "X_train_vectors = vectorizer.fit_transform(X_train)\n",
        "X_test_vectors = vectorizer.transform(X_test)"
      ],
      "metadata": {
        "id": "ELBv6y1gipZv"
      },
      "execution_count": null,
      "outputs": []
    },
    {
      "cell_type": "code",
      "source": [
        "nb = MultinomialNB()\n",
        "\n",
        "# Fit the classifier on the training data\n",
        "nb.fit(X_train_vectors, y_train)\n",
        "\n",
        "# Make predictions on the test data\n",
        "y_pred_phrase_vec = nb.predict(X_test_vectors)\n",
        "\n",
        "# Calculate the accuracy of the classifier\n",
        "accuracy_vec = accuracy_score(y_test, y_pred_phrase_vec)\n",
        "print(f'The model trained with vectorized phrase achieve an accuracy with: {accuracy_vec:.2f}')"
      ],
      "metadata": {
        "colab": {
          "base_uri": "https://localhost:8080/"
        },
        "id": "dB7UuDlLipcc",
        "outputId": "f2e31dc8-27c0-470f-bf3d-671c9f4e6f5e"
      },
      "execution_count": null,
      "outputs": [
        {
          "output_type": "stream",
          "name": "stdout",
          "text": [
            "The model trained with vectorized phrase achieve an accuracy with: 0.61\n"
          ]
        }
      ]
    },
    {
      "cell_type": "markdown",
      "source": [
        "This time count vectorizer helped increase the accuracy score of the model"
      ],
      "metadata": {
        "id": "bEMRIiWCf9Bp"
      }
    },
    {
      "cell_type": "markdown",
      "metadata": {
        "id": "MeHdsL4XIp17"
      },
      "source": [
        "## Section 5: Model Evaluation\n",
        "\n",
        "In this section, you should evaluate the performance of your model. You should consider the following: accuracy, precision, recall, f1-score, confusion matrix, classification report, etc."
      ]
    },
    {
      "cell_type": "code",
      "source": [
        "from sklearn.metrics import classification_report\n",
        "import seaborn as sns\n",
        "from sklearn.metrics import confusion_matrix"
      ],
      "metadata": {
        "id": "YOiUW-QcjEQ-"
      },
      "execution_count": null,
      "outputs": []
    },
    {
      "cell_type": "markdown",
      "source": [
        "First I looked at the classification report and confusion matrix on the model trained with non-vectorized full reviews"
      ],
      "metadata": {
        "id": "GRzCGjWqkVNY"
      }
    },
    {
      "cell_type": "code",
      "source": [
        "print(classification_report(y_test_full, y_pred_full, target_names=['negative','somewhat negative', 'neutral','somewhat positive', 'positive']))"
      ],
      "metadata": {
        "colab": {
          "base_uri": "https://localhost:8080/"
        },
        "id": "Tm01FcyjjWOL",
        "outputId": "7ebf8117-663b-48e9-fc32-9a27d989f9f6"
      },
      "execution_count": null,
      "outputs": [
        {
          "output_type": "stream",
          "name": "stdout",
          "text": [
            "                   precision    recall  f1-score   support\n",
            "\n",
            "         negative       0.56      0.02      0.05       212\n",
            "somewhat negative       0.42      0.63      0.50       441\n",
            "          neutral       0.33      0.02      0.04       328\n",
            "somewhat positive       0.39      0.81      0.52       474\n",
            "         positive       0.63      0.05      0.09       251\n",
            "\n",
            "         accuracy                           0.40      1706\n",
            "        macro avg       0.47      0.31      0.24      1706\n",
            "     weighted avg       0.44      0.40      0.30      1706\n",
            "\n"
          ]
        }
      ]
    },
    {
      "cell_type": "code",
      "source": [
        "\n",
        "\n",
        "## visualize the confusion matrix\n",
        "cfm_full = confusion_matrix(y_test_full, y_pred_full)\n",
        "\n",
        "## plot the confusion matrix\n",
        "plt.figure(figsize=(10,8))\n",
        "sns.heatmap(cfm_full, annot=True, fmt='d', cmap='Blues')\n",
        "plt.title('Confusion Matrix of Model trained on Full Reviews')\n",
        "plt.show()"
      ],
      "metadata": {
        "colab": {
          "base_uri": "https://localhost:8080/",
          "height": 499
        },
        "id": "cjIz4RZEXkDC",
        "outputId": "f2fd322b-3e5d-4db6-cdb0-1b9766bd6b8a"
      },
      "execution_count": null,
      "outputs": [
        {
          "output_type": "display_data",
          "data": {
            "text/plain": [
              "<Figure size 720x576 with 2 Axes>"
            ],
            "image/png": "[encoded data removed]"
          },
          "metadata": {
            "needs_background": "light"
          }
        }
      ]
    },
    {
      "cell_type": "markdown",
      "source": [
        "Then I looked at the classification report and confusion matrix of the model trained with full reviews vectorized with count vectorizer"
      ],
      "metadata": {
        "id": "ut6CMCsJkfC0"
      }
    },
    {
      "cell_type": "code",
      "source": [
        "print(classification_report(y_test_full, y_pred_fullvec, target_names=['negative','somewhat negative', 'neutral','somewhat positive', 'positive']))"
      ],
      "metadata": {
        "colab": {
          "base_uri": "https://localhost:8080/"
        },
        "id": "os-AYcOqlubh",
        "outputId": "abf8d3d0-6052-4232-e634-f95049dbc5ef"
      },
      "execution_count": null,
      "outputs": [
        {
          "output_type": "stream",
          "name": "stdout",
          "text": [
            "                   precision    recall  f1-score   support\n",
            "\n",
            "         negative       0.37      0.16      0.22       212\n",
            "somewhat negative       0.40      0.55      0.46       441\n",
            "          neutral       0.20      0.09      0.13       328\n",
            "somewhat positive       0.40      0.57      0.47       474\n",
            "         positive       0.43      0.30      0.36       251\n",
            "\n",
            "         accuracy                           0.38      1706\n",
            "        macro avg       0.36      0.34      0.33      1706\n",
            "     weighted avg       0.36      0.38      0.35      1706\n",
            "\n"
          ]
        }
      ]
    },
    {
      "cell_type": "code",
      "source": [
        "## visualize the confusion matrix\n",
        "cfm_fullvec = confusion_matrix(y_test_full, y_pred_fullvec)\n",
        "\n",
        "## plot the confusion matrix\n",
        "plt.figure(figsize=(10,8))\n",
        "sns.heatmap(cfm_fullvec, annot=True, fmt='d', cmap='Blues')\n",
        "plt.title('Confusion Matrix of Model trained on Full Reviews Vectorized')\n",
        "plt.show()"
      ],
      "metadata": {
        "colab": {
          "base_uri": "https://localhost:8080/",
          "height": 499
        },
        "id": "YUd6T8CDl1_G",
        "outputId": "18f4209e-bd11-4675-ecd1-db9462bc2a3f"
      },
      "execution_count": null,
      "outputs": [
        {
          "output_type": "display_data",
          "data": {
            "text/plain": [
              "<Figure size 720x576 with 2 Axes>"
            ],
            "image/png": "[encoded data removed]"
          },
          "metadata": {
            "needs_background": "light"
          }
        }
      ]
    },
    {
      "cell_type": "markdown",
      "source": [
        "Then I looked at the classification report and confusion matrix of the model trained on all the phrases."
      ],
      "metadata": {
        "id": "vtyVcA_-4lpk"
      }
    },
    {
      "cell_type": "code",
      "source": [
        "print(classification_report(y_test, y_pred_phrase, target_names=['negative','somewhat negative', 'neutral','somewhat positive', 'positive']))"
      ],
      "metadata": {
        "colab": {
          "base_uri": "https://localhost:8080/"
        },
        "id": "T5z150oY5Rv8",
        "outputId": "3a7d04ac-6195-4ac7-f6dc-a24deb1ac1a5"
      },
      "execution_count": null,
      "outputs": [
        {
          "output_type": "stream",
          "name": "stdout",
          "text": [
            "                   precision    recall  f1-score   support\n",
            "\n",
            "         negative       0.55      0.12      0.20      1416\n",
            "somewhat negative       0.44      0.66      0.53      5527\n",
            "          neutral       0.79      0.58      0.67     15639\n",
            "somewhat positive       0.45      0.71      0.55      6707\n",
            "         positive       0.47      0.11      0.18      1923\n",
            "\n",
            "         accuracy                           0.57     31212\n",
            "        macro avg       0.54      0.44      0.43     31212\n",
            "     weighted avg       0.62      0.57      0.57     31212\n",
            "\n"
          ]
        }
      ]
    },
    {
      "cell_type": "code",
      "source": [
        "## visualize the confusion matrix\n",
        "cfm_phrase= confusion_matrix(y_test, y_pred_phrase)\n",
        "\n",
        "## plot the confusion matrix\n",
        "plt.figure(figsize=(10,8))\n",
        "sns.heatmap(cfm_phrase, annot=True, fmt='d', cmap='Blues')\n",
        "plt.title('Confusion Matrix of Model trained on Phrases')\n",
        "plt.show()"
      ],
      "metadata": {
        "colab": {
          "base_uri": "https://localhost:8080/",
          "height": 499
        },
        "id": "sp9ANOaNipe9",
        "outputId": "cf1401d9-7672-468a-ca0a-c21bd68b9b1d"
      },
      "execution_count": null,
      "outputs": [
        {
          "output_type": "display_data",
          "data": {
            "text/plain": [
              "<Figure size 720x576 with 2 Axes>"
            ],
            "image/png": "[encoded data removed]"
          },
          "metadata": {
            "needs_background": "light"
          }
        }
      ]
    },
    {
      "cell_type": "markdown",
      "source": [
        "Then I looked at the classification report and confusion matrix of the model trained on vectorized phrases."
      ],
      "metadata": {
        "id": "BvDQVtv45g7i"
      }
    },
    {
      "cell_type": "code",
      "source": [
        "print(classification_report(y_test, y_pred_phrase_vec, target_names=['negative','somewhat negative', 'neutral','somewhat positive', 'positive']))"
      ],
      "metadata": {
        "colab": {
          "base_uri": "https://localhost:8080/"
        },
        "id": "_hs1drXN5lfe",
        "outputId": "0937655a-10aa-4703-aa1c-a17c5a5f3c82"
      },
      "execution_count": null,
      "outputs": [
        {
          "output_type": "stream",
          "name": "stdout",
          "text": [
            "                   precision    recall  f1-score   support\n",
            "\n",
            "         negative       0.45      0.28      0.34      1416\n",
            "somewhat negative       0.50      0.41      0.45      5527\n",
            "          neutral       0.68      0.80      0.73     15639\n",
            "somewhat positive       0.52      0.50      0.51      6707\n",
            "         positive       0.49      0.30      0.37      1923\n",
            "\n",
            "         accuracy                           0.61     31212\n",
            "        macro avg       0.53      0.46      0.48     31212\n",
            "     weighted avg       0.59      0.61      0.60     31212\n",
            "\n"
          ]
        }
      ]
    },
    {
      "cell_type": "code",
      "source": [
        "cfm_phrase_vec= confusion_matrix(y_test,  y_pred_phrase_vec)\n",
        "\n",
        "## plot the confusion matrix\n",
        "plt.figure(figsize=(10,8))\n",
        "sns.heatmap(cfm_phrase_vec, annot=True, fmt='d', cmap='Blues')\n",
        "plt.title('Confusion Matrix of Model trained on Phrases')\n",
        "plt.show()"
      ],
      "metadata": {
        "colab": {
          "base_uri": "https://localhost:8080/",
          "height": 499
        },
        "id": "zejd8DaF5lkY",
        "outputId": "d679dd0b-7729-4d83-baa6-0fbdf0dcd347"
      },
      "execution_count": null,
      "outputs": [
        {
          "output_type": "display_data",
          "data": {
            "text/plain": [
              "<Figure size 720x576 with 2 Axes>"
            ],
            "image/png": "[encoded data removed]"
          },
          "metadata": {
            "needs_background": "light"
          }
        }
      ]
    },
    {
      "cell_type": "code",
      "execution_count": null,
      "metadata": {
        "id": "fq1EgkmHIp17"
      },
      "outputs": [],
      "source": [
        "## produce some example of test data\n",
        "## predict with the better model trained on full label\n",
        "\n",
        "nb = NaiveBayesClassifier()\n",
        "X_train, X_test, y_train, y_test_full = train_test_split(x_fullreview, y_fullreview, test_size=0.2, random_state=42)\n",
        "nb.train(zip(X_train, y_train))\n"
      ]
    },
    {
      "cell_type": "code",
      "source": [
        "Full_test = test_df.groupby('SentenceId', as_index=False).first()\n",
        "x_test = Full_test.Phrase.values"
      ],
      "metadata": {
        "id": "iqpMsUbs7fKx"
      },
      "execution_count": null,
      "outputs": []
    },
    {
      "cell_type": "code",
      "source": [
        "y_test=[]\n",
        "for text in x_test:\n",
        "    pred = nb.predict(text)\n",
        "    y_test.append(pred)\n",
        ""
      ],
      "metadata": {
        "id": "twUx90MkW7SJ"
      },
      "execution_count": null,
      "outputs": []
    },
    {
      "cell_type": "code",
      "source": [
        "Full_test['Pred_Sentiment'] = y_test"
      ],
      "metadata": {
        "id": "AZQZ9Zv77xWi"
      },
      "execution_count": null,
      "outputs": []
    },
    {
      "cell_type": "code",
      "source": [
        "Full_test.head(10)"
      ],
      "metadata": {
        "colab": {
          "base_uri": "https://localhost:8080/",
          "height": 363
        },
        "id": "huk5-Fad77NT",
        "outputId": "4fae7fd8-499b-46b4-8d2b-c5c5c13af06b"
      },
      "execution_count": null,
      "outputs": [
        {
          "output_type": "execute_result",
          "data": {
            "text/plain": [
              "   SentenceId  PhraseId                                             Phrase  \\\n",
              "0        8545    156061  An intermittently pleasing but mostly routine ...   \n",
              "1        8546    156076  Kidman is really the only thing that 's worth ...   \n",
              "2        8547    156154  Once you get into its rhythm ... the movie bec...   \n",
              "3        8548    156178  I kept wishing I was watching a documentary ab...   \n",
              "4        8549    156219  Kinnear does n't aim for our sympathy , but ra...   \n",
              "5        8550    156250  All ends well , sort of , but the frenzied com...   \n",
              "6        8551    156272  It 's a hoot and a half , and a great way for ...   \n",
              "7        8552    156324  The weight of the piece , the unerring profess...   \n",
              "8        8553    156362  The film contains no good jokes , no good scen...   \n",
              "9        8554    156405  An offbeat , sometimes gross and surprisingly ...   \n",
              "\n",
              "   Pred_Sentiment  \n",
              "0               1  \n",
              "1               0  \n",
              "2               1  \n",
              "3               1  \n",
              "4               1  \n",
              "5               1  \n",
              "6               1  \n",
              "7               0  \n",
              "8               0  \n",
              "9               1  "
            ],
            "text/html": [
              "\n",
              "  <div id=\"df-d01aaa85-ab3c-48e2-b0b7-d5d088a09930\">\n",
              "    <div class=\"colab-df-container\">\n",
              "      <div>\n",
              "<style scoped>\n",
              "    .dataframe tbody tr th:only-of-type {\n",
              "        vertical-align: middle;\n",
              "    }\n",
              "\n",
              "    .dataframe tbody tr th {\n",
              "        vertical-align: top;\n",
              "    }\n",
              "\n",
              "    .dataframe thead th {\n",
              "        text-align: right;\n",
              "    }\n",
              "</style>\n",
              "<table border=\"1\" class=\"dataframe\">\n",
              "  <thead>\n",
              "    <tr style=\"text-align: right;\">\n",
              "      <th></th>\n",
              "      <th>SentenceId</th>\n",
              "      <th>PhraseId</th>\n",
              "      <th>Phrase</th>\n",
              "      <th>Pred_Sentiment</th>\n",
              "    </tr>\n",
              "  </thead>\n",
              "  <tbody>\n",
              "    <tr>\n",
              "      <th>0</th>\n",
              "      <td>8545</td>\n",
              "      <td>156061</td>\n",
              "      <td>An intermittently pleasing but mostly routine ...</td>\n",
              "      <td>1</td>\n",
              "    </tr>\n",
              "    <tr>\n",
              "      <th>1</th>\n",
              "      <td>8546</td>\n",
              "      <td>156076</td>\n",
              "      <td>Kidman is really the only thing that 's worth ...</td>\n",
              "      <td>0</td>\n",
              "    </tr>\n",
              "    <tr>\n",
              "      <th>2</th>\n",
              "      <td>8547</td>\n",
              "      <td>156154</td>\n",
              "      <td>Once you get into its rhythm ... the movie bec...</td>\n",
              "      <td>1</td>\n",
              "    </tr>\n",
              "    <tr>\n",
              "      <th>3</th>\n",
              "      <td>8548</td>\n",
              "      <td>156178</td>\n",
              "      <td>I kept wishing I was watching a documentary ab...</td>\n",
              "      <td>1</td>\n",
              "    </tr>\n",
              "    <tr>\n",
              "      <th>4</th>\n",
              "      <td>8549</td>\n",
              "      <td>156219</td>\n",
              "      <td>Kinnear does n't aim for our sympathy , but ra...</td>\n",
              "      <td>1</td>\n",
              "    </tr>\n",
              "    <tr>\n",
              "      <th>5</th>\n",
              "      <td>8550</td>\n",
              "      <td>156250</td>\n",
              "      <td>All ends well , sort of , but the frenzied com...</td>\n",
              "      <td>1</td>\n",
              "    </tr>\n",
              "    <tr>\n",
              "      <th>6</th>\n",
              "      <td>8551</td>\n",
              "      <td>156272</td>\n",
              "      <td>It 's a hoot and a half , and a great way for ...</td>\n",
              "      <td>1</td>\n",
              "    </tr>\n",
              "    <tr>\n",
              "      <th>7</th>\n",
              "      <td>8552</td>\n",
              "      <td>156324</td>\n",
              "      <td>The weight of the piece , the unerring profess...</td>\n",
              "      <td>0</td>\n",
              "    </tr>\n",
              "    <tr>\n",
              "      <th>8</th>\n",
              "      <td>8553</td>\n",
              "      <td>156362</td>\n",
              "      <td>The film contains no good jokes , no good scen...</td>\n",
              "      <td>0</td>\n",
              "    </tr>\n",
              "    <tr>\n",
              "      <th>9</th>\n",
              "      <td>8554</td>\n",
              "      <td>156405</td>\n",
              "      <td>An offbeat , sometimes gross and surprisingly ...</td>\n",
              "      <td>1</td>\n",
              "    </tr>\n",
              "  </tbody>\n",
              "</table>\n",
              "</div>\n",
              "      <button class=\"colab-df-convert\" onclick=\"convertToInteractive('df-d01aaa85-ab3c-48e2-b0b7-d5d088a09930')\"\n",
              "              title=\"Convert this dataframe to an interactive table.\"\n",
              "              style=\"display:none;\">\n",
              "        \n",
              "  <svg xmlns=\"http://www.w3.org/2000/svg\" height=\"24px\"viewBox=\"0 0 24 24\"\n",
              "       width=\"24px\">\n",
              "    <path d=\"M0 0h24v24H0V0z\" fill=\"none\"/>\n",
              "    <path d=\"M18.56 5.44l.94 2.06.94-2.06 2.06-.94-2.06-.94-.94-2.06-.94 2.06-2.06.94zm-11 1L8.5 8.5l.94-2.06 2.06-.94-2.06-.94L8.5 2.5l-.94 2.06-2.06.94zm10 10l.94 2.06.94-2.06 2.06-.94-2.06-.94-.94-2.06-.94 2.06-2.06.94z\"/><path d=\"M17.41 7.96l-1.37-1.37c-.4-.4-.92-.59-1.43-.59-.52 0-1.04.2-1.43.59L10.3 9.45l-7.72 7.72c-.78.78-.78 2.05 0 2.83L4 21.41c.39.39.9.59 1.41.59.51 0 1.02-.2 1.41-.59l7.78-7.78 2.81-2.81c.8-.78.8-2.07 0-2.86zM5.41 20L4 18.59l7.72-7.72 1.47 1.35L5.41 20z\"/>\n",
              "  </svg>\n",
              "      </button>\n",
              "      \n",
              "  <style>\n",
              "    .colab-df-container {\n",
              "      display:flex;\n",
              "      flex-wrap:wrap;\n",
              "      gap: 12px;\n",
              "    }\n",
              "\n",
              "    .colab-df-convert {\n",
              "      background-color: #E8F0FE;\n",
              "      border: none;\n",
              "      border-radius: 50%;\n",
              "      cursor: pointer;\n",
              "      display: none;\n",
              "      fill: #1967D2;\n",
              "      height: 32px;\n",
              "      padding: 0 0 0 0;\n",
              "      width: 32px;\n",
              "    }\n",
              "\n",
              "    .colab-df-convert:hover {\n",
              "      background-color: #E2EBFA;\n",
              "      box-shadow: 0px 1px 2px rgba(60, 64, 67, 0.3), 0px 1px 3px 1px rgba(60, 64, 67, 0.15);\n",
              "      fill: #174EA6;\n",
              "    }\n",
              "\n",
              "    [theme=dark] .colab-df-convert {\n",
              "      background-color: #3B4455;\n",
              "      fill: #D2E3FC;\n",
              "    }\n",
              "\n",
              "    [theme=dark] .colab-df-convert:hover {\n",
              "      background-color: #434B5C;\n",
              "      box-shadow: 0px 1px 3px 1px rgba(0, 0, 0, 0.15);\n",
              "      filter: drop-shadow(0px 1px 2px rgba(0, 0, 0, 0.3));\n",
              "      fill: #FFFFFF;\n",
              "    }\n",
              "  </style>\n",
              "\n",
              "      <script>\n",
              "        const buttonEl =\n",
              "          document.querySelector('#df-d01aaa85-ab3c-48e2-b0b7-d5d088a09930 button.colab-df-convert');\n",
              "        buttonEl.style.display =\n",
              "          google.colab.kernel.accessAllowed ? 'block' : 'none';\n",
              "\n",
              "        async function convertToInteractive(key) {\n",
              "          const element = document.querySelector('#df-d01aaa85-ab3c-48e2-b0b7-d5d088a09930');\n",
              "          const dataTable =\n",
              "            await google.colab.kernel.invokeFunction('convertToInteractive',\n",
              "                                                     [key], {});\n",
              "          if (!dataTable) return;\n",
              "\n",
              "          const docLinkHtml = 'Like what you see? Visit the ' +\n",
              "            '<a target=\"_blank\" href=https://colab.research.google.com/notebooks/data_table.ipynb>data table notebook</a>'\n",
              "            + ' to learn more about interactive tables.';\n",
              "          element.innerHTML = '';\n",
              "          dataTable['output_type'] = 'display_data';\n",
              "          await google.colab.output.renderOutput(dataTable, element);\n",
              "          const docLink = document.createElement('div');\n",
              "          docLink.innerHTML = docLinkHtml;\n",
              "          element.appendChild(docLink);\n",
              "        }\n",
              "      </script>\n",
              "    </div>\n",
              "  </div>\n",
              "  "
            ]
          },
          "metadata": {},
          "execution_count": 273
        }
      ]
    },
    {
      "cell_type": "code",
      "source": [
        "sample = Full_test.sample(1)\n",
        "print(sample.Phrase.values, '\\nPrediction: ',sample.Pred_Sentiment.map(Labels))"
      ],
      "metadata": {
        "colab": {
          "base_uri": "https://localhost:8080/"
        },
        "id": "vCcGNCqSEVLk",
        "outputId": "538a9ef9-bcee-45de-8d79-aa42d6b7bfbb"
      },
      "execution_count": null,
      "outputs": [
        {
          "output_type": "stream",
          "name": "stdout",
          "text": [
            "[\"It takes a certain kind of horror movie to qualify as ` worse than expected , ' but Ghost Ship somehow manages to do exactly that .\"] \n",
            "Prediction:  2983    somewhat negative\n",
            "Name: Pred_Sentiment, dtype: object\n"
          ]
        }
      ]
    },
    {
      "cell_type": "markdown",
      "source": [
        "This review seems negative to me. Our classfier predict to be somewhat negative. Although it is close, I think it fails to campture certain sarcasm in it."
      ],
      "metadata": {
        "id": "T_Vtt0RREbLc"
      }
    },
    {
      "cell_type": "code",
      "source": [
        "sample = Full_test.sample(1)\n",
        "print(sample.Phrase.values, '\\nPrediction: ',sample.Pred_Sentiment.map(Labels))"
      ],
      "metadata": {
        "colab": {
          "base_uri": "https://localhost:8080/"
        },
        "id": "CBIjMa77ExkQ",
        "outputId": "7a3316b3-4925-4fcc-a278-276cb1292b3e"
      },
      "execution_count": null,
      "outputs": [
        {
          "output_type": "stream",
          "name": "stdout",
          "text": [
            "[\"The acting is stiff , the story lacks all trace of wit , the sets look like they were borrowed from Gilligan 's Island -- and the CGI Scooby might well be the worst special-effects creation of the year .\"] \n",
            "Prediction:  610    negative\n",
            "Name: Pred_Sentiment, dtype: object\n"
          ]
        }
      ]
    },
    {
      "cell_type": "markdown",
      "source": [
        "This time the algorithm captures negative review correctly.\n"
      ],
      "metadata": {
        "id": "7MluwlAhFJ6n"
      }
    },
    {
      "cell_type": "code",
      "source": [
        "Full_test.Pred_Sentiment.value_counts()"
      ],
      "metadata": {
        "colab": {
          "base_uri": "https://localhost:8080/"
        },
        "id": "kYAwR4Fm7_SP",
        "outputId": "f8063826-163c-4f21-e822-6392c323e188"
      },
      "execution_count": null,
      "outputs": [
        {
          "output_type": "execute_result",
          "data": {
            "text/plain": [
              "1    2535\n",
              "0     647\n",
              "2     105\n",
              "3      23\n",
              "Name: Pred_Sentiment, dtype: int64"
            ]
          },
          "metadata": {},
          "execution_count": 274
        }
      ]
    },
    {
      "cell_type": "markdown",
      "source": [
        "Seems like the model didn't capture any positive review. I then use the model trained on vectorized full reviews. The classification report and confusion matrix indicate that although the overall accuracy score was lower, this model actually captures different labels better than the model trained on non-vectorized data."
      ],
      "metadata": {
        "id": "EbhHq8Kx-g4P"
      }
    },
    {
      "cell_type": "code",
      "source": [
        "vectorizer = CountVectorizer(stop_words='english')\n",
        "#train_test split\n",
        "X_train, X_test, y_train, y_test_full = train_test_split(Full.Phrase.values, Full.Sentiment, test_size=0.2, random_state=42)\n",
        "\n",
        "X_train_vectors = vectorizer.fit_transform(X_train)\n",
        "X_test_vectors = vectorizer.transform(x_test)\n",
        "nb = MultinomialNB()\n",
        "\n",
        "nb.fit(X_train_vectors, y_train)"
      ],
      "metadata": {
        "colab": {
          "base_uri": "https://localhost:8080/",
          "height": 75
        },
        "id": "t2NznD2D83fJ",
        "outputId": "32f971a9-b491-4101-e4ec-bd6635b27b2b"
      },
      "execution_count": null,
      "outputs": [
        {
          "output_type": "execute_result",
          "data": {
            "text/plain": [
              "MultinomialNB()"
            ],
            "text/html": [
              "<style>#sk-container-id-7 {color: black;background-color: white;}#sk-container-id-7 pre{padding: 0;}#sk-container-id-7 div.sk-toggleable {background-color: white;}#sk-container-id-7 label.sk-toggleable__label {cursor: pointer;display: block;width: 100%;margin-bottom: 0;padding: 0.3em;box-sizing: border-box;text-align: center;}#sk-container-id-7 label.sk-toggleable__label-arrow:before {content: \"▸\";float: left;margin-right: 0.25em;color: #696969;}#sk-container-id-7 label.sk-toggleable__label-arrow:hover:before {color: black;}#sk-container-id-7 div.sk-estimator:hover label.sk-toggleable__label-arrow:before {color: black;}#sk-container-id-7 div.sk-toggleable__content {max-height: 0;max-width: 0;overflow: hidden;text-align: left;background-color: #f0f8ff;}#sk-container-id-7 div.sk-toggleable__content pre {margin: 0.2em;color: black;border-radius: 0.25em;background-color: #f0f8ff;}#sk-container-id-7 input.sk-toggleable__control:checked~div.sk-toggleable__content {max-height: 200px;max-width: 100%;overflow: auto;}#sk-container-id-7 input.sk-toggleable__control:checked~label.sk-toggleable__label-arrow:before {content: \"▾\";}#sk-container-id-7 div.sk-estimator input.sk-toggleable__control:checked~label.sk-toggleable__label {background-color: #d4ebff;}#sk-container-id-7 div.sk-label input.sk-toggleable__control:checked~label.sk-toggleable__label {background-color: #d4ebff;}#sk-container-id-7 input.sk-hidden--visually {border: 0;clip: rect(1px 1px 1px 1px);clip: rect(1px, 1px, 1px, 1px);height: 1px;margin: -1px;overflow: hidden;padding: 0;position: absolute;width: 1px;}#sk-container-id-7 div.sk-estimator {font-family: monospace;background-color: #f0f8ff;border: 1px dotted black;border-radius: 0.25em;box-sizing: border-box;margin-bottom: 0.5em;}#sk-container-id-7 div.sk-estimator:hover {background-color: #d4ebff;}#sk-container-id-7 div.sk-parallel-item::after {content: \"\";width: 100%;border-bottom: 1px solid gray;flex-grow: 1;}#sk-container-id-7 div.sk-label:hover label.sk-toggleable__label {background-color: #d4ebff;}#sk-container-id-7 div.sk-serial::before {content: \"\";position: absolute;border-left: 1px solid gray;box-sizing: border-box;top: 0;bottom: 0;left: 50%;z-index: 0;}#sk-container-id-7 div.sk-serial {display: flex;flex-direction: column;align-items: center;background-color: white;padding-right: 0.2em;padding-left: 0.2em;position: relative;}#sk-container-id-7 div.sk-item {position: relative;z-index: 1;}#sk-container-id-7 div.sk-parallel {display: flex;align-items: stretch;justify-content: center;background-color: white;position: relative;}#sk-container-id-7 div.sk-item::before, #sk-container-id-7 div.sk-parallel-item::before {content: \"\";position: absolute;border-left: 1px solid gray;box-sizing: border-box;top: 0;bottom: 0;left: 50%;z-index: -1;}#sk-container-id-7 div.sk-parallel-item {display: flex;flex-direction: column;z-index: 1;position: relative;background-color: white;}#sk-container-id-7 div.sk-parallel-item:first-child::after {align-self: flex-end;width: 50%;}#sk-container-id-7 div.sk-parallel-item:last-child::after {align-self: flex-start;width: 50%;}#sk-container-id-7 div.sk-parallel-item:only-child::after {width: 0;}#sk-container-id-7 div.sk-dashed-wrapped {border: 1px dashed gray;margin: 0 0.4em 0.5em 0.4em;box-sizing: border-box;padding-bottom: 0.4em;background-color: white;}#sk-container-id-7 div.sk-label label {font-family: monospace;font-weight: bold;display: inline-block;line-height: 1.2em;}#sk-container-id-7 div.sk-label-container {text-align: center;}#sk-container-id-7 div.sk-container {/* jupyter's `normalize.less` sets `[hidden] { display: none; }` but bootstrap.min.css set `[hidden] { display: none !important; }` so we also need the `!important` here to be able to override the default hidden behavior on the sphinx rendered scikit-learn.org. See: https://github.com/scikit-learn/scikit-learn/issues/21755 */display: inline-block !important;position: relative;}#sk-container-id-7 div.sk-text-repr-fallback {display: none;}</style><div id=\"sk-container-id-7\" class=\"sk-top-container\"><div class=\"sk-text-repr-fallback\"><pre>MultinomialNB()</pre><b>In a Jupyter environment, please rerun this cell to show the HTML representation or trust the notebook. <br />On GitHub, the HTML representation is unable to render, please try loading this page with nbviewer.org.</b></div><div class=\"sk-container\" hidden><div class=\"sk-item\"><div class=\"sk-estimator sk-toggleable\"><input class=\"sk-toggleable__control sk-hidden--visually\" id=\"sk-estimator-id-13\" type=\"checkbox\" checked><label for=\"sk-estimator-id-13\" class=\"sk-toggleable__label sk-toggleable__label-arrow\">MultinomialNB</label><div class=\"sk-toggleable__content\"><pre>MultinomialNB()</pre></div></div></div></div></div>"
            ]
          },
          "metadata": {},
          "execution_count": 220
        }
      ]
    },
    {
      "cell_type": "code",
      "source": [
        "y_test = nb.predict(X_test_vectors)"
      ],
      "metadata": {
        "id": "AI0MLLjY87Tb"
      },
      "execution_count": null,
      "outputs": []
    },
    {
      "cell_type": "code",
      "source": [
        "Full_test['Pred_Sentiment'] = y_test"
      ],
      "metadata": {
        "id": "b3FTErml9Qv0"
      },
      "execution_count": null,
      "outputs": []
    },
    {
      "cell_type": "code",
      "source": [
        "Full_test.head(10)"
      ],
      "metadata": {
        "colab": {
          "base_uri": "https://localhost:8080/",
          "height": 363
        },
        "id": "JPXjwHj6-8KZ",
        "outputId": "e4b20e2a-f9d8-41c6-e7a6-e979578ae2e6"
      },
      "execution_count": null,
      "outputs": [
        {
          "output_type": "execute_result",
          "data": {
            "text/plain": [
              "   SentenceId  PhraseId                                             Phrase  \\\n",
              "0        8545    156061  An intermittently pleasing but mostly routine ...   \n",
              "1        8546    156076  Kidman is really the only thing that 's worth ...   \n",
              "2        8547    156154  Once you get into its rhythm ... the movie bec...   \n",
              "3        8548    156178  I kept wishing I was watching a documentary ab...   \n",
              "4        8549    156219  Kinnear does n't aim for our sympathy , but ra...   \n",
              "5        8550    156250  All ends well , sort of , but the frenzied com...   \n",
              "6        8551    156272  It 's a hoot and a half , and a great way for ...   \n",
              "7        8552    156324  The weight of the piece , the unerring profess...   \n",
              "8        8553    156362  The film contains no good jokes , no good scen...   \n",
              "9        8554    156405  An offbeat , sometimes gross and surprisingly ...   \n",
              "\n",
              "   Pred_Sentiment  \n",
              "0               3  \n",
              "1               3  \n",
              "2               3  \n",
              "3               1  \n",
              "4               4  \n",
              "5               1  \n",
              "6               3  \n",
              "7               3  \n",
              "8               1  \n",
              "9               3  "
            ],
            "text/html": [
              "\n",
              "  <div id=\"df-ae190b54-71f9-4af1-84a7-659f5e6d0673\">\n",
              "    <div class=\"colab-df-container\">\n",
              "      <div>\n",
              "<style scoped>\n",
              "    .dataframe tbody tr th:only-of-type {\n",
              "        vertical-align: middle;\n",
              "    }\n",
              "\n",
              "    .dataframe tbody tr th {\n",
              "        vertical-align: top;\n",
              "    }\n",
              "\n",
              "    .dataframe thead th {\n",
              "        text-align: right;\n",
              "    }\n",
              "</style>\n",
              "<table border=\"1\" class=\"dataframe\">\n",
              "  <thead>\n",
              "    <tr style=\"text-align: right;\">\n",
              "      <th></th>\n",
              "      <th>SentenceId</th>\n",
              "      <th>PhraseId</th>\n",
              "      <th>Phrase</th>\n",
              "      <th>Pred_Sentiment</th>\n",
              "    </tr>\n",
              "  </thead>\n",
              "  <tbody>\n",
              "    <tr>\n",
              "      <th>0</th>\n",
              "      <td>8545</td>\n",
              "      <td>156061</td>\n",
              "      <td>An intermittently pleasing but mostly routine ...</td>\n",
              "      <td>3</td>\n",
              "    </tr>\n",
              "    <tr>\n",
              "      <th>1</th>\n",
              "      <td>8546</td>\n",
              "      <td>156076</td>\n",
              "      <td>Kidman is really the only thing that 's worth ...</td>\n",
              "      <td>3</td>\n",
              "    </tr>\n",
              "    <tr>\n",
              "      <th>2</th>\n",
              "      <td>8547</td>\n",
              "      <td>156154</td>\n",
              "      <td>Once you get into its rhythm ... the movie bec...</td>\n",
              "      <td>3</td>\n",
              "    </tr>\n",
              "    <tr>\n",
              "      <th>3</th>\n",
              "      <td>8548</td>\n",
              "      <td>156178</td>\n",
              "      <td>I kept wishing I was watching a documentary ab...</td>\n",
              "      <td>1</td>\n",
              "    </tr>\n",
              "    <tr>\n",
              "      <th>4</th>\n",
              "      <td>8549</td>\n",
              "      <td>156219</td>\n",
              "      <td>Kinnear does n't aim for our sympathy , but ra...</td>\n",
              "      <td>4</td>\n",
              "    </tr>\n",
              "    <tr>\n",
              "      <th>5</th>\n",
              "      <td>8550</td>\n",
              "      <td>156250</td>\n",
              "      <td>All ends well , sort of , but the frenzied com...</td>\n",
              "      <td>1</td>\n",
              "    </tr>\n",
              "    <tr>\n",
              "      <th>6</th>\n",
              "      <td>8551</td>\n",
              "      <td>156272</td>\n",
              "      <td>It 's a hoot and a half , and a great way for ...</td>\n",
              "      <td>3</td>\n",
              "    </tr>\n",
              "    <tr>\n",
              "      <th>7</th>\n",
              "      <td>8552</td>\n",
              "      <td>156324</td>\n",
              "      <td>The weight of the piece , the unerring profess...</td>\n",
              "      <td>3</td>\n",
              "    </tr>\n",
              "    <tr>\n",
              "      <th>8</th>\n",
              "      <td>8553</td>\n",
              "      <td>156362</td>\n",
              "      <td>The film contains no good jokes , no good scen...</td>\n",
              "      <td>1</td>\n",
              "    </tr>\n",
              "    <tr>\n",
              "      <th>9</th>\n",
              "      <td>8554</td>\n",
              "      <td>156405</td>\n",
              "      <td>An offbeat , sometimes gross and surprisingly ...</td>\n",
              "      <td>3</td>\n",
              "    </tr>\n",
              "  </tbody>\n",
              "</table>\n",
              "</div>\n",
              "      <button class=\"colab-df-convert\" onclick=\"convertToInteractive('df-ae190b54-71f9-4af1-84a7-659f5e6d0673')\"\n",
              "              title=\"Convert this dataframe to an interactive table.\"\n",
              "              style=\"display:none;\">\n",
              "        \n",
              "  <svg xmlns=\"http://www.w3.org/2000/svg\" height=\"24px\"viewBox=\"0 0 24 24\"\n",
              "       width=\"24px\">\n",
              "    <path d=\"M0 0h24v24H0V0z\" fill=\"none\"/>\n",
              "    <path d=\"M18.56 5.44l.94 2.06.94-2.06 2.06-.94-2.06-.94-.94-2.06-.94 2.06-2.06.94zm-11 1L8.5 8.5l.94-2.06 2.06-.94-2.06-.94L8.5 2.5l-.94 2.06-2.06.94zm10 10l.94 2.06.94-2.06 2.06-.94-2.06-.94-.94-2.06-.94 2.06-2.06.94z\"/><path d=\"M17.41 7.96l-1.37-1.37c-.4-.4-.92-.59-1.43-.59-.52 0-1.04.2-1.43.59L10.3 9.45l-7.72 7.72c-.78.78-.78 2.05 0 2.83L4 21.41c.39.39.9.59 1.41.59.51 0 1.02-.2 1.41-.59l7.78-7.78 2.81-2.81c.8-.78.8-2.07 0-2.86zM5.41 20L4 18.59l7.72-7.72 1.47 1.35L5.41 20z\"/>\n",
              "  </svg>\n",
              "      </button>\n",
              "      \n",
              "  <style>\n",
              "    .colab-df-container {\n",
              "      display:flex;\n",
              "      flex-wrap:wrap;\n",
              "      gap: 12px;\n",
              "    }\n",
              "\n",
              "    .colab-df-convert {\n",
              "      background-color: #E8F0FE;\n",
              "      border: none;\n",
              "      border-radius: 50%;\n",
              "      cursor: pointer;\n",
              "      display: none;\n",
              "      fill: #1967D2;\n",
              "      height: 32px;\n",
              "      padding: 0 0 0 0;\n",
              "      width: 32px;\n",
              "    }\n",
              "\n",
              "    .colab-df-convert:hover {\n",
              "      background-color: #E2EBFA;\n",
              "      box-shadow: 0px 1px 2px rgba(60, 64, 67, 0.3), 0px 1px 3px 1px rgba(60, 64, 67, 0.15);\n",
              "      fill: #174EA6;\n",
              "    }\n",
              "\n",
              "    [theme=dark] .colab-df-convert {\n",
              "      background-color: #3B4455;\n",
              "      fill: #D2E3FC;\n",
              "    }\n",
              "\n",
              "    [theme=dark] .colab-df-convert:hover {\n",
              "      background-color: #434B5C;\n",
              "      box-shadow: 0px 1px 3px 1px rgba(0, 0, 0, 0.15);\n",
              "      filter: drop-shadow(0px 1px 2px rgba(0, 0, 0, 0.3));\n",
              "      fill: #FFFFFF;\n",
              "    }\n",
              "  </style>\n",
              "\n",
              "      <script>\n",
              "        const buttonEl =\n",
              "          document.querySelector('#df-ae190b54-71f9-4af1-84a7-659f5e6d0673 button.colab-df-convert');\n",
              "        buttonEl.style.display =\n",
              "          google.colab.kernel.accessAllowed ? 'block' : 'none';\n",
              "\n",
              "        async function convertToInteractive(key) {\n",
              "          const element = document.querySelector('#df-ae190b54-71f9-4af1-84a7-659f5e6d0673');\n",
              "          const dataTable =\n",
              "            await google.colab.kernel.invokeFunction('convertToInteractive',\n",
              "                                                     [key], {});\n",
              "          if (!dataTable) return;\n",
              "\n",
              "          const docLinkHtml = 'Like what you see? Visit the ' +\n",
              "            '<a target=\"_blank\" href=https://colab.research.google.com/notebooks/data_table.ipynb>data table notebook</a>'\n",
              "            + ' to learn more about interactive tables.';\n",
              "          element.innerHTML = '';\n",
              "          dataTable['output_type'] = 'display_data';\n",
              "          await google.colab.output.renderOutput(dataTable, element);\n",
              "          const docLink = document.createElement('div');\n",
              "          docLink.innerHTML = docLinkHtml;\n",
              "          element.appendChild(docLink);\n",
              "        }\n",
              "      </script>\n",
              "    </div>\n",
              "  </div>\n",
              "  "
            ]
          },
          "metadata": {},
          "execution_count": 225
        }
      ]
    },
    {
      "cell_type": "code",
      "source": [
        "Full_test.Pred_Sentiment.value_counts()"
      ],
      "metadata": {
        "id": "go2mk7zyESZL"
      },
      "execution_count": null,
      "outputs": []
    },
    {
      "cell_type": "markdown",
      "source": [
        "I will sample a few entries and see if the model predict the correct sentiment."
      ],
      "metadata": {
        "id": "XNkIeKho-_iA"
      }
    },
    {
      "cell_type": "code",
      "source": [
        "sample = Full_test.sample(1)\n",
        "print(sample.Phrase.values, '\\nPrediction: ',sample.Pred_Sentiment.map(Labels))"
      ],
      "metadata": {
        "colab": {
          "base_uri": "https://localhost:8080/"
        },
        "id": "Jsio_BHA-B5K",
        "outputId": "26e0ac4e-5f8b-4419-81ce-2de1ec89009b"
      },
      "execution_count": null,
      "outputs": [
        {
          "output_type": "stream",
          "name": "stdout",
          "text": [
            "[\"The creaking , rusty ship makes a fine backdrop , but the ghosts ' haunting is routine .\"] \n",
            "Prediction:  3297    positive\n",
            "Name: Pred_Sentiment, dtype: object\n"
          ]
        }
      ]
    },
    {
      "cell_type": "markdown",
      "source": [
        "I don't think this is predicting correctly. This review sounds like somewhat negative. I am guessing the \"fine\" in the review make my classfier think that it is a positive review.\n",
        "\n",
        "I will try to sample another one:"
      ],
      "metadata": {
        "id": "1IkU7npUAcLP"
      }
    },
    {
      "cell_type": "code",
      "source": [
        "sample = Full_test.sample(1)\n",
        "print(sample.Phrase.values, '\\nPrediction: ',sample.Pred_Sentiment.map(Labels))"
      ],
      "metadata": {
        "colab": {
          "base_uri": "https://localhost:8080/"
        },
        "id": "PpfSjQllBBL_",
        "outputId": "c0c761ac-d51f-47c7-dfaa-9799ae0642bd"
      },
      "execution_count": null,
      "outputs": [
        {
          "output_type": "stream",
          "name": "stdout",
          "text": [
            "[\"It 's best to avoid imprisonment with the dull , nerdy folks that inhabit Cherish .\"] \n",
            "Prediction:  625    neutral\n",
            "Name: Pred_Sentiment, dtype: object\n"
          ]
        }
      ]
    },
    {
      "cell_type": "markdown",
      "source": [
        "I think this sentence is negative and my classifier predict it to be neutral."
      ],
      "metadata": {
        "id": "-QAVLvdNBkKS"
      }
    },
    {
      "cell_type": "markdown",
      "source": [
        "Let's see how the model I trained on all the phrases perform."
      ],
      "metadata": {
        "id": "de3MTmciCogS"
      }
    },
    {
      "cell_type": "code",
      "source": [
        "nb = NaiveBayesClassifier()\n",
        "X_train, X_test, y_train, y_test = train_test_split(x_phrase, y_phrase, test_size=0.2, random_state=42)\n",
        "nb.train(zip(X_train, y_train))"
      ],
      "metadata": {
        "id": "4g6Bzs66Cdf3"
      },
      "execution_count": null,
      "outputs": []
    },
    {
      "cell_type": "code",
      "source": [
        "x_test = test_df.Phrase.values"
      ],
      "metadata": {
        "id": "hyO10H3VC6of"
      },
      "execution_count": null,
      "outputs": []
    },
    {
      "cell_type": "code",
      "source": [
        "y_test=[]\n",
        "for text in x_test:\n",
        "    pred = nb.predict(text)\n",
        "    y_test.append(pred)"
      ],
      "metadata": {
        "id": "JNYnccjWDK3A"
      },
      "execution_count": null,
      "outputs": []
    },
    {
      "cell_type": "code",
      "source": [
        "test_df['Pred_Sentiment'] = y_test"
      ],
      "metadata": {
        "id": "99zjTfBeFjIt"
      },
      "execution_count": null,
      "outputs": []
    },
    {
      "cell_type": "markdown",
      "source": [
        "let's try to see if this model can classfy the reviews that were wrongly classfied in last two models."
      ],
      "metadata": {
        "id": "WZaeFpVHGBoR"
      }
    },
    {
      "cell_type": "code",
      "source": [
        "first_match = test_df.loc[test_df['Phrase'].str.contains(\"The creaking , rusty ship makes a fine backdrop , but the ghosts ' haunting is routine .\", na=False)].iloc[0]\n",
        "print(first_match.Phrase, '\\nPrediction: ',Labels[first_match.Pred_Sentiment])"
      ],
      "metadata": {
        "colab": {
          "base_uri": "https://localhost:8080/"
        },
        "id": "O1_Vz9ngFo4I",
        "outputId": "22549c75-90cf-45c7-9213-be1eea6ab480"
      },
      "execution_count": null,
      "outputs": [
        {
          "output_type": "stream",
          "name": "stdout",
          "text": [
            "The creaking , rusty ship makes a fine backdrop , but the ghosts ' haunting is routine . \n",
            "Prediction:  neutral\n"
          ]
        }
      ]
    },
    {
      "cell_type": "markdown",
      "source": [
        "This classification is more correct than the previous one. But this classfier obviously tends to classify everythin to be neutral."
      ],
      "metadata": {
        "id": "eSO6-x_uHaeA"
      }
    },
    {
      "cell_type": "code",
      "source": [
        "first_match = test_df.loc[test_df['Phrase'].str.contains(\"It 's best to avoid imprisonment with the dull , nerdy folks that inhabit Cherish .\", na=False)].iloc[0]\n",
        "print(first_match.Phrase, '\\nPrediction: ',Labels[first_match.Pred_Sentiment])"
      ],
      "metadata": {
        "colab": {
          "base_uri": "https://localhost:8080/"
        },
        "id": "U9rIQOHmHuCv",
        "outputId": "a7c6763a-3d29-415f-f1da-e053e44e67d3"
      },
      "execution_count": null,
      "outputs": [
        {
          "output_type": "stream",
          "name": "stdout",
          "text": [
            "It 's best to avoid imprisonment with the dull , nerdy folks that inhabit Cherish . \n",
            "Prediction:  neutral\n"
          ]
        }
      ]
    },
    {
      "cell_type": "markdown",
      "metadata": {
        "id": "7va3TC-JIp17"
      },
      "source": [
        "## Section 6: Summary\n",
        "\n"
      ]
    },
    {
      "cell_type": "markdown",
      "source": [
        "The naive bayes model trained on full reviews achieced an validation accuracy of  0.40\n",
        "\n",
        "The model trained with vectorized phrase achieve an accuracy with: 0.38\n",
        "\n",
        "The model trained with text vectorized by tfidfvectorizer achieve an accuracy with: 0.39\n",
        "\n",
        "The naive bayes model trained on phrases achieced an accuracy of  0.57\n",
        "\n",
        "The model trained with vectorized phrase achieve an accuracy with: 0.61\n"
      ],
      "metadata": {
        "id": "ctpJvUDiMoY1"
      }
    },
    {
      "cell_type": "markdown",
      "source": [
        "\n",
        "\n",
        "The models I trained with full reviews tend to classify reviews into somewhat negative and somewhat positive. They have a hard time identify neutral, positive and negative reviews. This is probably influenced by the training data containing more somewhat positive and negative labels which is indicated in the first section of this notebook. The model trained with vectorized data is able to recognize more varieties of labels although it scores lower on the overall accuracy. In the confusion matrix, we see that it is able to detect more neutral, positive and negative reviews, although the number is still low. The model I trained with phrases tend to classify things into neutral, because the labels are predominantly neutral. The model I trained with vectorized phrase is better at detecting positive and negative reviews, which is similar to the model I trained with vectorized full reviews."
      ],
      "metadata": {
        "id": "rtTZGP7Lk3kW"
      }
    },
    {
      "cell_type": "markdown",
      "source": [
        "The strength of Naive Bayes models is that they runs fast, takes little momery space and they are easy to implement."
      ],
      "metadata": {
        "id": "v9I3v23XNSzJ"
      }
    },
    {
      "cell_type": "markdown",
      "source": [
        "The assumption of a naive bayes model is the sentiment every word entails is independent of other words in the sentence/text, but it is not the case in reality. Sometimes we find while a individual word in a sentence is positive, the whole sentence entail negative sentiment. Naive Bayes would fail on such sentiment classfication becuase it is looking every word in a sentence independently instead of understanding the sentence as a whole."
      ],
      "metadata": {
        "id": "061hiEPHN3MU"
      }
    },
    {
      "cell_type": "markdown",
      "source": [
        "I think Naive Bayes is a popular model because it is easy to implement and runs fast. It can still work in many cases when the assumption of independence is true. For example, when I used the naive bayes model on phrases, it achieve higher accuracy because for shorter phrase the assumption of naive bayes model holds true.  "
      ],
      "metadata": {
        "id": "N2bGqZyCDAwN"
      }
    }
  ],
  "metadata": {
    "kernelspec": {
      "display_name": "venv",
      "language": "python",
      "name": "python3"
    },
    "language_info": {
      "codemirror_mode": {
        "name": "ipython",
        "version": 3
      },
      "file_extension": ".py",
      "mimetype": "text/x-python",
      "name": "python",
      "nbconvert_exporter": "python",
      "pygments_lexer": "ipython3",
      "version": "3.10.6"
    },
    "orig_nbformat": 4,
    "colab": {
      "provenance": []
    }
  },
  "nbformat": 4,
  "nbformat_minor": 0
}